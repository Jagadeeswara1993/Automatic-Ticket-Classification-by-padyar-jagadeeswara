{
 "cells": [
  {
   "cell_type": "markdown",
   "metadata": {},
   "source": [
    "# Objective: To build a model for automatic ticket classification.\n",
    "* For any service providing company, customer complaints carry a lot of importance, as they are often an indicator of the shortcomings in their products and services. If these complaints are resolved efficiently in time, they can bring down customer dissatisfaction and thus ultimately reduce reduce customer churn. This also provides an intuition to decision makers of how to improve their services to attract more customers. \n",
    "* These customer complaints are unstructured text data. so, traditionally, companies need to have dedicated team by investing not only in capital but also a lot of time for the task of evaluating and assigning each ticket to the relevant department with . This process becomes tedious and slow as the company grows and customer base gets larger.\n",
    "* Our objective is to automate this process by creating a model that can automatically classify customer complaints based on the products and services that the ticket mentions.\n",
    "* Since our data is text which is unstructured, we will take help of nlp.\n",
    "* We will segment our task into two groups:\n",
    "    * Topic modelling (Unsupervised learning): Since this data (i.e. Customer complaints) is not labelled, we need to do Topic modelling for finding latent themes/topics present in the corpora so that we can later map each ticket onto its respective department/category.\n",
    "    * Text classification (supervised learning): After finding latent themes/topics present in the corpora we need to classify tickets into the following five clusters based on their products/services:\n",
    "        * Credit card / Prepaid card\n",
    "        * Bank account services\n",
    "        * Theft/Dispute reporting\n",
    "        * Mortgages/loans\n",
    "        * Others "
   ]
  },
  {
   "cell_type": "markdown",
   "metadata": {},
   "source": [
    "## INDEX\n",
    "\n",
    "* [Data loading](#Data-loading)\n",
    "* [Text preprocessing](#Text-preprocessing)\n",
    "* [Exploratory data analysis (EDA)](#Exploratory-data-analysis-(EDA))\n",
    "* [Feature extraction](#Feature-extraction)\n",
    "* [Topic modelling](#Topic-modelling)\n",
    "* [Model building using supervised learning](#Model-building-using-supervised-learning)\n",
    "* [Model training and evaluation](#Model-training-and-evaluation)\n",
    "    * [Logistic regression](#Logistic-regression)\n",
    "    * [Decision Tree](#Decision-Tree)\n",
    "    * [Random Forest](#Random-Forest)\n",
    "    * [Naive Bayes](#Naive-Bayes)\n",
    "* [Model inference](#Model-inference)    \n",
    "* [Conclusion](#Conclusion)"
   ]
  },
  {
   "cell_type": "markdown",
   "metadata": {
    "id": "JuLFIymAL58u"
   },
   "source": [
    "#### Importing the necessary libraries"
   ]
  },
  {
   "cell_type": "code",
   "execution_count": 1,
   "metadata": {},
   "outputs": [],
   "source": [
    "# !pip install swifter    ## Installing swifter for reducing runtime.\n",
    "# !python -m spacy download en_core_web_sm     ## Installing en_core_web_sm model from spacy module for nlp."
   ]
  },
  {
   "cell_type": "code",
   "execution_count": 2,
   "metadata": {
    "id": "O-Q9pqrcJrFr"
   },
   "outputs": [],
   "source": [
    "# Liabraries for general data processing:\n",
    "import json \n",
    "import numpy as np\n",
    "import pandas as pd\n",
    "import swifter\n",
    "import copy\n",
    "from collections import Counter\n",
    "from operator import itemgetter\n",
    "import pickle\n",
    "\n",
    "# Liabraries for nlp related data processing\n",
    "import re, nltk, spacy, string\n",
    "import en_core_web_sm\n",
    "nlp = en_core_web_sm.load(disable=['parser','ner'])\n",
    "from sklearn.feature_extraction.text import CountVectorizer, TfidfVectorizer\n",
    "from sklearn.feature_extraction.text import TfidfTransformer\n",
    "from nltk.corpus import stopwords\n",
    "from wordcloud import WordCloud\n",
    "from sklearn.decomposition import NMF\n",
    "from gensim.models.coherencemodel import CoherenceModel\n",
    "from gensim.corpora.dictionary import Dictionary\n",
    "from gensim.models.nmf import Nmf\n",
    "\n",
    "# Liabraries for model training and metric evalution:\n",
    "from sklearn.model_selection import train_test_split,GridSearchCV\n",
    "from sklearn.linear_model import LogisticRegression\n",
    "from sklearn.ensemble import RandomForestClassifier\n",
    "from sklearn.naive_bayes import MultinomialNB\n",
    "from sklearn.metrics import confusion_matrix\n",
    "from sklearn import metrics\n",
    "from sklearn.metrics import accuracy_score, classification_report\n",
    "from sklearn.tree import DecisionTreeClassifier\n",
    "\n",
    "# Liabraries for data visualization:\n",
    "import seaborn as sns\n",
    "import matplotlib.pyplot as plt\n",
    "%matplotlib inline"
   ]
  },
  {
   "cell_type": "code",
   "execution_count": 3,
   "metadata": {},
   "outputs": [],
   "source": [
    "# from plotly.offline import plot\n",
    "# import plotly.graph_objects as go\n",
    "# import plotly.express as px"
   ]
  },
  {
   "cell_type": "code",
   "execution_count": 4,
   "metadata": {},
   "outputs": [],
   "source": [
    "def plot(df,n_gram):            # Function to plot top n-gram words with their frequency.\n",
    "    sns.barplot(y='n_gram',x='frequency',data=df.head(10))\n",
    "    plt.xticks(rotation=90)\n",
    "    plt.ylabel(n_gram)\n",
    "    plt.title(f'top 10 {n_gram}')\n",
    "    plt.show()"
   ]
  },
  {
   "cell_type": "markdown",
   "metadata": {
    "id": "KtRLCsNVJrFt"
   },
   "source": [
    "## Data loading\n",
    "The data is in JSON format and we need to convert it to a dataframe."
   ]
  },
  {
   "cell_type": "code",
   "execution_count": 5,
   "metadata": {
    "id": "puVzIf_iJrFt"
   },
   "outputs": [],
   "source": [
    "# Loading JSON file \n",
    "with open(r'C:\\Users\\ADMIN\\Downloads\\complaints-2021-05-14_08_16.json', 'r') as dataset:\n",
    "    data = json.load(dataset)\n",
    "\n",
    "# converting JSON file to a dataframe    \n",
    "df=pd.json_normalize(data)"
   ]
  },
  {
   "cell_type": "markdown",
   "metadata": {
    "id": "_xYpH-sAJrFu"
   },
   "source": [
    "## Data preparation\n",
    "Although other parts of email-body such as subject lines are also useful for email classification, We will primarily focus on main email content (i.e. complaint) in this case."
   ]
  },
  {
   "cell_type": "code",
   "execution_count": 6,
   "metadata": {
    "id": "Lf8ufHH5JrFu"
   },
   "outputs": [
    {
     "data": {
      "text/html": [
       "<div>\n",
       "<style scoped>\n",
       "    .dataframe tbody tr th:only-of-type {\n",
       "        vertical-align: middle;\n",
       "    }\n",
       "\n",
       "    .dataframe tbody tr th {\n",
       "        vertical-align: top;\n",
       "    }\n",
       "\n",
       "    .dataframe thead th {\n",
       "        text-align: right;\n",
       "    }\n",
       "</style>\n",
       "<table border=\"1\" class=\"dataframe\">\n",
       "  <thead>\n",
       "    <tr style=\"text-align: right;\">\n",
       "      <th></th>\n",
       "      <th>_index</th>\n",
       "      <th>_type</th>\n",
       "      <th>_id</th>\n",
       "      <th>_score</th>\n",
       "      <th>_source.tags</th>\n",
       "      <th>_source.zip_code</th>\n",
       "      <th>_source.complaint_id</th>\n",
       "      <th>_source.issue</th>\n",
       "      <th>_source.date_received</th>\n",
       "      <th>_source.state</th>\n",
       "      <th>...</th>\n",
       "      <th>_source.company_response</th>\n",
       "      <th>_source.company</th>\n",
       "      <th>_source.submitted_via</th>\n",
       "      <th>_source.date_sent_to_company</th>\n",
       "      <th>_source.company_public_response</th>\n",
       "      <th>_source.sub_product</th>\n",
       "      <th>_source.timely</th>\n",
       "      <th>_source.complaint_what_happened</th>\n",
       "      <th>_source.sub_issue</th>\n",
       "      <th>_source.consumer_consent_provided</th>\n",
       "    </tr>\n",
       "  </thead>\n",
       "  <tbody>\n",
       "    <tr>\n",
       "      <th>0</th>\n",
       "      <td>complaint-public-v2</td>\n",
       "      <td>complaint</td>\n",
       "      <td>3211475</td>\n",
       "      <td>0.0</td>\n",
       "      <td>None</td>\n",
       "      <td>90301</td>\n",
       "      <td>3211475</td>\n",
       "      <td>Attempts to collect debt not owed</td>\n",
       "      <td>2019-04-13T12:00:00-05:00</td>\n",
       "      <td>CA</td>\n",
       "      <td>...</td>\n",
       "      <td>Closed with explanation</td>\n",
       "      <td>JPMORGAN CHASE &amp; CO.</td>\n",
       "      <td>Web</td>\n",
       "      <td>2019-04-13T12:00:00-05:00</td>\n",
       "      <td>None</td>\n",
       "      <td>Credit card debt</td>\n",
       "      <td>Yes</td>\n",
       "      <td></td>\n",
       "      <td>Debt is not yours</td>\n",
       "      <td>Consent not provided</td>\n",
       "    </tr>\n",
       "    <tr>\n",
       "      <th>1</th>\n",
       "      <td>complaint-public-v2</td>\n",
       "      <td>complaint</td>\n",
       "      <td>3229299</td>\n",
       "      <td>0.0</td>\n",
       "      <td>Servicemember</td>\n",
       "      <td>319XX</td>\n",
       "      <td>3229299</td>\n",
       "      <td>Written notification about debt</td>\n",
       "      <td>2019-05-01T12:00:00-05:00</td>\n",
       "      <td>GA</td>\n",
       "      <td>...</td>\n",
       "      <td>Closed with explanation</td>\n",
       "      <td>JPMORGAN CHASE &amp; CO.</td>\n",
       "      <td>Web</td>\n",
       "      <td>2019-05-01T12:00:00-05:00</td>\n",
       "      <td>None</td>\n",
       "      <td>Credit card debt</td>\n",
       "      <td>Yes</td>\n",
       "      <td>Good morning my name is XXXX XXXX and I apprec...</td>\n",
       "      <td>Didn't receive enough information to verify debt</td>\n",
       "      <td>Consent provided</td>\n",
       "    </tr>\n",
       "    <tr>\n",
       "      <th>2</th>\n",
       "      <td>complaint-public-v2</td>\n",
       "      <td>complaint</td>\n",
       "      <td>3199379</td>\n",
       "      <td>0.0</td>\n",
       "      <td>None</td>\n",
       "      <td>77069</td>\n",
       "      <td>3199379</td>\n",
       "      <td>Other features, terms, or problems</td>\n",
       "      <td>2019-04-02T12:00:00-05:00</td>\n",
       "      <td>TX</td>\n",
       "      <td>...</td>\n",
       "      <td>Closed with explanation</td>\n",
       "      <td>JPMORGAN CHASE &amp; CO.</td>\n",
       "      <td>Web</td>\n",
       "      <td>2019-04-02T12:00:00-05:00</td>\n",
       "      <td>None</td>\n",
       "      <td>General-purpose credit card or charge card</td>\n",
       "      <td>Yes</td>\n",
       "      <td>I upgraded my XXXX XXXX card in XX/XX/2018 and...</td>\n",
       "      <td>Problem with rewards from credit card</td>\n",
       "      <td>Consent provided</td>\n",
       "    </tr>\n",
       "    <tr>\n",
       "      <th>3</th>\n",
       "      <td>complaint-public-v2</td>\n",
       "      <td>complaint</td>\n",
       "      <td>2673060</td>\n",
       "      <td>0.0</td>\n",
       "      <td>None</td>\n",
       "      <td>48066</td>\n",
       "      <td>2673060</td>\n",
       "      <td>Trouble during payment process</td>\n",
       "      <td>2017-09-13T12:00:00-05:00</td>\n",
       "      <td>MI</td>\n",
       "      <td>...</td>\n",
       "      <td>Closed with explanation</td>\n",
       "      <td>JPMORGAN CHASE &amp; CO.</td>\n",
       "      <td>Web</td>\n",
       "      <td>2017-09-14T12:00:00-05:00</td>\n",
       "      <td>None</td>\n",
       "      <td>Conventional home mortgage</td>\n",
       "      <td>Yes</td>\n",
       "      <td></td>\n",
       "      <td>None</td>\n",
       "      <td>Consent not provided</td>\n",
       "    </tr>\n",
       "    <tr>\n",
       "      <th>4</th>\n",
       "      <td>complaint-public-v2</td>\n",
       "      <td>complaint</td>\n",
       "      <td>3203545</td>\n",
       "      <td>0.0</td>\n",
       "      <td>None</td>\n",
       "      <td>10473</td>\n",
       "      <td>3203545</td>\n",
       "      <td>Fees or interest</td>\n",
       "      <td>2019-04-05T12:00:00-05:00</td>\n",
       "      <td>NY</td>\n",
       "      <td>...</td>\n",
       "      <td>Closed with explanation</td>\n",
       "      <td>JPMORGAN CHASE &amp; CO.</td>\n",
       "      <td>Referral</td>\n",
       "      <td>2019-04-05T12:00:00-05:00</td>\n",
       "      <td>None</td>\n",
       "      <td>General-purpose credit card or charge card</td>\n",
       "      <td>Yes</td>\n",
       "      <td></td>\n",
       "      <td>Charged too much interest</td>\n",
       "      <td>N/A</td>\n",
       "    </tr>\n",
       "  </tbody>\n",
       "</table>\n",
       "<p>5 rows × 22 columns</p>\n",
       "</div>"
      ],
      "text/plain": [
       "                _index      _type      _id  _score   _source.tags  \\\n",
       "0  complaint-public-v2  complaint  3211475     0.0           None   \n",
       "1  complaint-public-v2  complaint  3229299     0.0  Servicemember   \n",
       "2  complaint-public-v2  complaint  3199379     0.0           None   \n",
       "3  complaint-public-v2  complaint  2673060     0.0           None   \n",
       "4  complaint-public-v2  complaint  3203545     0.0           None   \n",
       "\n",
       "  _source.zip_code _source.complaint_id                       _source.issue  \\\n",
       "0            90301              3211475   Attempts to collect debt not owed   \n",
       "1            319XX              3229299     Written notification about debt   \n",
       "2            77069              3199379  Other features, terms, or problems   \n",
       "3            48066              2673060      Trouble during payment process   \n",
       "4            10473              3203545                    Fees or interest   \n",
       "\n",
       "       _source.date_received _source.state  ... _source.company_response  \\\n",
       "0  2019-04-13T12:00:00-05:00            CA  ...  Closed with explanation   \n",
       "1  2019-05-01T12:00:00-05:00            GA  ...  Closed with explanation   \n",
       "2  2019-04-02T12:00:00-05:00            TX  ...  Closed with explanation   \n",
       "3  2017-09-13T12:00:00-05:00            MI  ...  Closed with explanation   \n",
       "4  2019-04-05T12:00:00-05:00            NY  ...  Closed with explanation   \n",
       "\n",
       "        _source.company _source.submitted_via _source.date_sent_to_company  \\\n",
       "0  JPMORGAN CHASE & CO.                   Web    2019-04-13T12:00:00-05:00   \n",
       "1  JPMORGAN CHASE & CO.                   Web    2019-05-01T12:00:00-05:00   \n",
       "2  JPMORGAN CHASE & CO.                   Web    2019-04-02T12:00:00-05:00   \n",
       "3  JPMORGAN CHASE & CO.                   Web    2017-09-14T12:00:00-05:00   \n",
       "4  JPMORGAN CHASE & CO.              Referral    2019-04-05T12:00:00-05:00   \n",
       "\n",
       "  _source.company_public_response                         _source.sub_product  \\\n",
       "0                            None                            Credit card debt   \n",
       "1                            None                            Credit card debt   \n",
       "2                            None  General-purpose credit card or charge card   \n",
       "3                            None                  Conventional home mortgage   \n",
       "4                            None  General-purpose credit card or charge card   \n",
       "\n",
       "  _source.timely                    _source.complaint_what_happened  \\\n",
       "0            Yes                                                      \n",
       "1            Yes  Good morning my name is XXXX XXXX and I apprec...   \n",
       "2            Yes  I upgraded my XXXX XXXX card in XX/XX/2018 and...   \n",
       "3            Yes                                                      \n",
       "4            Yes                                                      \n",
       "\n",
       "                                  _source.sub_issue  \\\n",
       "0                                 Debt is not yours   \n",
       "1  Didn't receive enough information to verify debt   \n",
       "2             Problem with rewards from credit card   \n",
       "3                                              None   \n",
       "4                         Charged too much interest   \n",
       "\n",
       "  _source.consumer_consent_provided  \n",
       "0              Consent not provided  \n",
       "1                  Consent provided  \n",
       "2                  Consent provided  \n",
       "3              Consent not provided  \n",
       "4                               N/A  \n",
       "\n",
       "[5 rows x 22 columns]"
      ]
     },
     "execution_count": 6,
     "metadata": {},
     "output_type": "execute_result"
    }
   ],
   "source": [
    "# Inspecting the dataframe to understand the given data.\n",
    "df.head()"
   ]
  },
  {
   "cell_type": "code",
   "execution_count": 7,
   "metadata": {},
   "outputs": [
    {
     "data": {
      "text/plain": [
       "(78313, 22)"
      ]
     },
     "execution_count": 7,
     "metadata": {},
     "output_type": "execute_result"
    }
   ],
   "source": [
    "df.shape"
   ]
  },
  {
   "cell_type": "code",
   "execution_count": 8,
   "metadata": {},
   "outputs": [
    {
     "name": "stdout",
     "output_type": "stream",
     "text": [
      "<class 'pandas.core.frame.DataFrame'>\n",
      "RangeIndex: 78313 entries, 0 to 78312\n",
      "Data columns (total 22 columns):\n",
      " #   Column                             Non-Null Count  Dtype  \n",
      "---  ------                             --------------  -----  \n",
      " 0   _index                             78313 non-null  object \n",
      " 1   _type                              78313 non-null  object \n",
      " 2   _id                                78313 non-null  object \n",
      " 3   _score                             78313 non-null  float64\n",
      " 4   _source.tags                       10900 non-null  object \n",
      " 5   _source.zip_code                   71556 non-null  object \n",
      " 6   _source.complaint_id               78313 non-null  object \n",
      " 7   _source.issue                      78313 non-null  object \n",
      " 8   _source.date_received              78313 non-null  object \n",
      " 9   _source.state                      76322 non-null  object \n",
      " 10  _source.consumer_disputed          78313 non-null  object \n",
      " 11  _source.product                    78313 non-null  object \n",
      " 12  _source.company_response           78313 non-null  object \n",
      " 13  _source.company                    78313 non-null  object \n",
      " 14  _source.submitted_via              78313 non-null  object \n",
      " 15  _source.date_sent_to_company       78313 non-null  object \n",
      " 16  _source.company_public_response    4 non-null      object \n",
      " 17  _source.sub_product                67742 non-null  object \n",
      " 18  _source.timely                     78313 non-null  object \n",
      " 19  _source.complaint_what_happened    78313 non-null  object \n",
      " 20  _source.sub_issue                  32016 non-null  object \n",
      " 21  _source.consumer_consent_provided  77305 non-null  object \n",
      "dtypes: float64(1), object(21)\n",
      "memory usage: 13.1+ MB\n"
     ]
    }
   ],
   "source": [
    "df.info()"
   ]
  },
  {
   "cell_type": "code",
   "execution_count": 9,
   "metadata": {
    "id": "Dwcty-wmJrFw"
   },
   "outputs": [
    {
     "name": "stdout",
     "output_type": "stream",
     "text": [
      "Column names are as follow: \n",
      "['_index', '_type', '_id', '_score', '_source.tags', '_source.zip_code', '_source.complaint_id', '_source.issue', '_source.date_received', '_source.state', '_source.consumer_disputed', '_source.product', '_source.company_response', '_source.company', '_source.submitted_via', '_source.date_sent_to_company', '_source.company_public_response', '_source.sub_product', '_source.timely', '_source.complaint_what_happened', '_source.sub_issue', '_source.consumer_consent_provided']\n"
     ]
    }
   ],
   "source": [
    "#printing the column names:\n",
    "print(f'Column names are as follow: \\n{list(df.columns)}')"
   ]
  },
  {
   "cell_type": "code",
   "execution_count": 10,
   "metadata": {
    "id": "FYCtKXD1JrFw"
   },
   "outputs": [
    {
     "name": "stdout",
     "output_type": "stream",
     "text": [
      "Column names after renaming them are as follow: \n",
      "['index', 'type', 'id', 'score', 'tags', 'zip_code', 'complaint_id', 'issue', 'date_received', 'state', 'consumer_disputed', 'product', 'company_response', 'company', 'submitted_via', 'date_sent_to_company', 'company_public_response', 'sub_product', 'timely', 'complaints', 'sub_issue', 'consumer_consent_provided']\n"
     ]
    }
   ],
   "source": [
    "#Assigning new column names which are easier to interpret:\n",
    "df.rename(columns=lambda x: x.replace('_source.','').lstrip('_').replace('complaint_what_happened','complaints'), inplace=True)\n",
    "print(f'Column names after renaming them are as follow: \\n{list(df.columns)}')"
   ]
  },
  {
   "cell_type": "code",
   "execution_count": 11,
   "metadata": {},
   "outputs": [
    {
     "data": {
      "text/plain": [
       "['',\n",
       " 'Good morning my name is XXXX XXXX and I appreciate it if you could help me put a stop to Chase Bank cardmember services. \\nIn 2018 I wrote to Chase asking for debt verification and what they sent me a statement which is not acceptable. I am asking the bank to validate the debt. Instead I been receiving mail every month from them attempting to collect a debt. \\nI have a right to know this information as a consumer. \\n\\nChase account # XXXX XXXX XXXX XXXX Thanks in advance for your help.',\n",
       " 'I upgraded my XXXX XXXX card in XX/XX/2018 and was told by the agent who did the upgrade my anniversary date would not change. It turned the agent was giving me the wrong information in order to upgrade the account. XXXX   changed my anniversary date from XX/XX/XXXX to XX/XX/XXXX without my consent! XXXX has the recording of the agent who was misled me.',\n",
       " '',\n",
       " '']"
      ]
     },
     "execution_count": 11,
     "metadata": {},
     "output_type": "execute_result"
    }
   ],
   "source": [
    "# Checking first 5 customer complaints:\n",
    "list(df['complaints'][:5])"
   ]
  },
  {
   "cell_type": "markdown",
   "metadata": {},
   "source": [
    "Although complaint column has no null values, it does have empty strings."
   ]
  },
  {
   "cell_type": "code",
   "execution_count": 12,
   "metadata": {
    "id": "grQUPFL5JrFx"
   },
   "outputs": [],
   "source": [
    "#Assigning nan in place of blanks in the complaints column:\n",
    "df['complaints'] = df['complaints'].replace('^\\s*$',np.nan, regex=True)"
   ]
  },
  {
   "cell_type": "code",
   "execution_count": 13,
   "metadata": {},
   "outputs": [
    {
     "data": {
      "text/plain": [
       "[nan,\n",
       " 'Good morning my name is XXXX XXXX and I appreciate it if you could help me put a stop to Chase Bank cardmember services. \\nIn 2018 I wrote to Chase asking for debt verification and what they sent me a statement which is not acceptable. I am asking the bank to validate the debt. Instead I been receiving mail every month from them attempting to collect a debt. \\nI have a right to know this information as a consumer. \\n\\nChase account # XXXX XXXX XXXX XXXX Thanks in advance for your help.',\n",
       " 'I upgraded my XXXX XXXX card in XX/XX/2018 and was told by the agent who did the upgrade my anniversary date would not change. It turned the agent was giving me the wrong information in order to upgrade the account. XXXX   changed my anniversary date from XX/XX/XXXX to XX/XX/XXXX without my consent! XXXX has the recording of the agent who was misled me.',\n",
       " nan,\n",
       " nan]"
      ]
     },
     "execution_count": 13,
     "metadata": {},
     "output_type": "execute_result"
    }
   ],
   "source": [
    "# Checking first 5 customer complaints:\n",
    "list(df['complaints'][:5])"
   ]
  },
  {
   "cell_type": "code",
   "execution_count": 14,
   "metadata": {
    "id": "Jfxd8VSmJrFy"
   },
   "outputs": [],
   "source": [
    "#Removing all rows where complaints column is nan as they do not provide any useful information:\n",
    "df_filtered = df[df['complaints'].notnull()]['complaints'].copy(deep=True).to_frame()\n",
    "df_filtered.reset_index(inplace=True,drop = True)\n",
    "df_filtered.rename(columns={'complaints':'raw_complaints'},inplace=True)"
   ]
  },
  {
   "cell_type": "code",
   "execution_count": 15,
   "metadata": {},
   "outputs": [
    {
     "data": {
      "text/html": [
       "<div>\n",
       "<style scoped>\n",
       "    .dataframe tbody tr th:only-of-type {\n",
       "        vertical-align: middle;\n",
       "    }\n",
       "\n",
       "    .dataframe tbody tr th {\n",
       "        vertical-align: top;\n",
       "    }\n",
       "\n",
       "    .dataframe thead th {\n",
       "        text-align: right;\n",
       "    }\n",
       "</style>\n",
       "<table border=\"1\" class=\"dataframe\">\n",
       "  <thead>\n",
       "    <tr style=\"text-align: right;\">\n",
       "      <th></th>\n",
       "      <th>raw_complaints</th>\n",
       "    </tr>\n",
       "  </thead>\n",
       "  <tbody>\n",
       "    <tr>\n",
       "      <th>0</th>\n",
       "      <td>Good morning my name is XXXX XXXX and I apprec...</td>\n",
       "    </tr>\n",
       "    <tr>\n",
       "      <th>1</th>\n",
       "      <td>I upgraded my XXXX XXXX card in XX/XX/2018 and...</td>\n",
       "    </tr>\n",
       "    <tr>\n",
       "      <th>2</th>\n",
       "      <td>Chase Card was reported on XX/XX/2019. However...</td>\n",
       "    </tr>\n",
       "    <tr>\n",
       "      <th>3</th>\n",
       "      <td>On XX/XX/2018, while trying to book a XXXX  XX...</td>\n",
       "    </tr>\n",
       "    <tr>\n",
       "      <th>4</th>\n",
       "      <td>my grand son give me check for {$1600.00} i de...</td>\n",
       "    </tr>\n",
       "  </tbody>\n",
       "</table>\n",
       "</div>"
      ],
      "text/plain": [
       "                                      raw_complaints\n",
       "0  Good morning my name is XXXX XXXX and I apprec...\n",
       "1  I upgraded my XXXX XXXX card in XX/XX/2018 and...\n",
       "2  Chase Card was reported on XX/XX/2019. However...\n",
       "3  On XX/XX/2018, while trying to book a XXXX  XX...\n",
       "4  my grand son give me check for {$1600.00} i de..."
      ]
     },
     "execution_count": 15,
     "metadata": {},
     "output_type": "execute_result"
    }
   ],
   "source": [
    "# Creating filtered dataframe which do not contain any blank complaints:\n",
    "df_filtered.head()"
   ]
  },
  {
   "cell_type": "code",
   "execution_count": 16,
   "metadata": {},
   "outputs": [
    {
     "data": {
      "text/plain": [
       "(21072, 1)"
      ]
     },
     "execution_count": 16,
     "metadata": {},
     "output_type": "execute_result"
    }
   ],
   "source": [
    "df_filtered.shape"
   ]
  },
  {
   "cell_type": "code",
   "execution_count": 17,
   "metadata": {},
   "outputs": [
    {
     "data": {
      "text/plain": [
       "['Good morning my name is XXXX XXXX and I appreciate it if you could help me put a stop to Chase Bank cardmember services. \\nIn 2018 I wrote to Chase asking for debt verification and what they sent me a statement which is not acceptable. I am asking the bank to validate the debt. Instead I been receiving mail every month from them attempting to collect a debt. \\nI have a right to know this information as a consumer. \\n\\nChase account # XXXX XXXX XXXX XXXX Thanks in advance for your help.',\n",
       " 'I upgraded my XXXX XXXX card in XX/XX/2018 and was told by the agent who did the upgrade my anniversary date would not change. It turned the agent was giving me the wrong information in order to upgrade the account. XXXX   changed my anniversary date from XX/XX/XXXX to XX/XX/XXXX without my consent! XXXX has the recording of the agent who was misled me.',\n",
       " 'Chase Card was reported on XX/XX/2019. However, fraudulent application have been submitted my identity without my consent to fraudulently obtain services. Do not extend credit without verifying the identity of the applicant.',\n",
       " 'On XX/XX/2018, while trying to book a XXXX  XXXX  ticket, I came across an offer for {$300.00} to be applied towards the ticket if I applied for a rewards card. I put in my information for the offer and within less than a minute, was notified via the screen that a decision could not be made. I immediately contacted XXXX and was referred to Chase Bank. I then immediately contacted Chase bank within no more than 10minutes of getting the notification on the screen and I was told by the Chase representative I spoke with that my application was denied but she could not state why. I asked for more information about the XXXX  offer and she explained that even if I had been approved, the credit offer only gets applied after the first account statement and could not be used to purchase the ticket. I then explicitly told her I was glad I got denied and I was ABSOLUTELY no longer interested in the account. I asked that the application be withdrawn and the representative obliged. This all happened no later than 10mins after putting in the application on XX/XX/2018. Notwithstanding my explicit request not to proceed with the application and contrary to what I was told by the Chase representative, Chase did in fact go ahead to open a credit account in my name on XX/XX/2018. This is now being reported in my Credit Report and Chase has refused to correct this information on my credit report even though they went ahead to process an application which I did not consent to and out of their error.',\n",
       " 'my grand son give me check for {$1600.00} i deposit it into my chase account after fund clear my chase bank closed my account never paid me my money they said they need to speek with my grand son check was clear money was taking by my chase bank refuse to pay me my money my grand son called chase 2 times they told him i should call not him to verify the check owner he is out the country most the time  date happen XX/XX/2018 check number XXXX claim number is XXXX with chase']"
      ]
     },
     "execution_count": 17,
     "metadata": {},
     "output_type": "execute_result"
    }
   ],
   "source": [
    "# Again checking first 5 customer complaints after removal of blank complaints:\n",
    "list(df_filtered['raw_complaints'][:5])"
   ]
  },
  {
   "cell_type": "markdown",
   "metadata": {
    "id": "L944HZpsJrFy"
   },
   "source": [
    "## Text preprocessing\n",
    "\n",
    "Since our data is unstructred text, we need to perform certian Text preprocessing before feeding it to any model. Basically we try to reduce the noise in the data(e.g. removing punctuations) as well as standardize the format(e.g. making all words lower case).\n",
    "\n",
    "We will perform following preprocessing steps:\n",
    "* Make the text lowercase\n",
    "* Remove text in square brackets\n",
    "* Remove punctuation\n",
    "* Remove words containing numbers\n",
    "* Lemmatize the texts\n",
    "* Use POS tags to get relevant words from the texts."
   ]
  },
  {
   "cell_type": "code",
   "execution_count": 18,
   "metadata": {
    "id": "qm7SjjSkJrFz"
   },
   "outputs": [],
   "source": [
    "# Function to clean the text and remove all the unnecessary elements.\n",
    "def preprocessing(text):\n",
    "    text = text.lower().replace('\\n','')     # To make the text lowercase\n",
    "    text = re.sub(r'\\[[^\\]]*\\]','' ,text)    # To remove text in square brackets\n",
    "    text = text.translate(str.maketrans(\"\",\"\", string.punctuation))  # To remove punctuation\n",
    "    text = re.sub(r'\\w*\\d\\w*','',text)                  # To remove words containing numbers\n",
    "    return text"
   ]
  },
  {
   "cell_type": "code",
   "execution_count": 19,
   "metadata": {},
   "outputs": [],
   "source": [
    "# We will also filter out common stop words as they will not provide any useful information for our task.\n",
    "stop_words = stopwords.words('english')"
   ]
  },
  {
   "cell_type": "code",
   "execution_count": 20,
   "metadata": {
    "id": "zgOu8t8HJrFz"
   },
   "outputs": [],
   "source": [
    "# Function to filter out the stop words and then lemmatize the remaining text:\n",
    "def lemmatize(text):\n",
    "    text = nlp(text)\n",
    "    text = [token.lemma_ for token in text if token.text not in stop_words]\n",
    "    return \" \".join(text)"
   ]
  },
  {
   "cell_type": "code",
   "execution_count": 21,
   "metadata": {
    "id": "nOiDVvEIJrF0"
   },
   "outputs": [
    {
     "data": {
      "application/vnd.jupyter.widget-view+json": {
       "model_id": "f58cf6936168498eb44458460ccbdd4d",
       "version_major": 2,
       "version_minor": 0
      },
      "text/plain": [
       "Pandas Apply:   0%|          | 0/21072 [00:00<?, ?it/s]"
      ]
     },
     "metadata": {},
     "output_type": "display_data"
    }
   ],
   "source": [
    "df_filtered['processed_complaints'] = df_filtered['raw_complaints'].swifter.apply(preprocessing)"
   ]
  },
  {
   "cell_type": "code",
   "execution_count": 22,
   "metadata": {},
   "outputs": [
    {
     "data": {
      "application/vnd.jupyter.widget-view+json": {
       "model_id": "2279a4d5577744948dd7eb17d053496b",
       "version_major": 2,
       "version_minor": 0
      },
      "text/plain": [
       "Pandas Apply:   0%|          | 0/21072 [00:00<?, ?it/s]"
      ]
     },
     "metadata": {},
     "output_type": "display_data"
    }
   ],
   "source": [
    "df_filtered['lemmatized_complaints'] = df_filtered['processed_complaints'].swifter.apply(lemmatize)"
   ]
  },
  {
   "cell_type": "code",
   "execution_count": 23,
   "metadata": {},
   "outputs": [
    {
     "data": {
      "text/html": [
       "<div>\n",
       "<style scoped>\n",
       "    .dataframe tbody tr th:only-of-type {\n",
       "        vertical-align: middle;\n",
       "    }\n",
       "\n",
       "    .dataframe tbody tr th {\n",
       "        vertical-align: top;\n",
       "    }\n",
       "\n",
       "    .dataframe thead th {\n",
       "        text-align: right;\n",
       "    }\n",
       "</style>\n",
       "<table border=\"1\" class=\"dataframe\">\n",
       "  <thead>\n",
       "    <tr style=\"text-align: right;\">\n",
       "      <th></th>\n",
       "      <th>raw_complaints</th>\n",
       "      <th>processed_complaints</th>\n",
       "      <th>lemmatized_complaints</th>\n",
       "    </tr>\n",
       "  </thead>\n",
       "  <tbody>\n",
       "    <tr>\n",
       "      <th>0</th>\n",
       "      <td>Good morning my name is XXXX XXXX and I apprec...</td>\n",
       "      <td>good morning my name is xxxx xxxx and i apprec...</td>\n",
       "      <td>good morning name xxxx xxxx appreciate could h...</td>\n",
       "    </tr>\n",
       "    <tr>\n",
       "      <th>1</th>\n",
       "      <td>I upgraded my XXXX XXXX card in XX/XX/2018 and...</td>\n",
       "      <td>i upgraded my xxxx xxxx card in  and was told ...</td>\n",
       "      <td>upgrade xxxx xxxx card   tell agent upgrade an...</td>\n",
       "    </tr>\n",
       "    <tr>\n",
       "      <th>2</th>\n",
       "      <td>Chase Card was reported on XX/XX/2019. However...</td>\n",
       "      <td>chase card was reported on  however fraudulent...</td>\n",
       "      <td>chase card report   however fraudulent applica...</td>\n",
       "    </tr>\n",
       "    <tr>\n",
       "      <th>3</th>\n",
       "      <td>On XX/XX/2018, while trying to book a XXXX  XX...</td>\n",
       "      <td>on  while trying to book a xxxx  xxxx  ticket ...</td>\n",
       "      <td>try book xxxx   xxxx   ticket come across of...</td>\n",
       "    </tr>\n",
       "    <tr>\n",
       "      <th>4</th>\n",
       "      <td>my grand son give me check for {$1600.00} i de...</td>\n",
       "      <td>my grand son give me check for  i deposit it i...</td>\n",
       "      <td>grand son give check   deposit chase account f...</td>\n",
       "    </tr>\n",
       "  </tbody>\n",
       "</table>\n",
       "</div>"
      ],
      "text/plain": [
       "                                      raw_complaints  \\\n",
       "0  Good morning my name is XXXX XXXX and I apprec...   \n",
       "1  I upgraded my XXXX XXXX card in XX/XX/2018 and...   \n",
       "2  Chase Card was reported on XX/XX/2019. However...   \n",
       "3  On XX/XX/2018, while trying to book a XXXX  XX...   \n",
       "4  my grand son give me check for {$1600.00} i de...   \n",
       "\n",
       "                                processed_complaints  \\\n",
       "0  good morning my name is xxxx xxxx and i apprec...   \n",
       "1  i upgraded my xxxx xxxx card in  and was told ...   \n",
       "2  chase card was reported on  however fraudulent...   \n",
       "3  on  while trying to book a xxxx  xxxx  ticket ...   \n",
       "4  my grand son give me check for  i deposit it i...   \n",
       "\n",
       "                               lemmatized_complaints  \n",
       "0  good morning name xxxx xxxx appreciate could h...  \n",
       "1  upgrade xxxx xxxx card   tell agent upgrade an...  \n",
       "2  chase card report   however fraudulent applica...  \n",
       "3    try book xxxx   xxxx   ticket come across of...  \n",
       "4  grand son give check   deposit chase account f...  "
      ]
     },
     "execution_count": 23,
     "metadata": {},
     "output_type": "execute_result"
    }
   ],
   "source": [
    "df_filtered.head()"
   ]
  },
  {
   "cell_type": "code",
   "execution_count": 24,
   "metadata": {
    "id": "Kk7fc4DuJrF1"
   },
   "outputs": [],
   "source": [
    " # We will keep words that have 'NOUN' as POS\n",
    "def pos_tag(text):   # Function to extract words having 'NOUN' POS tags\n",
    "    text = nlp(text)\n",
    "    text = [token.lemma_ for token in text if (token.pos_==\"NOUN\")]\n",
    "    return \" \".join(text)"
   ]
  },
  {
   "cell_type": "code",
   "execution_count": 25,
   "metadata": {},
   "outputs": [
    {
     "data": {
      "application/vnd.jupyter.widget-view+json": {
       "model_id": "123e8237855a4485b0b2bbcffd01a44b",
       "version_major": 2,
       "version_minor": 0
      },
      "text/plain": [
       "Pandas Apply:   0%|          | 0/21072 [00:00<?, ?it/s]"
      ]
     },
     "metadata": {},
     "output_type": "display_data"
    }
   ],
   "source": [
    "df_filtered['POS_removed'] = df_filtered['lemmatized_complaints'].swifter.apply(pos_tag)"
   ]
  },
  {
   "cell_type": "code",
   "execution_count": 26,
   "metadata": {},
   "outputs": [
    {
     "data": {
      "text/html": [
       "<div>\n",
       "<style scoped>\n",
       "    .dataframe tbody tr th:only-of-type {\n",
       "        vertical-align: middle;\n",
       "    }\n",
       "\n",
       "    .dataframe tbody tr th {\n",
       "        vertical-align: top;\n",
       "    }\n",
       "\n",
       "    .dataframe thead th {\n",
       "        text-align: right;\n",
       "    }\n",
       "</style>\n",
       "<table border=\"1\" class=\"dataframe\">\n",
       "  <thead>\n",
       "    <tr style=\"text-align: right;\">\n",
       "      <th></th>\n",
       "      <th>raw_complaints</th>\n",
       "      <th>processed_complaints</th>\n",
       "      <th>lemmatized_complaints</th>\n",
       "      <th>POS_removed</th>\n",
       "    </tr>\n",
       "  </thead>\n",
       "  <tbody>\n",
       "    <tr>\n",
       "      <th>0</th>\n",
       "      <td>Good morning my name is XXXX XXXX and I apprec...</td>\n",
       "      <td>good morning my name is xxxx xxxx and i apprec...</td>\n",
       "      <td>good morning name xxxx xxxx appreciate could h...</td>\n",
       "      <td>morning name xxxx appreciate service chase deb...</td>\n",
       "    </tr>\n",
       "    <tr>\n",
       "      <th>1</th>\n",
       "      <td>I upgraded my XXXX XXXX card in XX/XX/2018 and...</td>\n",
       "      <td>i upgraded my xxxx xxxx card in  and was told ...</td>\n",
       "      <td>upgrade xxxx xxxx card   tell agent upgrade an...</td>\n",
       "      <td>xxxx card agent upgrade anniversary date agent...</td>\n",
       "    </tr>\n",
       "    <tr>\n",
       "      <th>2</th>\n",
       "      <td>Chase Card was reported on XX/XX/2019. However...</td>\n",
       "      <td>chase card was reported on  however fraudulent...</td>\n",
       "      <td>chase card report   however fraudulent applica...</td>\n",
       "      <td>application submit identity consent service ex...</td>\n",
       "    </tr>\n",
       "    <tr>\n",
       "      <th>3</th>\n",
       "      <td>On XX/XX/2018, while trying to book a XXXX  XX...</td>\n",
       "      <td>on  while trying to book a xxxx  xxxx  ticket ...</td>\n",
       "      <td>try book xxxx   xxxx   ticket come across of...</td>\n",
       "      <td>xxxx ticket offer ticket card information offe...</td>\n",
       "    </tr>\n",
       "    <tr>\n",
       "      <th>4</th>\n",
       "      <td>my grand son give me check for {$1600.00} i de...</td>\n",
       "      <td>my grand son give me check for  i deposit it i...</td>\n",
       "      <td>grand son give check   deposit chase account f...</td>\n",
       "      <td>son account money son money money time call ve...</td>\n",
       "    </tr>\n",
       "  </tbody>\n",
       "</table>\n",
       "</div>"
      ],
      "text/plain": [
       "                                      raw_complaints  \\\n",
       "0  Good morning my name is XXXX XXXX and I apprec...   \n",
       "1  I upgraded my XXXX XXXX card in XX/XX/2018 and...   \n",
       "2  Chase Card was reported on XX/XX/2019. However...   \n",
       "3  On XX/XX/2018, while trying to book a XXXX  XX...   \n",
       "4  my grand son give me check for {$1600.00} i de...   \n",
       "\n",
       "                                processed_complaints  \\\n",
       "0  good morning my name is xxxx xxxx and i apprec...   \n",
       "1  i upgraded my xxxx xxxx card in  and was told ...   \n",
       "2  chase card was reported on  however fraudulent...   \n",
       "3  on  while trying to book a xxxx  xxxx  ticket ...   \n",
       "4  my grand son give me check for  i deposit it i...   \n",
       "\n",
       "                               lemmatized_complaints  \\\n",
       "0  good morning name xxxx xxxx appreciate could h...   \n",
       "1  upgrade xxxx xxxx card   tell agent upgrade an...   \n",
       "2  chase card report   however fraudulent applica...   \n",
       "3    try book xxxx   xxxx   ticket come across of...   \n",
       "4  grand son give check   deposit chase account f...   \n",
       "\n",
       "                                         POS_removed  \n",
       "0  morning name xxxx appreciate service chase deb...  \n",
       "1  xxxx card agent upgrade anniversary date agent...  \n",
       "2  application submit identity consent service ex...  \n",
       "3  xxxx ticket offer ticket card information offe...  \n",
       "4  son account money son money money time call ve...  "
      ]
     },
     "execution_count": 26,
     "metadata": {},
     "output_type": "execute_result"
    }
   ],
   "source": [
    "df_filtered.head()"
   ]
  },
  {
   "cell_type": "code",
   "execution_count": 27,
   "metadata": {
    "id": "AjxfchvFJrF2"
   },
   "outputs": [],
   "source": [
    "#Making new clean dataframe which contain the raw complaint, lemmatized complaint and the complaint after removing POS tags.\n",
    "df_clean = df_filtered[['raw_complaints','lemmatized_complaints','POS_removed']].copy(deep=True)"
   ]
  },
  {
   "cell_type": "code",
   "execution_count": 28,
   "metadata": {},
   "outputs": [
    {
     "data": {
      "text/plain": [
       "(21072, 3)"
      ]
     },
     "execution_count": 28,
     "metadata": {},
     "output_type": "execute_result"
    }
   ],
   "source": [
    "df_clean.shape"
   ]
  },
  {
   "cell_type": "markdown",
   "metadata": {
    "id": "_7Un1AElJrF2"
   },
   "source": [
    "## Exploratory data analysis (EDA)\n",
    "\n",
    "For EDA part we will be:\n",
    "*   Visualizing the data according to the 'Complaint' character length\n",
    "*   Visualizing top 40 words by frequency among all the articles after processing the text Using a word cloud\n",
    "*   Visualizing top unigrams,bigrams and trigrams by frequency among all the complaints after processing the text."
   ]
  },
  {
   "cell_type": "code",
   "execution_count": 29,
   "metadata": {
    "id": "q-zaqJF6JrF2"
   },
   "outputs": [
    {
     "data": {
      "image/png": "[encoded data removed]",
      "text/plain": [
       "<Figure size 720x360 with 1 Axes>"
      ]
     },
     "metadata": {
      "needs_background": "light"
     },
     "output_type": "display_data"
    }
   ],
   "source": [
    "# For visualise the data according to the 'Complaint' character length\n",
    "char_len = [len(doc) for doc in df_clean.raw_complaints]\n",
    "plt.figure(figsize=(10,5))\n",
    "sns.histplot(char_len,kde=True)\n",
    "plt.xticks(np.arange(0, max(char_len)+1,2000),rotation=90)\n",
    "plt.ylabel('Number of complaints')\n",
    "plt.xlabel('Character length of Complaints')\n",
    "plt.title('Distribution of character length across documents')\n",
    "plt.show()"
   ]
  },
  {
   "cell_type": "markdown",
   "metadata": {},
   "source": [
    "We roughly have a normal distribution which is skewed positively."
   ]
  },
  {
   "cell_type": "code",
   "execution_count": 30,
   "metadata": {},
   "outputs": [
    {
     "name": "stdout",
     "output_type": "stream",
     "text": [
      "0th quantile of character length of complaints is 19 characters.\n",
      "25th quantile of character length of complaints is 528 characters.\n",
      "50th quantile of character length of complaints is 983 characters.\n",
      "75th quantile of character length of complaints is 1738 characters.\n",
      "100th quantile of character length of complaints is 31611 characters.\n"
     ]
    }
   ],
   "source": [
    "# Checking quantile summary characters length:\n",
    "print(f\"0th quantile of character length of complaints is { int(np.quantile(char_len, 0))} characters.\") \n",
    "print(f\"25th quantile of character length of complaints is { int(np.quantile(char_len, .25))} characters.\") \n",
    "print(f\"50th quantile of character length of complaints is { int(np.quantile(char_len, .5))} characters.\") \n",
    "print(f\"75th quantile of character length of complaints is { int(np.quantile(char_len, .75))} characters.\")\n",
    "print(f\"100th quantile of character length of complaints is { int(np.quantile(char_len, 1))} characters.\") "
   ]
  },
  {
   "cell_type": "code",
   "execution_count": 31,
   "metadata": {},
   "outputs": [
    {
     "data": {
      "image/png": "[encoded data removed]",
      "text/plain": [
       "<Figure size 432x288 with 1 Axes>"
      ]
     },
     "metadata": {
      "needs_background": "light"
     },
     "output_type": "display_data"
    }
   ],
   "source": [
    "# Visualizing the quantile summary characters length:\n",
    "sns.boxplot(char_len)\n",
    "plt.xlabel('Character length of Complaints')\n",
    "plt.title('quantile summary of character length')\n",
    "plt.show()"
   ]
  },
  {
   "cell_type": "markdown",
   "metadata": {},
   "source": [
    "Now we will use a word cloud to display the top 40 words by frequency among all the articles.\n",
    "* Word Cloud is a data visualization technique used for representing text data in which the size of each word indicates its frequency or importance."
   ]
  },
  {
   "cell_type": "code",
   "execution_count": 32,
   "metadata": {
    "id": "QcfdvtfZJrF3"
   },
   "outputs": [],
   "source": [
    "def top_words(text,top_n=40):  # Function to find top 40 words by frequency among all the articles\n",
    "    complaint_words = text.str.split().values.tolist()\n",
    "    all_words = [word for complaint in complaint_words for word in complaint]\n",
    "    top_words = nltk.FreqDist(all_words).most_common(top_n)\n",
    "    return top_words"
   ]
  },
  {
   "cell_type": "code",
   "execution_count": 33,
   "metadata": {},
   "outputs": [
    {
     "data": {
      "image/png": "[encoded data removed]",
      "text/plain": [
       "<Figure size 720x360 with 1 Axes>"
      ]
     },
     "metadata": {
      "needs_background": "light"
     },
     "output_type": "display_data"
    }
   ],
   "source": [
    "# plotting a word cloud to display the top 40 words by their frequency :\n",
    "plt.figure(figsize=(10,5))\n",
    "wordcloud = WordCloud(background_color = 'black', width = 2000, height = 1000,\n",
    "                      colormap = 'viridis', max_words = 40, contour_width = 3,\n",
    "                      max_font_size = 150, contour_color = 'steelblue',\n",
    "                      random_state = 0,collocations=False)\n",
    "wordcloud.generate(' '.join([w for w,_ in top_words(df_clean.POS_removed)]))\n",
    "plt.axis('off')\n",
    "plt.imshow(wordcloud)\n",
    "plt.title('WORD-CLOUD')\n",
    "plt.show()"
   ]
  },
  {
   "cell_type": "code",
   "execution_count": 34,
   "metadata": {
    "id": "OkSmc3UaJrF4"
   },
   "outputs": [],
   "source": [
    "### Since we are using spacy version 3.2.1, there is no word '-PRON-' present in POS_removed complaint.\n",
    "### For the sake of backword compatibility we will perform foloowing:\n",
    "### Removing -PRON- from the text corpus\n",
    "df_clean['Complaint_clean'] = df_clean['POS_removed'].str.replace('-PRON-', '')"
   ]
  },
  {
   "cell_type": "markdown",
   "metadata": {
    "id": "5DfCSbbmJrF4"
   },
   "source": [
    "#### Find the top unigrams,bigrams and trigrams by frequency among all the complaints after processing the text."
   ]
  },
  {
   "cell_type": "code",
   "execution_count": 35,
   "metadata": {
    "id": "5mbk5DS5JrF4"
   },
   "outputs": [],
   "source": [
    "# Function to find the top 30 n-gram words w.r.t. frequency among the complaints in the cleaned datafram: \n",
    "def n_gram(text,n,max_features=30):\n",
    "    vectorizer = CountVectorizer(ngram_range = (n,n),max_features=max_features)\n",
    "    ngrams  = vectorizer.fit_transform(text) \n",
    "    count_values = ngrams.toarray().sum(axis=0)\n",
    "    vocab = vectorizer.vocabulary_\n",
    "    df_ngram = pd.DataFrame(sorted([(count_values[i],k) for k,i in vocab.items()], reverse=True)\n",
    "            ).rename(columns={0: 'frequency', 1:'n_gram'})\n",
    "    return df_ngram\n",
    "\n",
    "# Df containing top 30 unigram by frequency:\n",
    "df_unigram = n_gram(df_clean['Complaint_clean'],n=1,max_features=30)"
   ]
  },
  {
   "cell_type": "code",
   "execution_count": 36,
   "metadata": {
    "id": "YX7fedm1JrF8"
   },
   "outputs": [
    {
     "data": {
      "text/html": [
       "<div>\n",
       "<style scoped>\n",
       "    .dataframe tbody tr th:only-of-type {\n",
       "        vertical-align: middle;\n",
       "    }\n",
       "\n",
       "    .dataframe tbody tr th {\n",
       "        vertical-align: top;\n",
       "    }\n",
       "\n",
       "    .dataframe thead th {\n",
       "        text-align: right;\n",
       "    }\n",
       "</style>\n",
       "<table border=\"1\" class=\"dataframe\">\n",
       "  <thead>\n",
       "    <tr style=\"text-align: right;\">\n",
       "      <th></th>\n",
       "      <th>frequency</th>\n",
       "      <th>n_gram</th>\n",
       "    </tr>\n",
       "  </thead>\n",
       "  <tbody>\n",
       "    <tr>\n",
       "      <th>0</th>\n",
       "      <td>56514</td>\n",
       "      <td>xxxx</td>\n",
       "    </tr>\n",
       "    <tr>\n",
       "      <th>1</th>\n",
       "      <td>44982</td>\n",
       "      <td>chase</td>\n",
       "    </tr>\n",
       "    <tr>\n",
       "      <th>2</th>\n",
       "      <td>42169</td>\n",
       "      <td>account</td>\n",
       "    </tr>\n",
       "    <tr>\n",
       "      <th>3</th>\n",
       "      <td>33834</td>\n",
       "      <td>credit</td>\n",
       "    </tr>\n",
       "    <tr>\n",
       "      <th>4</th>\n",
       "      <td>28222</td>\n",
       "      <td>card</td>\n",
       "    </tr>\n",
       "    <tr>\n",
       "      <th>5</th>\n",
       "      <td>21076</td>\n",
       "      <td>payment</td>\n",
       "    </tr>\n",
       "    <tr>\n",
       "      <th>6</th>\n",
       "      <td>18548</td>\n",
       "      <td>call</td>\n",
       "    </tr>\n",
       "    <tr>\n",
       "      <th>7</th>\n",
       "      <td>15776</td>\n",
       "      <td>time</td>\n",
       "    </tr>\n",
       "    <tr>\n",
       "      <th>8</th>\n",
       "      <td>15378</td>\n",
       "      <td>charge</td>\n",
       "    </tr>\n",
       "    <tr>\n",
       "      <th>9</th>\n",
       "      <td>12762</td>\n",
       "      <td>day</td>\n",
       "    </tr>\n",
       "  </tbody>\n",
       "</table>\n",
       "</div>"
      ],
      "text/plain": [
       "   frequency   n_gram\n",
       "0      56514     xxxx\n",
       "1      44982    chase\n",
       "2      42169  account\n",
       "3      33834   credit\n",
       "4      28222     card\n",
       "5      21076  payment\n",
       "6      18548     call\n",
       "7      15776     time\n",
       "8      15378   charge\n",
       "9      12762      day"
      ]
     },
     "execution_count": 36,
     "metadata": {},
     "output_type": "execute_result"
    }
   ],
   "source": [
    "# Top 10 unigram words w.r.t frequency are:\n",
    "df_unigram.head(10)"
   ]
  },
  {
   "cell_type": "code",
   "execution_count": 37,
   "metadata": {},
   "outputs": [
    {
     "data": {
      "image/png": "[encoded data removed]",
      "text/plain": [
       "<Figure size 432x288 with 1 Axes>"
      ]
     },
     "metadata": {
      "needs_background": "light"
     },
     "output_type": "display_data"
    }
   ],
   "source": [
    "plot(df_unigram,'unigram')"
   ]
  },
  {
   "cell_type": "code",
   "execution_count": 38,
   "metadata": {
    "id": "aV7kD7w8JrF8"
   },
   "outputs": [],
   "source": [
    "## Df containing top 30 bigram words by frequency: \n",
    "df_bigram = n_gram(df_clean['Complaint_clean'],n=2,max_features=30)"
   ]
  },
  {
   "cell_type": "code",
   "execution_count": 39,
   "metadata": {
    "id": "NPnMNIpyJrF9"
   },
   "outputs": [
    {
     "data": {
      "text/html": [
       "<div>\n",
       "<style scoped>\n",
       "    .dataframe tbody tr th:only-of-type {\n",
       "        vertical-align: middle;\n",
       "    }\n",
       "\n",
       "    .dataframe tbody tr th {\n",
       "        vertical-align: top;\n",
       "    }\n",
       "\n",
       "    .dataframe thead th {\n",
       "        text-align: right;\n",
       "    }\n",
       "</style>\n",
       "<table border=\"1\" class=\"dataframe\">\n",
       "  <thead>\n",
       "    <tr style=\"text-align: right;\">\n",
       "      <th></th>\n",
       "      <th>frequency</th>\n",
       "      <th>n_gram</th>\n",
       "    </tr>\n",
       "  </thead>\n",
       "  <tbody>\n",
       "    <tr>\n",
       "      <th>0</th>\n",
       "      <td>12686</td>\n",
       "      <td>credit card</td>\n",
       "    </tr>\n",
       "    <tr>\n",
       "      <th>1</th>\n",
       "      <td>8851</td>\n",
       "      <td>xxxx xxxx</td>\n",
       "    </tr>\n",
       "    <tr>\n",
       "      <th>2</th>\n",
       "      <td>3935</td>\n",
       "      <td>credit report</td>\n",
       "    </tr>\n",
       "    <tr>\n",
       "      <th>3</th>\n",
       "      <td>3056</td>\n",
       "      <td>customer service</td>\n",
       "    </tr>\n",
       "    <tr>\n",
       "      <th>4</th>\n",
       "      <td>2374</td>\n",
       "      <td>chase credit</td>\n",
       "    </tr>\n",
       "    <tr>\n",
       "      <th>5</th>\n",
       "      <td>2112</td>\n",
       "      <td>call chase</td>\n",
       "    </tr>\n",
       "    <tr>\n",
       "      <th>6</th>\n",
       "      <td>1976</td>\n",
       "      <td>debit card</td>\n",
       "    </tr>\n",
       "    <tr>\n",
       "      <th>7</th>\n",
       "      <td>1939</td>\n",
       "      <td>contact chase</td>\n",
       "    </tr>\n",
       "    <tr>\n",
       "      <th>8</th>\n",
       "      <td>1825</td>\n",
       "      <td>account account</td>\n",
       "    </tr>\n",
       "    <tr>\n",
       "      <th>9</th>\n",
       "      <td>1717</td>\n",
       "      <td>account chase</td>\n",
       "    </tr>\n",
       "  </tbody>\n",
       "</table>\n",
       "</div>"
      ],
      "text/plain": [
       "   frequency            n_gram\n",
       "0      12686       credit card\n",
       "1       8851         xxxx xxxx\n",
       "2       3935     credit report\n",
       "3       3056  customer service\n",
       "4       2374      chase credit\n",
       "5       2112        call chase\n",
       "6       1976        debit card\n",
       "7       1939     contact chase\n",
       "8       1825   account account\n",
       "9       1717     account chase"
      ]
     },
     "execution_count": 39,
     "metadata": {},
     "output_type": "execute_result"
    }
   ],
   "source": [
    "# Top 10 bigram words w.r.t frequency are:\n",
    "df_bigram.head(10)"
   ]
  },
  {
   "cell_type": "code",
   "execution_count": 40,
   "metadata": {},
   "outputs": [
    {
     "data": {
      "image/png": "[encoded data removed]",
      "text/plain": [
       "<Figure size 432x288 with 1 Axes>"
      ]
     },
     "metadata": {
      "needs_background": "light"
     },
     "output_type": "display_data"
    }
   ],
   "source": [
    "plot(df_bigram,'bigram')"
   ]
  },
  {
   "cell_type": "code",
   "execution_count": 41,
   "metadata": {
    "id": "Xkh7vtbtJrF-"
   },
   "outputs": [],
   "source": [
    "## Df containing top 30 trigram words by frequency: \n",
    "df_trigram = n_gram(df_clean['Complaint_clean'],n=3,max_features=30)"
   ]
  },
  {
   "cell_type": "code",
   "execution_count": 42,
   "metadata": {
    "id": "REcVxNfvJrF-"
   },
   "outputs": [
    {
     "data": {
      "text/html": [
       "<div>\n",
       "<style scoped>\n",
       "    .dataframe tbody tr th:only-of-type {\n",
       "        vertical-align: middle;\n",
       "    }\n",
       "\n",
       "    .dataframe tbody tr th {\n",
       "        vertical-align: top;\n",
       "    }\n",
       "\n",
       "    .dataframe thead th {\n",
       "        text-align: right;\n",
       "    }\n",
       "</style>\n",
       "<table border=\"1\" class=\"dataframe\">\n",
       "  <thead>\n",
       "    <tr style=\"text-align: right;\">\n",
       "      <th></th>\n",
       "      <th>frequency</th>\n",
       "      <th>n_gram</th>\n",
       "    </tr>\n",
       "  </thead>\n",
       "  <tbody>\n",
       "    <tr>\n",
       "      <th>0</th>\n",
       "      <td>1572</td>\n",
       "      <td>chase credit card</td>\n",
       "    </tr>\n",
       "    <tr>\n",
       "      <th>1</th>\n",
       "      <td>1409</td>\n",
       "      <td>xxxx xxxx xxxx</td>\n",
       "    </tr>\n",
       "    <tr>\n",
       "      <th>2</th>\n",
       "      <td>994</td>\n",
       "      <td>credit card account</td>\n",
       "    </tr>\n",
       "    <tr>\n",
       "      <th>3</th>\n",
       "      <td>969</td>\n",
       "      <td>credit card company</td>\n",
       "    </tr>\n",
       "    <tr>\n",
       "      <th>4</th>\n",
       "      <td>522</td>\n",
       "      <td>call customer service</td>\n",
       "    </tr>\n",
       "    <tr>\n",
       "      <th>5</th>\n",
       "      <td>521</td>\n",
       "      <td>xxxx credit card</td>\n",
       "    </tr>\n",
       "    <tr>\n",
       "      <th>6</th>\n",
       "      <td>490</td>\n",
       "      <td>credit card credit</td>\n",
       "    </tr>\n",
       "    <tr>\n",
       "      <th>7</th>\n",
       "      <td>489</td>\n",
       "      <td>credit card chase</td>\n",
       "    </tr>\n",
       "    <tr>\n",
       "      <th>8</th>\n",
       "      <td>459</td>\n",
       "      <td>credit card xxxx</td>\n",
       "    </tr>\n",
       "    <tr>\n",
       "      <th>9</th>\n",
       "      <td>453</td>\n",
       "      <td>inquiry credit report</td>\n",
       "    </tr>\n",
       "  </tbody>\n",
       "</table>\n",
       "</div>"
      ],
      "text/plain": [
       "   frequency                 n_gram\n",
       "0       1572      chase credit card\n",
       "1       1409         xxxx xxxx xxxx\n",
       "2        994    credit card account\n",
       "3        969    credit card company\n",
       "4        522  call customer service\n",
       "5        521       xxxx credit card\n",
       "6        490     credit card credit\n",
       "7        489      credit card chase\n",
       "8        459       credit card xxxx\n",
       "9        453  inquiry credit report"
      ]
     },
     "execution_count": 42,
     "metadata": {},
     "output_type": "execute_result"
    }
   ],
   "source": [
    "# Top 10 trigram words w.r.t frequency are:\n",
    "df_trigram.head(10)"
   ]
  },
  {
   "cell_type": "code",
   "execution_count": 43,
   "metadata": {},
   "outputs": [
    {
     "data": {
      "image/png": "[encoded data removed]",
      "text/plain": [
       "<Figure size 432x288 with 1 Axes>"
      ]
     },
     "metadata": {
      "needs_background": "light"
     },
     "output_type": "display_data"
    }
   ],
   "source": [
    "plot(df_trigram,'trigram')"
   ]
  },
  {
   "cell_type": "markdown",
   "metadata": {
    "id": "yUXzFji0JrF_"
   },
   "source": [
    "The personal details of customer have been masked in the dataset with xxxx. we will remove the masked text as this will be of no use for our analysis."
   ]
  },
  {
   "cell_type": "code",
   "execution_count": 44,
   "metadata": {
    "id": "wKda-a_IJrF_"
   },
   "outputs": [
    {
     "data": {
      "application/vnd.jupyter.widget-view+json": {
       "model_id": "b3d7c911d8f845cda97c342e878dc023",
       "version_major": 2,
       "version_minor": 0
      },
      "text/plain": [
       "Pandas Apply:   0%|          | 0/21072 [00:00<?, ?it/s]"
      ]
     },
     "metadata": {},
     "output_type": "display_data"
    }
   ],
   "source": [
    "def remove_X_pattern(text):  # Function to remove the masked text\n",
    "    text = re.sub(r'\\b([x] ?)+\\b','' ,text)\n",
    "    return text\n",
    "\n",
    "df_clean['Complaint_clean'] = df_clean['Complaint_clean'].swifter.apply(remove_X_pattern)"
   ]
  },
  {
   "cell_type": "code",
   "execution_count": 45,
   "metadata": {},
   "outputs": [
    {
     "data": {
      "image/png": "[encoded data removed]",
      "text/plain": [
       "<Figure size 720x360 with 1 Axes>"
      ]
     },
     "metadata": {
      "needs_background": "light"
     },
     "output_type": "display_data"
    }
   ],
   "source": [
    "plt.figure(figsize=(10,5))\n",
    "wordcloud = WordCloud(background_color = 'black', width = 2000, height = 1000,\n",
    "                      colormap = 'viridis', max_words = 40, contour_width = 3,\n",
    "                      max_font_size = 150, contour_color = 'steelblue',\n",
    "                      random_state = 0,collocations=False)\n",
    "wordcloud.generate(' '.join([w for w,_ in top_words(df_clean['Complaint_clean'])]))\n",
    "plt.axis('off')\n",
    "plt.imshow(wordcloud)\n",
    "plt.title('WORD-CLOUD')\n",
    "plt.show()"
   ]
  },
  {
   "cell_type": "code",
   "execution_count": 46,
   "metadata": {
    "id": "9UIFk8fQJrF_"
   },
   "outputs": [
    {
     "data": {
      "text/html": [
       "<div>\n",
       "<style scoped>\n",
       "    .dataframe tbody tr th:only-of-type {\n",
       "        vertical-align: middle;\n",
       "    }\n",
       "\n",
       "    .dataframe tbody tr th {\n",
       "        vertical-align: top;\n",
       "    }\n",
       "\n",
       "    .dataframe thead th {\n",
       "        text-align: right;\n",
       "    }\n",
       "</style>\n",
       "<table border=\"1\" class=\"dataframe\">\n",
       "  <thead>\n",
       "    <tr style=\"text-align: right;\">\n",
       "      <th></th>\n",
       "      <th>raw_complaints</th>\n",
       "      <th>lemmatized_complaints</th>\n",
       "      <th>POS_removed</th>\n",
       "      <th>Complaint_clean</th>\n",
       "    </tr>\n",
       "  </thead>\n",
       "  <tbody>\n",
       "    <tr>\n",
       "      <th>0</th>\n",
       "      <td>Good morning my name is XXXX XXXX and I apprec...</td>\n",
       "      <td>good morning name xxxx xxxx appreciate could h...</td>\n",
       "      <td>morning name xxxx appreciate service chase deb...</td>\n",
       "      <td>morning name appreciate service chase debt ver...</td>\n",
       "    </tr>\n",
       "    <tr>\n",
       "      <th>1</th>\n",
       "      <td>I upgraded my XXXX XXXX card in XX/XX/2018 and...</td>\n",
       "      <td>upgrade xxxx xxxx card   tell agent upgrade an...</td>\n",
       "      <td>xxxx card agent upgrade anniversary date agent...</td>\n",
       "      <td>card agent upgrade anniversary date agent info...</td>\n",
       "    </tr>\n",
       "    <tr>\n",
       "      <th>2</th>\n",
       "      <td>Chase Card was reported on XX/XX/2019. However...</td>\n",
       "      <td>chase card report   however fraudulent applica...</td>\n",
       "      <td>application submit identity consent service ex...</td>\n",
       "      <td>application submit identity consent service ex...</td>\n",
       "    </tr>\n",
       "    <tr>\n",
       "      <th>3</th>\n",
       "      <td>On XX/XX/2018, while trying to book a XXXX  XX...</td>\n",
       "      <td>try book xxxx   xxxx   ticket come across of...</td>\n",
       "      <td>xxxx ticket offer ticket card information offe...</td>\n",
       "      <td>ticket offer ticket card information offer min...</td>\n",
       "    </tr>\n",
       "    <tr>\n",
       "      <th>4</th>\n",
       "      <td>my grand son give me check for {$1600.00} i de...</td>\n",
       "      <td>grand son give check   deposit chase account f...</td>\n",
       "      <td>son account money son money money time call ve...</td>\n",
       "      <td>son account money son money money time call ve...</td>\n",
       "    </tr>\n",
       "  </tbody>\n",
       "</table>\n",
       "</div>"
      ],
      "text/plain": [
       "                                      raw_complaints  \\\n",
       "0  Good morning my name is XXXX XXXX and I apprec...   \n",
       "1  I upgraded my XXXX XXXX card in XX/XX/2018 and...   \n",
       "2  Chase Card was reported on XX/XX/2019. However...   \n",
       "3  On XX/XX/2018, while trying to book a XXXX  XX...   \n",
       "4  my grand son give me check for {$1600.00} i de...   \n",
       "\n",
       "                               lemmatized_complaints  \\\n",
       "0  good morning name xxxx xxxx appreciate could h...   \n",
       "1  upgrade xxxx xxxx card   tell agent upgrade an...   \n",
       "2  chase card report   however fraudulent applica...   \n",
       "3    try book xxxx   xxxx   ticket come across of...   \n",
       "4  grand son give check   deposit chase account f...   \n",
       "\n",
       "                                         POS_removed  \\\n",
       "0  morning name xxxx appreciate service chase deb...   \n",
       "1  xxxx card agent upgrade anniversary date agent...   \n",
       "2  application submit identity consent service ex...   \n",
       "3  xxxx ticket offer ticket card information offe...   \n",
       "4  son account money son money money time call ve...   \n",
       "\n",
       "                                     Complaint_clean  \n",
       "0  morning name appreciate service chase debt ver...  \n",
       "1  card agent upgrade anniversary date agent info...  \n",
       "2  application submit identity consent service ex...  \n",
       "3  ticket offer ticket card information offer min...  \n",
       "4  son account money son money money time call ve...  "
      ]
     },
     "execution_count": 46,
     "metadata": {},
     "output_type": "execute_result"
    }
   ],
   "source": [
    "#df_clean df after masked texts have been removed:\n",
    "df_clean.head()"
   ]
  },
  {
   "cell_type": "markdown",
   "metadata": {
    "id": "k-I0k0QtJrGA"
   },
   "source": [
    "## Feature extraction\n",
    "\n",
    "Now we will Convert the raw texts to a matrix of TF-IDF features.For this we will use off the shelf TfidfVectorizer available in sklearn.feature_extraction.text module.\n",
    "Following are the hyper-parameters that we will use:\n",
    "* max_df : It is used for removing terms that appear too frequently, also known as \"corpus-specific stop words\". \n",
    "    * `max_df = 0.95 means \"ignore terms that appear in more than 95% of the complaints\"`\n",
    "* min_df : it is used for removing terms that appear too rarely. \n",
    "    * `min_df = 2 means \"ignore terms that appear in less than 2 documents\".`\n",
    "* stop_words : It is used to specify the list of words which are stop words that needs to be filtered. \n",
    "    * `stop_words = 'english' means 'ignore all the stop words specific to english language'.`\n",
    "* ngram_range : It specifies the lower and upper boundary of the range of n-values for different n-grams to be extracted. \n",
    "    * `ngram_range=(1, 3) means \"extract uni,bi and trigrams\".`"
   ]
  },
  {
   "cell_type": "code",
   "execution_count": 47,
   "metadata": {
    "id": "Y8fGwaCPJrGA"
   },
   "outputs": [],
   "source": [
    "#Write your code here to initialise the TfidfVectorizer \n",
    "tfidf_vectorizer = TfidfVectorizer(\n",
    "    min_df=2,\n",
    "    max_df=0.95,\n",
    "    ngram_range=(1, 3),\n",
    "    stop_words='english',\n",
    ")"
   ]
  },
  {
   "cell_type": "markdown",
   "metadata": {
    "id": "yYzD85nTJrGA"
   },
   "source": [
    "Creating document term matrix using fit_transform:\n",
    "* The contents of a document term matrix are tuples of (complaint_id,token_id) tf-idf score.\n",
    "The tuples that are not there have a tf-idf score of 0"
   ]
  },
  {
   "cell_type": "code",
   "execution_count": 48,
   "metadata": {
    "id": "ffzdDpp_JrGB"
   },
   "outputs": [],
   "source": [
    "DocTermMatrix= tfidf_vectorizer.fit_transform(df_clean['Complaint_clean'])\n",
    "tfidf_feature_names = tfidf_vectorizer.get_feature_names()"
   ]
  },
  {
   "cell_type": "code",
   "execution_count": 49,
   "metadata": {},
   "outputs": [
    {
     "data": {
      "text/plain": [
       "197406"
      ]
     },
     "execution_count": 49,
     "metadata": {},
     "output_type": "execute_result"
    }
   ],
   "source": [
    "len(tfidf_feature_names)"
   ]
  },
  {
   "cell_type": "code",
   "execution_count": 50,
   "metadata": {},
   "outputs": [],
   "source": [
    "## Inspecting DocTermMatrix :\n",
    "# pd.DataFrame(DocTermMatrix.toarray(), columns=tfidf_feature_names).head()"
   ]
  },
  {
   "cell_type": "markdown",
   "metadata": {
    "id": "7Q9lwvNEJrGB"
   },
   "source": [
    "## Topic modelling\n",
    "\n",
    "* Since our data is unlabled, initially our task is of type unsupervised learning. By using Non-Negative Matrix Factorization (NMF) which is an unsupervised Topic modelling technique , we will first find latent topics in our dataset. \n",
    "* The way it works is that, NMF decomposes (or factorizes) high-dimensional vectors into a lower-dimensional representation. These lower-dimensional vectors are non-negative which also means their coefficients are non-negative.\n",
    "* We will have to find best number of such vector word clusters so that each group is unique and different from each other as much as possible. Then By inspecting & validating the correction of each cluster wrt the complaints, we need to Map/label the clusters to our desired topics/cluster names."
   ]
  },
  {
   "cell_type": "markdown",
   "metadata": {},
   "source": [
    "We will take help of coherence score to decide best number of topics.\n",
    "* It is a measure of the degree of semantic similarity between high scoring words in the topic.\n",
    "* in short,the coherence score measures how similar these words are to each other for given number topics.\n",
    "* we want to maximize this coherence score."
   ]
  },
  {
   "cell_type": "code",
   "execution_count": 51,
   "metadata": {},
   "outputs": [],
   "source": [
    "# Using Gensim's NMF to get the best num of topics via coherence score:\n",
    "\n",
    "complaints = df_clean['Complaint_clean']\n",
    "complaints_words = [complaint.split() for complaint in complaints]\n",
    "\n",
    "# Creating a dictionary : In gensim a dictionary is a mapping between words and their integer id\n",
    "dictionary = Dictionary(complaints_words)\n",
    "\n",
    "# Filtering out extremes to limit the number of features:\n",
    "dictionary.filter_extremes(\n",
    "    no_below=2,\n",
    "    no_above=0.95,\n",
    ")"
   ]
  },
  {
   "cell_type": "code",
   "execution_count": 52,
   "metadata": {},
   "outputs": [],
   "source": [
    "# Creating the bag-of-words format (list of (token_id, token_count))\n",
    "corpus = [dictionary.doc2bow(words) for words in complaints_words]"
   ]
  },
  {
   "cell_type": "code",
   "execution_count": 53,
   "metadata": {},
   "outputs": [
    {
     "data": {
      "image/png": "[encoded data removed]",
      "text/plain": [
       "<Figure size 1080x504 with 1 Axes>"
      ]
     },
     "metadata": {
      "needs_background": "light"
     },
     "output_type": "display_data"
    }
   ],
   "source": [
    "topic_nums = list(np.arange(5, 15 + 1, 1))\n",
    "\n",
    "# Runing the nmf model and calculate the coherence score for each number of topics:\n",
    "coherence_scores = []\n",
    "\n",
    "for num in topic_nums:\n",
    "    nmf = Nmf(\n",
    "        corpus=corpus,\n",
    "        num_topics=num,\n",
    "        id2word=dictionary,\n",
    "        chunksize=2000,\n",
    "        passes=5,\n",
    "        kappa=.1,\n",
    "        minimum_probability=0.01,\n",
    "        w_max_iter=300,\n",
    "        w_stop_condition=0.0001,\n",
    "        h_max_iter=100,\n",
    "        h_stop_condition=0.001,\n",
    "        eval_every=10,\n",
    "        normalize=True,\n",
    "        random_state=40\n",
    "    )\n",
    "    \n",
    "    # Run the coherence model to get the score\n",
    "    cm = CoherenceModel(\n",
    "        model=nmf,\n",
    "        texts=complaints_words,\n",
    "        dictionary=dictionary,\n",
    "        coherence='c_v'\n",
    "    )\n",
    "    \n",
    "    coherence_scores.append(round(cm.get_coherence(), 5))\n",
    "\n",
    "# Get the number of topics with the highest coherence score\n",
    "scores = list(zip(topic_nums, coherence_scores))\n",
    "best_num_topics = sorted(scores, key=itemgetter(1), reverse=True)[0][0]\n",
    "\n",
    "# Plot the results\n",
    "fig = plt.figure(figsize=(15, 7))\n",
    "\n",
    "plt.plot(\n",
    "    topic_nums,\n",
    "    coherence_scores,\n",
    "    linewidth=3,\n",
    "    color='#4287f5'\n",
    ")\n",
    "\n",
    "plt.xlabel(\"Topic Num\", fontsize=14)\n",
    "plt.ylabel(\"Coherence Score\", fontsize=14)\n",
    "plt.title('Coherence Score by Topic Number - Best Number of Topics: {}'.format(best_num_topics), fontsize=18)\n",
    "plt.xticks(np.arange(5, max(topic_nums) + 1, 1), fontsize=12)\n",
    "plt.yticks(fontsize=12)\n",
    "plt.show()"
   ]
  },
  {
   "cell_type": "markdown",
   "metadata": {
    "id": "0wYR1xUTJrGD"
   },
   "source": [
    "Manual Topic Modeling\n",
    "* At the end, coherence score is just an statistical method to measure the intra topic word similarity and may not always yield best number of topics for a given problem statement. \n",
    "* It must be noted that we must use domain knowledge for selecting best topic number as per our specific problem statement."
   ]
  },
  {
   "cell_type": "code",
   "execution_count": 54,
   "metadata": {
    "id": "sgd2A6bhJrGD"
   },
   "outputs": [],
   "source": [
    "#Load your nmf_model with the n_components i.e 5\n",
    "num_topics = 5#write the value you want to test out\n",
    "\n",
    "#keep the random_state =40\n",
    "nmf_model = NMF(n_components=num_topics,random_state=40,max_iter=400)"
   ]
  },
  {
   "cell_type": "code",
   "execution_count": 55,
   "metadata": {},
   "outputs": [],
   "source": [
    "Document_topic_mat = nmf_model.fit_transform(DocTermMatrix)  # Document-topic matrix\n",
    "Topic_term_mat = nmf_model.components_       # Topic-term matrix"
   ]
  },
  {
   "cell_type": "code",
   "execution_count": 56,
   "metadata": {
    "id": "16kRfat5JrGE"
   },
   "outputs": [],
   "source": [
    "#Printing the Top15 words for each of the topics:\n",
    "words = np.array(tfidf_feature_names)\n",
    "topic_words = pd.DataFrame(np.zeros((num_topics, 15)), index=[f'Topic {i}' for i in range(num_topics)],\n",
    "                           columns=[f'Word {i + 1}' for i in range(15)]).astype(str)\n",
    "for i in range(num_topics):\n",
    "    ix = Topic_term_mat[i].argsort()[::-1][:15]\n",
    "    topic_words.iloc[i] = words[ix]\n",
    "\n",
    "topic_words['latent_words']=topic_words.apply(lambda x: [','.join(x)], axis=1)"
   ]
  },
  {
   "cell_type": "code",
   "execution_count": 57,
   "metadata": {},
   "outputs": [
    {
     "data": {
      "text/html": [
       "<div>\n",
       "<style scoped>\n",
       "    .dataframe tbody tr th:only-of-type {\n",
       "        vertical-align: middle;\n",
       "    }\n",
       "\n",
       "    .dataframe tbody tr th {\n",
       "        vertical-align: top;\n",
       "    }\n",
       "\n",
       "    .dataframe thead th {\n",
       "        text-align: right;\n",
       "    }\n",
       "</style>\n",
       "<table border=\"1\" class=\"dataframe\">\n",
       "  <thead>\n",
       "    <tr style=\"text-align: right;\">\n",
       "      <th></th>\n",
       "      <th>Word 1</th>\n",
       "      <th>Word 2</th>\n",
       "      <th>Word 3</th>\n",
       "      <th>Word 4</th>\n",
       "      <th>Word 5</th>\n",
       "      <th>Word 6</th>\n",
       "      <th>Word 7</th>\n",
       "      <th>Word 8</th>\n",
       "      <th>Word 9</th>\n",
       "      <th>Word 10</th>\n",
       "      <th>Word 11</th>\n",
       "      <th>Word 12</th>\n",
       "      <th>Word 13</th>\n",
       "      <th>Word 14</th>\n",
       "      <th>Word 15</th>\n",
       "      <th>latent_words</th>\n",
       "    </tr>\n",
       "  </thead>\n",
       "  <tbody>\n",
       "    <tr>\n",
       "      <th>Topic 0</th>\n",
       "      <td>account</td>\n",
       "      <td>check</td>\n",
       "      <td>money</td>\n",
       "      <td>deposit</td>\n",
       "      <td>bank</td>\n",
       "      <td>fund</td>\n",
       "      <td>chase</td>\n",
       "      <td>branch</td>\n",
       "      <td>day</td>\n",
       "      <td>transfer</td>\n",
       "      <td>number</td>\n",
       "      <td>account account</td>\n",
       "      <td>business</td>\n",
       "      <td>transaction</td>\n",
       "      <td>customer</td>\n",
       "      <td>[account,check,money,deposit,bank,fund,chase,b...</td>\n",
       "    </tr>\n",
       "    <tr>\n",
       "      <th>Topic 1</th>\n",
       "      <td>card</td>\n",
       "      <td>credit</td>\n",
       "      <td>credit card</td>\n",
       "      <td>chase</td>\n",
       "      <td>balance</td>\n",
       "      <td>chase credit</td>\n",
       "      <td>chase credit card</td>\n",
       "      <td>card credit</td>\n",
       "      <td>account</td>\n",
       "      <td>card account</td>\n",
       "      <td>score</td>\n",
       "      <td>limit</td>\n",
       "      <td>credit card account</td>\n",
       "      <td>credit score</td>\n",
       "      <td>credit card credit</td>\n",
       "      <td>[card,credit,credit card,chase,balance,chase c...</td>\n",
       "    </tr>\n",
       "    <tr>\n",
       "      <th>Topic 2</th>\n",
       "      <td>payment</td>\n",
       "      <td>loan</td>\n",
       "      <td>mortgage</td>\n",
       "      <td>chase</td>\n",
       "      <td>modification</td>\n",
       "      <td>home</td>\n",
       "      <td>month</td>\n",
       "      <td>year</td>\n",
       "      <td>time</td>\n",
       "      <td>pay</td>\n",
       "      <td>property</td>\n",
       "      <td>rate</td>\n",
       "      <td>payment payment</td>\n",
       "      <td>foreclosure</td>\n",
       "      <td>escrow</td>\n",
       "      <td>[payment,loan,mortgage,chase,modification,home...</td>\n",
       "    </tr>\n",
       "    <tr>\n",
       "      <th>Topic 3</th>\n",
       "      <td>inquiry</td>\n",
       "      <td>report</td>\n",
       "      <td>credit report</td>\n",
       "      <td>credit</td>\n",
       "      <td>inquiry credit</td>\n",
       "      <td>inquiry credit report</td>\n",
       "      <td>report credit</td>\n",
       "      <td>report inquiry</td>\n",
       "      <td>credit report credit</td>\n",
       "      <td>reporting</td>\n",
       "      <td>company</td>\n",
       "      <td>information</td>\n",
       "      <td>remove</td>\n",
       "      <td>credit report inquiry</td>\n",
       "      <td>credit reporting</td>\n",
       "      <td>[inquiry,report,credit report,credit,inquiry c...</td>\n",
       "    </tr>\n",
       "    <tr>\n",
       "      <th>Topic 4</th>\n",
       "      <td>charge</td>\n",
       "      <td>dispute</td>\n",
       "      <td>chase</td>\n",
       "      <td>transaction</td>\n",
       "      <td>merchant</td>\n",
       "      <td>fee</td>\n",
       "      <td>refund</td>\n",
       "      <td>purchase</td>\n",
       "      <td>claim</td>\n",
       "      <td>email</td>\n",
       "      <td>contact</td>\n",
       "      <td>fraud</td>\n",
       "      <td>service</td>\n",
       "      <td>time</td>\n",
       "      <td>company</td>\n",
       "      <td>[charge,dispute,chase,transaction,merchant,fee...</td>\n",
       "    </tr>\n",
       "  </tbody>\n",
       "</table>\n",
       "</div>"
      ],
      "text/plain": [
       "          Word 1   Word 2         Word 3       Word 4          Word 5  \\\n",
       "Topic 0  account    check          money      deposit            bank   \n",
       "Topic 1     card   credit    credit card        chase         balance   \n",
       "Topic 2  payment     loan       mortgage        chase    modification   \n",
       "Topic 3  inquiry   report  credit report       credit  inquiry credit   \n",
       "Topic 4   charge  dispute          chase  transaction        merchant   \n",
       "\n",
       "                        Word 6             Word 7          Word 8  \\\n",
       "Topic 0                   fund              chase          branch   \n",
       "Topic 1           chase credit  chase credit card     card credit   \n",
       "Topic 2                   home              month            year   \n",
       "Topic 3  inquiry credit report      report credit  report inquiry   \n",
       "Topic 4                    fee             refund        purchase   \n",
       "\n",
       "                       Word 9       Word 10   Word 11          Word 12  \\\n",
       "Topic 0                   day      transfer    number  account account   \n",
       "Topic 1               account  card account     score            limit   \n",
       "Topic 2                  time           pay  property             rate   \n",
       "Topic 3  credit report credit     reporting   company      information   \n",
       "Topic 4                 claim         email   contact            fraud   \n",
       "\n",
       "                     Word 13                Word 14             Word 15  \\\n",
       "Topic 0             business            transaction            customer   \n",
       "Topic 1  credit card account           credit score  credit card credit   \n",
       "Topic 2      payment payment            foreclosure              escrow   \n",
       "Topic 3               remove  credit report inquiry    credit reporting   \n",
       "Topic 4              service                   time             company   \n",
       "\n",
       "                                              latent_words  \n",
       "Topic 0  [account,check,money,deposit,bank,fund,chase,b...  \n",
       "Topic 1  [card,credit,credit card,chase,balance,chase c...  \n",
       "Topic 2  [payment,loan,mortgage,chase,modification,home...  \n",
       "Topic 3  [inquiry,report,credit report,credit,inquiry c...  \n",
       "Topic 4  [charge,dispute,chase,transaction,merchant,fee...  "
      ]
     },
     "execution_count": 57,
     "metadata": {},
     "output_type": "execute_result"
    }
   ],
   "source": [
    "topic_words"
   ]
  },
  {
   "cell_type": "code",
   "execution_count": 58,
   "metadata": {},
   "outputs": [
    {
     "name": "stdout",
     "output_type": "stream",
     "text": [
      "THE TOP 15 WORDS FOR Topic 0\n",
      "account,check,money,deposit,bank,fund,chase,branch,day,transfer,number,account account,business,transaction,customer\n",
      "\n",
      "\n",
      "THE TOP 15 WORDS FOR Topic 1\n",
      "card,credit,credit card,chase,balance,chase credit,chase credit card,card credit,account,card account,score,limit,credit card account,credit score,credit card credit\n",
      "\n",
      "\n",
      "THE TOP 15 WORDS FOR Topic 2\n",
      "payment,loan,mortgage,chase,modification,home,month,year,time,pay,property,rate,payment payment,foreclosure,escrow\n",
      "\n",
      "\n",
      "THE TOP 15 WORDS FOR Topic 3\n",
      "inquiry,report,credit report,credit,inquiry credit,inquiry credit report,report credit,report inquiry,credit report credit,reporting,company,information,remove,credit report inquiry,credit reporting\n",
      "\n",
      "\n",
      "THE TOP 15 WORDS FOR Topic 4\n",
      "charge,dispute,chase,transaction,merchant,fee,refund,purchase,claim,email,contact,fraud,service,time,company\n",
      "\n",
      "\n"
     ]
    }
   ],
   "source": [
    "#Printing the Top15 words for each of the topics:\n",
    "for index in topic_words.index:\n",
    "    print(f'THE TOP 15 WORDS FOR {index}')\n",
    "    print(topic_words.loc[index,'latent_words'][0])\n",
    "    print('\\n')"
   ]
  },
  {
   "cell_type": "code",
   "execution_count": 59,
   "metadata": {},
   "outputs": [],
   "source": [
    "# Assigning the best topic to each of the cmplaints in Topic Column:\n",
    "df_clean['Topic'] = Document_topic_mat.argmax(axis=1)"
   ]
  },
  {
   "cell_type": "code",
   "execution_count": 60,
   "metadata": {
    "id": "fLh_Gf3nJrGF"
   },
   "outputs": [
    {
     "data": {
      "text/html": [
       "<div>\n",
       "<style scoped>\n",
       "    .dataframe tbody tr th:only-of-type {\n",
       "        vertical-align: middle;\n",
       "    }\n",
       "\n",
       "    .dataframe tbody tr th {\n",
       "        vertical-align: top;\n",
       "    }\n",
       "\n",
       "    .dataframe thead th {\n",
       "        text-align: right;\n",
       "    }\n",
       "</style>\n",
       "<table border=\"1\" class=\"dataframe\">\n",
       "  <thead>\n",
       "    <tr style=\"text-align: right;\">\n",
       "      <th></th>\n",
       "      <th>raw_complaints</th>\n",
       "      <th>lemmatized_complaints</th>\n",
       "      <th>POS_removed</th>\n",
       "      <th>Complaint_clean</th>\n",
       "      <th>Topic</th>\n",
       "    </tr>\n",
       "  </thead>\n",
       "  <tbody>\n",
       "    <tr>\n",
       "      <th>0</th>\n",
       "      <td>Good morning my name is XXXX XXXX and I apprec...</td>\n",
       "      <td>good morning name xxxx xxxx appreciate could h...</td>\n",
       "      <td>morning name xxxx appreciate service chase deb...</td>\n",
       "      <td>morning name appreciate service chase debt ver...</td>\n",
       "      <td>0</td>\n",
       "    </tr>\n",
       "    <tr>\n",
       "      <th>1</th>\n",
       "      <td>I upgraded my XXXX XXXX card in XX/XX/2018 and...</td>\n",
       "      <td>upgrade xxxx xxxx card   tell agent upgrade an...</td>\n",
       "      <td>xxxx card agent upgrade anniversary date agent...</td>\n",
       "      <td>card agent upgrade anniversary date agent info...</td>\n",
       "      <td>1</td>\n",
       "    </tr>\n",
       "    <tr>\n",
       "      <th>2</th>\n",
       "      <td>Chase Card was reported on XX/XX/2019. However...</td>\n",
       "      <td>chase card report   however fraudulent applica...</td>\n",
       "      <td>application submit identity consent service ex...</td>\n",
       "      <td>application submit identity consent service ex...</td>\n",
       "      <td>3</td>\n",
       "    </tr>\n",
       "    <tr>\n",
       "      <th>3</th>\n",
       "      <td>On XX/XX/2018, while trying to book a XXXX  XX...</td>\n",
       "      <td>try book xxxx   xxxx   ticket come across of...</td>\n",
       "      <td>xxxx ticket offer ticket card information offe...</td>\n",
       "      <td>ticket offer ticket card information offer min...</td>\n",
       "      <td>3</td>\n",
       "    </tr>\n",
       "    <tr>\n",
       "      <th>4</th>\n",
       "      <td>my grand son give me check for {$1600.00} i de...</td>\n",
       "      <td>grand son give check   deposit chase account f...</td>\n",
       "      <td>son account money son money money time call ve...</td>\n",
       "      <td>son account money son money money time call ve...</td>\n",
       "      <td>0</td>\n",
       "    </tr>\n",
       "  </tbody>\n",
       "</table>\n",
       "</div>"
      ],
      "text/plain": [
       "                                      raw_complaints  \\\n",
       "0  Good morning my name is XXXX XXXX and I apprec...   \n",
       "1  I upgraded my XXXX XXXX card in XX/XX/2018 and...   \n",
       "2  Chase Card was reported on XX/XX/2019. However...   \n",
       "3  On XX/XX/2018, while trying to book a XXXX  XX...   \n",
       "4  my grand son give me check for {$1600.00} i de...   \n",
       "\n",
       "                               lemmatized_complaints  \\\n",
       "0  good morning name xxxx xxxx appreciate could h...   \n",
       "1  upgrade xxxx xxxx card   tell agent upgrade an...   \n",
       "2  chase card report   however fraudulent applica...   \n",
       "3    try book xxxx   xxxx   ticket come across of...   \n",
       "4  grand son give check   deposit chase account f...   \n",
       "\n",
       "                                         POS_removed  \\\n",
       "0  morning name xxxx appreciate service chase deb...   \n",
       "1  xxxx card agent upgrade anniversary date agent...   \n",
       "2  application submit identity consent service ex...   \n",
       "3  xxxx ticket offer ticket card information offe...   \n",
       "4  son account money son money money time call ve...   \n",
       "\n",
       "                                     Complaint_clean  Topic  \n",
       "0  morning name appreciate service chase debt ver...      0  \n",
       "1  card agent upgrade anniversary date agent info...      1  \n",
       "2  application submit identity consent service ex...      3  \n",
       "3  ticket offer ticket card information offer min...      3  \n",
       "4  son account money son money money time call ve...      0  "
      ]
     },
     "execution_count": 60,
     "metadata": {},
     "output_type": "execute_result"
    }
   ],
   "source": [
    "# Inspecting new Topic Column:\n",
    "df_clean.head()"
   ]
  },
  {
   "cell_type": "code",
   "execution_count": 61,
   "metadata": {
    "id": "aQKpufSPJrGG"
   },
   "outputs": [
    {
     "data": {
      "text/html": [
       "<div>\n",
       "<style scoped>\n",
       "    .dataframe tbody tr th:only-of-type {\n",
       "        vertical-align: middle;\n",
       "    }\n",
       "\n",
       "    .dataframe tbody tr th {\n",
       "        vertical-align: top;\n",
       "    }\n",
       "\n",
       "    .dataframe thead th {\n",
       "        text-align: right;\n",
       "    }\n",
       "</style>\n",
       "<table border=\"1\" class=\"dataframe\">\n",
       "  <thead>\n",
       "    <tr style=\"text-align: right;\">\n",
       "      <th></th>\n",
       "      <th>raw_complaints</th>\n",
       "      <th>Topic</th>\n",
       "    </tr>\n",
       "  </thead>\n",
       "  <tbody>\n",
       "    <tr>\n",
       "      <th>0</th>\n",
       "      <td>Good morning my name is XXXX XXXX and I appreciate it if you could help me put a stop to Chase Bank cardmember services. \\nIn 2018 I wrote to Chase asking for debt verification and what they sent me a statement which is not acceptable. I am asking the bank to validate the debt. Instead I been receiving mail every month from them attempting to collect a debt. \\nI have a right to know this information as a consumer. \\n\\nChase account # XXXX XXXX XXXX XXXX Thanks in advance for your help.</td>\n",
       "      <td>0</td>\n",
       "    </tr>\n",
       "    <tr>\n",
       "      <th>15</th>\n",
       "      <td>I opened the saving account for the {$25.00} bonus. I was supposed to received the {$25.00} bonus after 3 consecutive auto transfers from checking to savings. I notice on XX/XX/2019 that automatic transfer was cancelled for not enough funds into my checking 's account. Therefore, I put enough funds in my account on XX/XX/2019 requested that the executive team reactivate my automatic transfer for the month of XXXX. Although Ms. XXXX reached out to me from the executive office, she failed to try to resolve my concerns ( case # XXXX ).</td>\n",
       "      <td>0</td>\n",
       "    </tr>\n",
       "    <tr>\n",
       "      <th>6</th>\n",
       "      <td>With out notice J.P. Morgan Chase restricted my account by my debit card Tuesday XX/XX/2019. On Thursday XX/XX/2019 I went into A branch after being advised by a customer service representative that my account would actually be closed. I went into the branch to see how I can remove the funds that are in there currently in as well as if my direct deposit from my place of employment would be returned. The bank associate and the customer service representative assured me that the funds would Post but they may take an additional business day. That Saturday I attempted to go inside of a branch yet again to retrieve my funds that actually did post on Friday, XX/XX/2019. Upon looking at my account I realize that the funds have been reversed and no longer were present on my current statement. Ive been called and I was told that it may take two business day stating Tuesday, XX/XX/XXXX would be the date that my funds would be available to withdraw from a bank teller only. Now, Chase is informing me that I will be mailed a check into the three business days to recover the funds that are owed to me and left in my account currently. Unfortunately, This has put me in an additional financial bind do two fees from late rent late car payments, etc. I am not being a short or giving written notice that these things will actually occur so that I have peace of mind in fact Chase has handled my situation grossly I even had a bank teller inform me that my account looks suspicious after giving me a suspicious look myself. Although I know that Chase reserves the right to close my account at any time I do believe that their protocol has been in the past to give notice in the form of a written document. I am not being a shored or giving written notice that these things will actually occur so that I have peace of mind in fact Chase has handled my situation grossly I even had a bank teller inform me that my account looks suspicious after giving me a suspicious look myself. Although I know that Chase reserves the right to close my account at any time I do believe that their protocol has been in the past to give notice in the form of a written document. This situation is truly affecting my livelihood and they dont seem to want to deal with Me professionally. Thank you</td>\n",
       "      <td>0</td>\n",
       "    </tr>\n",
       "    <tr>\n",
       "      <th>4</th>\n",
       "      <td>my grand son give me check for {$1600.00} i deposit it into my chase account after fund clear my chase bank closed my account never paid me my money they said they need to speek with my grand son check was clear money was taking by my chase bank refuse to pay me my money my grand son called chase 2 times they told him i should call not him to verify the check owner he is out the country most the time  date happen XX/XX/2018 check number XXXX claim number is XXXX with chase</td>\n",
       "      <td>0</td>\n",
       "    </tr>\n",
       "    <tr>\n",
       "      <th>12</th>\n",
       "      <td>I opened an account with chase bank on XXXX and used a code for XXXX bonus. I called to follow up on XX/XX/XXXX about the terms and was told everything was on the account and once I made XXXX direct deposit the bonus would be paid out in 10 days. As of XXXX I had made the required deposits and was told my account never had the coupon code applied and it was past the 21 days to do so, so no bonus would be paid.</td>\n",
       "      <td>0</td>\n",
       "    </tr>\n",
       "    <tr>\n",
       "      <th>14</th>\n",
       "      <td>My chase amazon card was declined for a catering order I had placed for my brothers funeral in the amount of {$710.00}. I contacted chase around noon today XX/XX/2019 and was asked the last 4 numbers of my chase savings account and the other user on my account. I responded that I did not have a savings and I am only authorized user. Customer rep told me they would call me back in 10 minutes to keep the line open. I didnt receive a call back after an hour so I contacted chase. From the first call I thought someone was using my card fraudulently. I spoke to the rep who transferred me to a supervisor XXXX who said the card was activated and the transaction would process. Called the catering company and card was declined. I then used my XXXX  XXXX card to pay for the order. XXXX XXXX texted me asking if I was authorizing purchase and I responded yes. Contacted caterer and XXXX  XXXX was declined. I contacted chase again spoke to rep was told the initial questions are used to trick people to see what there answer would be. She told me the CVV code was incorrectly being input by the caterer and I responded that I had gone over the numbers and CVV used was correct. She told me the card was cleared for the purchase and she would monitor it for 24 hours. Called caterer - card declined. Use a MasterCard  which processed. Went to use chase amazon at restaurant at XXXX pm tonight in the amount of {$63.00} - it was declined. I was told by chase I was not over limit. Still frustrated figuring out multiple declines after several conversations with chase stating the card would be ok to use. Embarrassed as the caterer kept suggesting I was over my limit which I pay my card in full every month and chase confirmed that I was under my limit with the {$710.00} transaction. Never been declined by either chase or XXXX  XXXX before - today after multiple assurances that I was all set and card would be monitored to make sure transaction would clear - it never did</td>\n",
       "      <td>1</td>\n",
       "    </tr>\n",
       "    <tr>\n",
       "      <th>25</th>\n",
       "      <td>I currently have over XXXX Chase Ultimate Rewards points, which are worth at least {$7500.00}. \\n\\nAround XX/XX/2018 ( 4 months ago ), when I tried to access my Chase Ultimate Rewards account ( or even activate the 5 % bonus on Chase Freedom ), I would get shown this page that says \" We are unable to complete your request at this time '' ( image attached as well ) : XXXX : XXXX At first I thought it was just a temporary error ( which isn't uncommon for Chase ), but after 2 weeks this was still happening, so I called customer support. They opened a ticket, got escalated to their tech team, but when I would call back to find out what happened, they told me that the case had been closed. This happened 3 times, and each call has taken a lot of time to explain the situation and verify a bunch of information. \\n\\nGoing from ultimaterewards.com and chase.com have the  same result. \\n\\nI'm not able to use these points by phone either, because the operators for the Travel Center are not able to access my account/points neither. \\n\\nI've tried every browser, both XXXX and XXXX computers, and the XXXX Chase phone application. They all send me to the page that says \" We are unable to complete your request at this time '' On XX/XX/XXXX, I looked up some people that work in Ultimate Rewards on XXXX, and cold called a VP of Customer Relations. He acted like he was helpful at first, and we exchanged some emails. He eventually said I can buy a flight/hotel using Chase Sapphire and if I give him the details, he will deduct the appropriate points and credit my credit card for the purchase. \\n\\nLong story short, he wasn't able to fix anything. \\n\\nI can see that I'm still collecting points, but I haven't been able to access it. \\n\\nI travel a lot, and it's become a huge inconvenience that I'm not able to access these points which I intended to use for travel. I need to get this issue resolved ASAP.</td>\n",
       "      <td>1</td>\n",
       "    </tr>\n",
       "    <tr>\n",
       "      <th>21</th>\n",
       "      <td>I AM A SENIOR CITIZEN THAT HAS BEEN SCAMMED BY SEVERAL COMPANIES FROM XXXX TO XXXX. I HAVE PAID OVER {$17000.00} TO THESE TIME SHARE COMPANIES AND THEY HAVE DID NOTHING AT ALL. THEY WERE ALL MISLEADING AND I HAVE TRIED TO GET A REFUND FROM THEM AND MY CREDIT CARD. I HAVE BEEN UNSUCCEFUL. I HAVE ALL THE INFORMATION ON EVERY COMPANY THAT I HAVE PAID.</td>\n",
       "      <td>1</td>\n",
       "    </tr>\n",
       "    <tr>\n",
       "      <th>1</th>\n",
       "      <td>I upgraded my XXXX XXXX card in XX/XX/2018 and was told by the agent who did the upgrade my anniversary date would not change. It turned the agent was giving me the wrong information in order to upgrade the account. XXXX   changed my anniversary date from XX/XX/XXXX to XX/XX/XXXX without my consent! XXXX has the recording of the agent who was misled me.</td>\n",
       "      <td>1</td>\n",
       "    </tr>\n",
       "    <tr>\n",
       "      <th>27</th>\n",
       "      <td>Chase is marketing credit cards to those of us with good credit like it's going out of style. Be careful - the marketing is not clear. IF you already have a SWA Chase personal card, do not apply for the new one online. This has sent me through a XXXX triangle, wasting my time and therefore money. \\n\\nIt appears in the middle of XX/XX/2018, Chase expanded their undisclosed 5/24 rule to include ALL co-branded cards, not just SWA, yet the marketing machine continues to ignore this policy and the Agents on the phone are not well trained. I am contacting the credit bureau b/c two of the cards opened are not mine - that is the silver lining here. \\n\\nHowever, the issue with incessant marketing of their branded cards to customers, plus this confusing 5/24 rule and lack of Agent phone training, is false advertising. The information is still relatively opaque, as Chase never comments on the 5/24 rule, but multiple reader and community data points suggest denials due to 5/24 for cards previously exempt. \\n\\nCFPB staff, please help educate consumers and hold the big banks accountable for deceptive trade practices. I do not believe this is intentional on Chase 's part, but the second to last Agent did encourage me to file a complaint here, so be it. \\n\\nThank you! \\n\\nXXXX</td>\n",
       "      <td>1</td>\n",
       "    </tr>\n",
       "    <tr>\n",
       "      <th>24</th>\n",
       "      <td>I made a purchase of {$260.00} on XX/XX/XXXX. I made payments of {$160.00} on XX/XX/XXXX and {$260.00} on XX/XX/XXXX. The minimum payment was {$140.00}. The closing date was XX/XX/XXXX ( please see attached statement ). That statement ( XX/XX/XXXX ) shows that I had an outstanding purchase balance of {$230.00} on XX/XX/XXXX. I have enclosed the previous months statement to show that there were NO other purchases prior to the one on XX/XX/XXXX. \\nHowever, when I got the XXXX statement, it shows that I still have a purchase balance of {$210.00}. I have a promotional balance (@XXXX ) in XXXX of {$6900.00}. In XXXX, the promotional balance was {$7200.00} - a difference of {$380.00}. \\n\\nApparently, the payment ( above the minimum payment required by Chase ) I thought would be applied to the purchase (@ 21.49 % ) was applied to the promotional balance first. It is my understanding that once the minimum payment has been met, payments in excess of the minimum would be applied to the highest interest rate balance first. This is not the first time that Chase has skirted US Financial Law to turn a larger profit. I need help in rectifying this problem, because my logic fell on deaf ears at Chase. Thank you in advance for your assistance. \\n\\nRespectfully, XXXX XXXX XXXX</td>\n",
       "      <td>2</td>\n",
       "    </tr>\n",
       "    <tr>\n",
       "      <th>23</th>\n",
       "      <td>I have been trying to do a loan modification with Chase and all they do is give me the runaround I'm 72 mo behind they dont let me make payments I have aens all doc in but always asking more</td>\n",
       "      <td>2</td>\n",
       "    </tr>\n",
       "    <tr>\n",
       "      <th>30</th>\n",
       "      <td>I have wired through one of Chase branches in XXXX XXXX, the exact Reinstatement Amount of {$43000.00} to JPMorgan Chase Bank In order to remove/withdraw their wrongful foreclosure proceedings on my residential property.\\n\\nHowever, the Chase Executive Ms. XXXX XXXX, and it's trustee, XXXX XXXX XXXX XXXX are not honoring even their own rules and regulations, she wants the Total Payoff of {$100000.00} now in order to remove their wrongful foreclosure proceedings with Sales Date of XX/XX/2019 at XXXX XXXX on my family resident.\\n\\nShe knows I can not prepare XXXX in such a short time. That's why I asked for minimum reinstatement amount to avoid foreclosure without resorting to Chapter XXXX- bankruptcy filing.\\n\\nI appreciate you assistant in bringing JPMorgan Chase and it's foreclosure trustee, XXXX XXXX XXXX XXXX. \" Quality '' to their senses, and stop harassing my family with their fraudulent default claim as explained in my previous complaint about them on XX/XX/XXXX.\\n\\nMy previous complaint ID is. XXXX, submitted XX/XX/2019. Product : Mortgage Issue wrongful foreclosure.\\n\\nThank you, XXXX XXXX Tell : ( XXXX ) XXXX Email : XXXX XXXX</td>\n",
       "      <td>2</td>\n",
       "    </tr>\n",
       "    <tr>\n",
       "      <th>10</th>\n",
       "      <td>mishandling of this account by Chase auto and XXXX.</td>\n",
       "      <td>2</td>\n",
       "    </tr>\n",
       "    <tr>\n",
       "      <th>7</th>\n",
       "      <td>During the summer months, I experience a decline income due to my employment. Therefore, I request a one month payment extension with my Auto Loan Company, Chase. For the past almost fours years, my request for payment extension is granted. I have never been delinquent with my auto loan payment. However, On XX/XX/2019 my request for a one month payment extension was denied this year. I explained my situation to representative and the supervisor with no avail. After a lengthy discussion and waiting, I was informed the reason for the decline as it is not \" contractual ''. This reason for denial baffled me and therefore I emailed the office of XXXX XXXX Executive Director, Communications, JPMorgan Chase &amp; Co. A representative contacted me and stated Chase will follow-up. About week later a representative of XXXX XXXX XXXX XXXX office called. The representative shared her role was help resolve the matter. The representative via conference call contacted the department handing my request. After, reviewing my information my request was still denied based on \" policy changes ''. I requested an explanation and representative stated a letter will be mailed with explanation. I have received XXXX letters the reason for denial was not \" policy changes ''. I would like CFPB help in exploring the denial of my payment extension request especially since I have been clear reason for denial.</td>\n",
       "      <td>2</td>\n",
       "    </tr>\n",
       "    <tr>\n",
       "      <th>3</th>\n",
       "      <td>On XX/XX/2018, while trying to book a XXXX  XXXX  ticket, I came across an offer for {$300.00} to be applied towards the ticket if I applied for a rewards card. I put in my information for the offer and within less than a minute, was notified via the screen that a decision could not be made. I immediately contacted XXXX and was referred to Chase Bank. I then immediately contacted Chase bank within no more than 10minutes of getting the notification on the screen and I was told by the Chase representative I spoke with that my application was denied but she could not state why. I asked for more information about the XXXX  offer and she explained that even if I had been approved, the credit offer only gets applied after the first account statement and could not be used to purchase the ticket. I then explicitly told her I was glad I got denied and I was ABSOLUTELY no longer interested in the account. I asked that the application be withdrawn and the representative obliged. This all happened no later than 10mins after putting in the application on XX/XX/2018. Notwithstanding my explicit request not to proceed with the application and contrary to what I was told by the Chase representative, Chase did in fact go ahead to open a credit account in my name on XX/XX/2018. This is now being reported in my Credit Report and Chase has refused to correct this information on my credit report even though they went ahead to process an application which I did not consent to and out of their error.</td>\n",
       "      <td>3</td>\n",
       "    </tr>\n",
       "    <tr>\n",
       "      <th>9</th>\n",
       "      <td>I have a Chase credit card which is incorrectly reporting data on my credit report. The company is not helping resolve the issue.</td>\n",
       "      <td>3</td>\n",
       "    </tr>\n",
       "    <tr>\n",
       "      <th>2</th>\n",
       "      <td>Chase Card was reported on XX/XX/2019. However, fraudulent application have been submitted my identity without my consent to fraudulently obtain services. Do not extend credit without verifying the identity of the applicant.</td>\n",
       "      <td>3</td>\n",
       "    </tr>\n",
       "    <tr>\n",
       "      <th>11</th>\n",
       "      <td>I have reached out to XXXX several times in attempt to have this fraudulent inquiry removed I was told that I need to call and contact the original creditor that placed this inquiry on my report. I have made several attempts to get chase bank to contact the bureau and remove this inquiry that was not authorized by me. They seem to not be able to get me to the right person to take care of this issue no matter how many attempts I have made nobody seems to understand what I'm talkin about. I want chase bank to have this fraudulent inquiry removed from my credit report before I take legal action. I I have never requested any kind of credit with chase bank or hold any account with them. I have an iquiry from XX/XX/2019. I want this matter resolved.</td>\n",
       "      <td>3</td>\n",
       "    </tr>\n",
       "    <tr>\n",
       "      <th>5</th>\n",
       "      <td>Can you please remove inquiry</td>\n",
       "      <td>3</td>\n",
       "    </tr>\n",
       "    <tr>\n",
       "      <th>13</th>\n",
       "      <td>To whom it may concern, Chase bank charged wrongly overdraft fees, I have alert of low balance or unsuficent fee balance and always deposit immediatly to cover transactions if needed but Chase always changed the order and charged me overdraft fee anyway. when you call they said their per their guidelines they don't refund more then 2 overdrawft doesn't matter bank fault or not.\\n\\nTaken {$34.00} from people is money just because you can is not Ok.\\n\\nSee attached documents. When Chase refund, they always find the way to take back what they refunded in first place.</td>\n",
       "      <td>4</td>\n",
       "    </tr>\n",
       "    <tr>\n",
       "      <th>16</th>\n",
       "      <td>XXXX XXXX a sofa, love seat, table and chairs and was never delivered. Debit card charged {$2400.00}. Bank says Visa denied claim, we have no furniture and no money.</td>\n",
       "      <td>4</td>\n",
       "    </tr>\n",
       "    <tr>\n",
       "      <th>18</th>\n",
       "      <td>Chase sent me an email today with the innocuous title \" Important information regarding changes to your Chase account '' ( they often use similar titles for ads and other communications ). \\n\\nIn it, they force me into binding arbitration ( despite that never being something I had agreed to and never being a part of any contract between me and them ). \\n\\nThey do include a method to opt out, but have no additional information about the consequences ( many other people I've seen who have had a similar problem are afraid that Chase will close their account if they opt out ) and, even more egregiously, despite Chase simply sending an email doing this, they require me to mail them a letter with my personal information enclosed in order to opt out. \\n\\nThis is clearly less secure and a massive loss of both my time and money that is clearly being used solely to dissuade people from opting out. \\n\\nThis is blatant malpractice by Chase.</td>\n",
       "      <td>4</td>\n",
       "    </tr>\n",
       "    <tr>\n",
       "      <th>19</th>\n",
       "      <td>I made a purchase with XXXX XXXX XXXX on XX/XX/2019 in the amount of {$38.00}. I was charged twice for this transaction. I placed a disputes case with Chase bank on XX/XX/2019 when I noticed the charge on my account. I called back on Sunday, XX/XX/2019 about the provisional credit for the charge and again on Monday, XX/XX/2019. I was told the charge had to post before a provisional credit could be provided. I used my debt card on Monday, XX/XX/2019 then tried to use it again but it would not work. I went to Chase bank on XXXX XXXX XXXX in XXXX XXXX, Nevada and was told that my account was closed due to fraudulent activity. I was shocked because I had not reported fraud on my account. I later found out that I was being accused by the disputes department of placing a fraudulent disputes case for the duplicate charge from XXXX XXXX  XXXX. I later contacted XXXX XXXX  XXXX again and was told that they DID see a duplicate charge and would credit my account within 3 - 5  days. I contacted the chase disputes department again on Monday, XX/XX/XXXX. 2019 and explained thaXXXX XXXX XXXX XXXX would credit my account and that I did not like being accused of making a fraudulent disputes claim. The escalation manager did NOT care and told me that Chase decision on closing my account was final. I had been a customer of Chase for XXXX   years. My character has been challenged by the disputes agents and I consider this to be detrimental to my character and slander. \\n\\nI am NOT seeking to keep my account open with Chase BUT I also do NOT want Chase reporting that they closed my checking account involuntarily. \\n\\nOnce again, I do NOT want Chase to have the checking account that I had with them being reflecting on any public records as being closed as involuntary closure by Chase. \\n\\nI did nothing wrong by filing a disputes claim for the duplicate charge or any other disputes cases that were filed in the past.</td>\n",
       "      <td>4</td>\n",
       "    </tr>\n",
       "    <tr>\n",
       "      <th>8</th>\n",
       "      <td>On XXXX XX/XX/2019, I made a {$300.00} payment to an online retailer using Chase quick pay with XXXX on the Chase website. I realized that this was a scam website after no confirmation, product, or response to any inquiries regarding the order and contacted Chase to get more information about the transaction to attempt getting a refund through the retailers bank. \\n\\nI contacted Chase via a secured message on XX/XX/2019 explaining what happened and asked \" Is there a way to reverse this transaction, or do you have a contact at XXXX that can give me more information about the recipient? '' That XXXX, my message was reviewed and I received a response restating my original email and informing me that \" The transfer has been completed. However, as you mentioned that the website is a scam while we can handle most inquiries by email, some require the expertise of another team. In order to assist you better in regards to the refund we request you to call our Consumer Online Technical Support Team. '' I called the number listed in the email and explained my situation to then be transferred to the claims department. I was directed to call XXXX and ask them about the transaction because Chase did not have any information outside of what I provided when initiating the transfer. I felt like this agent was trying to get me to end the call as quickly as possible and I had to interrupt her closing script to ask for a contact number at XXXX and didn't have an opportunity to get any information about what the right questions would be to ask XXXX or what words and phrases I should use to get the information I was looking for. \\n\\nI called XXXX who's automated system initially directed me to call my bank because I used the banks app to initiate the transaction. I called XXXX again to navigate their menus and talk to a customer service agent. They told me that all of the information about the transaction would in Chase 's system because I used the banks app to perform the transaction. She stayed on the line with me until I understood everything that I should ask and had a better understanding of the situation. I ended the call and called chase again. \\n\\nWhen I called chase the second time, the agent tried to look up the information about the receiving bank but could not find any additional information. She then asked me why I needed this information and I explained my situation again. I was once again transferred to the claims department, who told me that I needed to contact XXXX to get the information I was looking for. After I told her that I had already contacted them, she finally admitted that there was nothing that she could do due to the nature of the transaction and that these types of transactions are not secured. She said that Chase had no information about the recipient other than the email address that I inputted and that the recipients banking information was not kept in the system. In both phone calls, they asked if I initiated that transaction, and used that to absolve themselves of all responsibility in regards to this matter. \\n\\nDuring this whole process, it felt like Chase was not transparent about their policies regarding these types of transactions nor were they helpful in helping me get any information about the situation. These transactions are advertised as a \" fast, safe and easy way to send money, '' but seem to be a dangerous way to do business. I feel deceived by Chase 's advertising and further victimized by the way I was treated by the members on their customer service team.</td>\n",
       "      <td>4</td>\n",
       "    </tr>\n",
       "  </tbody>\n",
       "</table>\n",
       "</div>"
      ],
      "text/plain": [
       "                                                                                                                                                                                                                                                                                                                                                                                                                                                                                                                                                                                                                                                                                                                                                                                                                                                                                                                                                                                                                                                                                                                                                                                                                                                                                                                                                                                                                                                                                                                                                                                                                                                                                                                                                                                                                                                                                                                                                                                                                                                                                                                                                                                                                                                                                                                                                                                                                                                                                                                                                                                                                                                                                                                                                                                                                                                                                                                                                                                                                                                                                                                                                                                                                                                                                                                                                                                                                                                                                                                                                                                                                                                                                   raw_complaints  \\\n",
       "0                                                                                                                                                                                                                                                                                                                                                                                                                                                                                                                                                                                                                                                                                                                                                                                                                                                                                                                                                                                                                                                                                                                                                                                                                                                                                                                                                                                                                                                                                                                                                                                                                                                                                                                                                                                                                                                                                                                                                                                                                                                                                                                                                                                                                                                                                                                                                                                                                                                                                                                                                                                                                                                                                                                                                                                                                                                                                                                                                                                                                                                                                                                                                                                      Good morning my name is XXXX XXXX and I appreciate it if you could help me put a stop to Chase Bank cardmember services. \\nIn 2018 I wrote to Chase asking for debt verification and what they sent me a statement which is not acceptable. I am asking the bank to validate the debt. Instead I been receiving mail every month from them attempting to collect a debt. \\nI have a right to know this information as a consumer. \\n\\nChase account # XXXX XXXX XXXX XXXX Thanks in advance for your help.   \n",
       "15                                                                                                                                                                                                                                                                                                                                                                                                                                                                                                                                                                                                                                                                                                                                                                                                                                                                                                                                                                                                                                                                                                                                                                                                                                                                                                                                                                                                                                                                                                                                                                                                                                                                                                                                                                                                                                                                                                                                                                                                                                                                                                                                                                                                                                                                                                                                                                                                                                                                                                                                                                                                                                                                                                                                                                                                                                                                                                                                                                                                                                                                                                                                     I opened the saving account for the {$25.00} bonus. I was supposed to received the {$25.00} bonus after 3 consecutive auto transfers from checking to savings. I notice on XX/XX/2019 that automatic transfer was cancelled for not enough funds into my checking 's account. Therefore, I put enough funds in my account on XX/XX/2019 requested that the executive team reactivate my automatic transfer for the month of XXXX. Although Ms. XXXX reached out to me from the executive office, she failed to try to resolve my concerns ( case # XXXX ).   \n",
       "6                                                                                                                                                                                                                                                                                                                                                                                                                                                                                                                                                                                                                                                                                                                                                                                                                                                                                                                                                                                                                                                                                                                                                                                                                                                                                                                           With out notice J.P. Morgan Chase restricted my account by my debit card Tuesday XX/XX/2019. On Thursday XX/XX/2019 I went into A branch after being advised by a customer service representative that my account would actually be closed. I went into the branch to see how I can remove the funds that are in there currently in as well as if my direct deposit from my place of employment would be returned. The bank associate and the customer service representative assured me that the funds would Post but they may take an additional business day. That Saturday I attempted to go inside of a branch yet again to retrieve my funds that actually did post on Friday, XX/XX/2019. Upon looking at my account I realize that the funds have been reversed and no longer were present on my current statement. Ive been called and I was told that it may take two business day stating Tuesday, XX/XX/XXXX would be the date that my funds would be available to withdraw from a bank teller only. Now, Chase is informing me that I will be mailed a check into the three business days to recover the funds that are owed to me and left in my account currently. Unfortunately, This has put me in an additional financial bind do two fees from late rent late car payments, etc. I am not being a short or giving written notice that these things will actually occur so that I have peace of mind in fact Chase has handled my situation grossly I even had a bank teller inform me that my account looks suspicious after giving me a suspicious look myself. Although I know that Chase reserves the right to close my account at any time I do believe that their protocol has been in the past to give notice in the form of a written document. I am not being a shored or giving written notice that these things will actually occur so that I have peace of mind in fact Chase has handled my situation grossly I even had a bank teller inform me that my account looks suspicious after giving me a suspicious look myself. Although I know that Chase reserves the right to close my account at any time I do believe that their protocol has been in the past to give notice in the form of a written document. This situation is truly affecting my livelihood and they dont seem to want to deal with Me professionally. Thank you   \n",
       "4                                                                                                                                                                                                                                                                                                                                                                                                                                                                                                                                                                                                                                                                                                                                                                                                                                                                                                                                                                                                                                                                                                                                                                                                                                                                                                                                                                                                                                                                                                                                                                                                                                                                                                                                                                                                                                                                                                                                                                                                                                                                                                                                                                                                                                                                                                                                                                                                                                                                                                                                                                                                                                                                                                                                                                                                                                                                                                                                                                                                                                                                                                                                                                                                   my grand son give me check for {$1600.00} i deposit it into my chase account after fund clear my chase bank closed my account never paid me my money they said they need to speek with my grand son check was clear money was taking by my chase bank refuse to pay me my money my grand son called chase 2 times they told him i should call not him to verify the check owner he is out the country most the time  date happen XX/XX/2018 check number XXXX claim number is XXXX with chase   \n",
       "12                                                                                                                                                                                                                                                                                                                                                                                                                                                                                                                                                                                                                                                                                                                                                                                                                                                                                                                                                                                                                                                                                                                                                                                                                                                                                                                                                                                                                                                                                                                                                                                                                                                                                                                                                                                                                                                                                                                                                                                                                                                                                                                                                                                                                                                                                                                                                                                                                                                                                                                                                                                                                                                                                                                                                                                                                                                                                                                                                                                                                                                                                                                                                                                                                                                                  I opened an account with chase bank on XXXX and used a code for XXXX bonus. I called to follow up on XX/XX/XXXX about the terms and was told everything was on the account and once I made XXXX direct deposit the bonus would be paid out in 10 days. As of XXXX I had made the required deposits and was told my account never had the coupon code applied and it was past the 21 days to do so, so no bonus would be paid.   \n",
       "14                                                                                                                                                                                                                                                                                                                                                                                                                                                                                                                                                                                                                                                                                                                                                                                                                                                                                                                                                                                                                                                                                                                                                                                                                                                                                                                                                                                                                                                                                                                                                                                                                                           My chase amazon card was declined for a catering order I had placed for my brothers funeral in the amount of {$710.00}. I contacted chase around noon today XX/XX/2019 and was asked the last 4 numbers of my chase savings account and the other user on my account. I responded that I did not have a savings and I am only authorized user. Customer rep told me they would call me back in 10 minutes to keep the line open. I didnt receive a call back after an hour so I contacted chase. From the first call I thought someone was using my card fraudulently. I spoke to the rep who transferred me to a supervisor XXXX who said the card was activated and the transaction would process. Called the catering company and card was declined. I then used my XXXX  XXXX card to pay for the order. XXXX XXXX texted me asking if I was authorizing purchase and I responded yes. Contacted caterer and XXXX  XXXX was declined. I contacted chase again spoke to rep was told the initial questions are used to trick people to see what there answer would be. She told me the CVV code was incorrectly being input by the caterer and I responded that I had gone over the numbers and CVV used was correct. She told me the card was cleared for the purchase and she would monitor it for 24 hours. Called caterer - card declined. Use a MasterCard  which processed. Went to use chase amazon at restaurant at XXXX pm tonight in the amount of {$63.00} - it was declined. I was told by chase I was not over limit. Still frustrated figuring out multiple declines after several conversations with chase stating the card would be ok to use. Embarrassed as the caterer kept suggesting I was over my limit which I pay my card in full every month and chase confirmed that I was under my limit with the {$710.00} transaction. Never been declined by either chase or XXXX  XXXX before - today after multiple assurances that I was all set and card would be monitored to make sure transaction would clear - it never did   \n",
       "25                                                                                                                                                                                                                                                                                                                                                                                                                                                                                                                                                                                                                                                                                                                                                                                                                                                                                                                                                                                                                                                                                                                                                                                                                                                                                                                                                                                                                                                                                                                                                                                                                                                                                                        I currently have over XXXX Chase Ultimate Rewards points, which are worth at least {$7500.00}. \\n\\nAround XX/XX/2018 ( 4 months ago ), when I tried to access my Chase Ultimate Rewards account ( or even activate the 5 % bonus on Chase Freedom ), I would get shown this page that says \" We are unable to complete your request at this time '' ( image attached as well ) : XXXX : XXXX At first I thought it was just a temporary error ( which isn't uncommon for Chase ), but after 2 weeks this was still happening, so I called customer support. They opened a ticket, got escalated to their tech team, but when I would call back to find out what happened, they told me that the case had been closed. This happened 3 times, and each call has taken a lot of time to explain the situation and verify a bunch of information. \\n\\nGoing from ultimaterewards.com and chase.com have the  same result. \\n\\nI'm not able to use these points by phone either, because the operators for the Travel Center are not able to access my account/points neither. \\n\\nI've tried every browser, both XXXX and XXXX computers, and the XXXX Chase phone application. They all send me to the page that says \" We are unable to complete your request at this time '' On XX/XX/XXXX, I looked up some people that work in Ultimate Rewards on XXXX, and cold called a VP of Customer Relations. He acted like he was helpful at first, and we exchanged some emails. He eventually said I can buy a flight/hotel using Chase Sapphire and if I give him the details, he will deduct the appropriate points and credit my credit card for the purchase. \\n\\nLong story short, he wasn't able to fix anything. \\n\\nI can see that I'm still collecting points, but I haven't been able to access it. \\n\\nI travel a lot, and it's become a huge inconvenience that I'm not able to access these points which I intended to use for travel. I need to get this issue resolved ASAP.   \n",
       "21                                                                                                                                                                                                                                                                                                                                                                                                                                                                                                                                                                                                                                                                                                                                                                                                                                                                                                                                                                                                                                                                                                                                                                                                                                                                                                                                                                                                                                                                                                                                                                                                                                                                                                                                                                                                                                                                                                                                                                                                                                                                                                                                                                                                                                                                                                                                                                                                                                                                                                                                                                                                                                                                                                                                                                                                                                                                                                                                                                                                                                                                                                                                                                                                                                                                                                                                 I AM A SENIOR CITIZEN THAT HAS BEEN SCAMMED BY SEVERAL COMPANIES FROM XXXX TO XXXX. I HAVE PAID OVER {$17000.00} TO THESE TIME SHARE COMPANIES AND THEY HAVE DID NOTHING AT ALL. THEY WERE ALL MISLEADING AND I HAVE TRIED TO GET A REFUND FROM THEM AND MY CREDIT CARD. I HAVE BEEN UNSUCCEFUL. I HAVE ALL THE INFORMATION ON EVERY COMPANY THAT I HAVE PAID.   \n",
       "1                                                                                                                                                                                                                                                                                                                                                                                                                                                                                                                                                                                                                                                                                                                                                                                                                                                                                                                                                                                                                                                                                                                                                                                                                                                                                                                                                                                                                                                                                                                                                                                                                                                                                                                                                                                                                                                                                                                                                                                                                                                                                                                                                                                                                                                                                                                                                                                                                                                                                                                                                                                                                                                                                                                                                                                                                                                                                                                                                                                                                                                                                                                                                                                                                                                                                                                             I upgraded my XXXX XXXX card in XX/XX/2018 and was told by the agent who did the upgrade my anniversary date would not change. It turned the agent was giving me the wrong information in order to upgrade the account. XXXX   changed my anniversary date from XX/XX/XXXX to XX/XX/XXXX without my consent! XXXX has the recording of the agent who was misled me.   \n",
       "27                                                                                                                                                                                                                                                                                                                                                                                                                                                                                                                                                                                                                                                                                                                                                                                                                                                                                                                                                                                                                                                                                                                                                                                                                                                                                                                                                                                                                                                                                                                                                                                                                                                                                                                                                                                                                                                                                                                                                                                                                                                                                                                                                                                                                                                                                                                                                              Chase is marketing credit cards to those of us with good credit like it's going out of style. Be careful - the marketing is not clear. IF you already have a SWA Chase personal card, do not apply for the new one online. This has sent me through a XXXX triangle, wasting my time and therefore money. \\n\\nIt appears in the middle of XX/XX/2018, Chase expanded their undisclosed 5/24 rule to include ALL co-branded cards, not just SWA, yet the marketing machine continues to ignore this policy and the Agents on the phone are not well trained. I am contacting the credit bureau b/c two of the cards opened are not mine - that is the silver lining here. \\n\\nHowever, the issue with incessant marketing of their branded cards to customers, plus this confusing 5/24 rule and lack of Agent phone training, is false advertising. The information is still relatively opaque, as Chase never comments on the 5/24 rule, but multiple reader and community data points suggest denials due to 5/24 for cards previously exempt. \\n\\nCFPB staff, please help educate consumers and hold the big banks accountable for deceptive trade practices. I do not believe this is intentional on Chase 's part, but the second to last Agent did encourage me to file a complaint here, so be it. \\n\\nThank you! \\n\\nXXXX   \n",
       "24                                                                                                                                                                                                                                                                                                                                                                                                                                                                                                                                                                                                                                                                                                                                                                                                                                                                                                                                                                                                                                                                                                                                                                                                                                                                                                                                                                                                                                                                                                                                                                                                                                                                                                                                                                                                                                                                                                                                                                                                                                                                                                                                                                                                                                                                                                                                                                I made a purchase of {$260.00} on XX/XX/XXXX. I made payments of {$160.00} on XX/XX/XXXX and {$260.00} on XX/XX/XXXX. The minimum payment was {$140.00}. The closing date was XX/XX/XXXX ( please see attached statement ). That statement ( XX/XX/XXXX ) shows that I had an outstanding purchase balance of {$230.00} on XX/XX/XXXX. I have enclosed the previous months statement to show that there were NO other purchases prior to the one on XX/XX/XXXX. \\nHowever, when I got the XXXX statement, it shows that I still have a purchase balance of {$210.00}. I have a promotional balance (@XXXX ) in XXXX of {$6900.00}. In XXXX, the promotional balance was {$7200.00} - a difference of {$380.00}. \\n\\nApparently, the payment ( above the minimum payment required by Chase ) I thought would be applied to the purchase (@ 21.49 % ) was applied to the promotional balance first. It is my understanding that once the minimum payment has been met, payments in excess of the minimum would be applied to the highest interest rate balance first. This is not the first time that Chase has skirted US Financial Law to turn a larger profit. I need help in rectifying this problem, because my logic fell on deaf ears at Chase. Thank you in advance for your assistance. \\n\\nRespectfully, XXXX XXXX XXXX   \n",
       "23                                                                                                                                                                                                                                                                                                                                                                                                                                                                                                                                                                                                                                                                                                                                                                                                                                                                                                                                                                                                                                                                                                                                                                                                                                                                                                                                                                                                                                                                                                                                                                                                                                                                                                                                                                                                                                                                                                                                                                                                                                                                                                                                                                                                                                                                                                                                                                                                                                                                                                                                                                                                                                                                                                                                                                                                                                                                                                                                                                                                                                                                                                                                                                                                                                                                                                                                                                                                                                                                                                 I have been trying to do a loan modification with Chase and all they do is give me the runaround I'm 72 mo behind they dont let me make payments I have aens all doc in but always asking more   \n",
       "30                                                                                                                                                                                                                                                                                                                                                                                                                                                                                                                                                                                                                                                                                                                                                                                                                                                                                                                                                                                                                                                                                                                                                                                                                                                                                                                                                                                                                                                                                                                                                                                                                                                                                                                                                                                                                                                                                                                                                                                                                                                                                                                                                                                                                                                                                                                                                                                                                                                                                              I have wired through one of Chase branches in XXXX XXXX, the exact Reinstatement Amount of {$43000.00} to JPMorgan Chase Bank In order to remove/withdraw their wrongful foreclosure proceedings on my residential property.\\n\\nHowever, the Chase Executive Ms. XXXX XXXX, and it's trustee, XXXX XXXX XXXX XXXX are not honoring even their own rules and regulations, she wants the Total Payoff of {$100000.00} now in order to remove their wrongful foreclosure proceedings with Sales Date of XX/XX/2019 at XXXX XXXX on my family resident.\\n\\nShe knows I can not prepare XXXX in such a short time. That's why I asked for minimum reinstatement amount to avoid foreclosure without resorting to Chapter XXXX- bankruptcy filing.\\n\\nI appreciate you assistant in bringing JPMorgan Chase and it's foreclosure trustee, XXXX XXXX XXXX XXXX. \" Quality '' to their senses, and stop harassing my family with their fraudulent default claim as explained in my previous complaint about them on XX/XX/XXXX.\\n\\nMy previous complaint ID is. XXXX, submitted XX/XX/2019. Product : Mortgage Issue wrongful foreclosure.\\n\\nThank you, XXXX XXXX Tell : ( XXXX ) XXXX Email : XXXX XXXX   \n",
       "10                                                                                                                                                                                                                                                                                                                                                                                                                                                                                                                                                                                                                                                                                                                                                                                                                                                                                                                                                                                                                                                                                                                                                                                                                                                                                                                                                                                                                                                                                                                                                                                                                                                                                                                                                                                                                                                                                                                                                                                                                                                                                                                                                                                                                                                                                                                                                                                                                                                                                                                                                                                                                                                                                                                                                                                                                                                                                                                                                                                                                                                                                                                                                                                                                                                                                                                                                                                                                                                                                                                                                                                                                                            mishandling of this account by Chase auto and XXXX.   \n",
       "7                                                                                                                                                                                                                                                                                                                                                                                                                                                                                                                                                                                                                                                                                                                                                                                                                                                                                                                                                                                                                                                                                                                                                                                                                                                                                                                                                                                                                                                                                                                                                                                                                                                                                                                                                                                                                                                                                                                                                                                                                                                                                                                                                                                                                                            During the summer months, I experience a decline income due to my employment. Therefore, I request a one month payment extension with my Auto Loan Company, Chase. For the past almost fours years, my request for payment extension is granted. I have never been delinquent with my auto loan payment. However, On XX/XX/2019 my request for a one month payment extension was denied this year. I explained my situation to representative and the supervisor with no avail. After a lengthy discussion and waiting, I was informed the reason for the decline as it is not \" contractual ''. This reason for denial baffled me and therefore I emailed the office of XXXX XXXX Executive Director, Communications, JPMorgan Chase & Co. A representative contacted me and stated Chase will follow-up. About week later a representative of XXXX XXXX XXXX XXXX office called. The representative shared her role was help resolve the matter. The representative via conference call contacted the department handing my request. After, reviewing my information my request was still denied based on \" policy changes ''. I requested an explanation and representative stated a letter will be mailed with explanation. I have received XXXX letters the reason for denial was not \" policy changes ''. I would like CFPB help in exploring the denial of my payment extension request especially since I have been clear reason for denial.   \n",
       "3                                                                                                                                                                                                                                                                                                                                                                                                                                                                                                                                                                                                                                                                                                                                                                                                                                                                                                                                                                                                                                                                                                                                                                                                                                                                                                                                                                                                                                                                                                                                                                                                                                                                                                                                                                                                                                                                                                                                                                                                                                                                                                                                  On XX/XX/2018, while trying to book a XXXX  XXXX  ticket, I came across an offer for {$300.00} to be applied towards the ticket if I applied for a rewards card. I put in my information for the offer and within less than a minute, was notified via the screen that a decision could not be made. I immediately contacted XXXX and was referred to Chase Bank. I then immediately contacted Chase bank within no more than 10minutes of getting the notification on the screen and I was told by the Chase representative I spoke with that my application was denied but she could not state why. I asked for more information about the XXXX  offer and she explained that even if I had been approved, the credit offer only gets applied after the first account statement and could not be used to purchase the ticket. I then explicitly told her I was glad I got denied and I was ABSOLUTELY no longer interested in the account. I asked that the application be withdrawn and the representative obliged. This all happened no later than 10mins after putting in the application on XX/XX/2018. Notwithstanding my explicit request not to proceed with the application and contrary to what I was told by the Chase representative, Chase did in fact go ahead to open a credit account in my name on XX/XX/2018. This is now being reported in my Credit Report and Chase has refused to correct this information on my credit report even though they went ahead to process an application which I did not consent to and out of their error.   \n",
       "9                                                                                                                                                                                                                                                                                                                                                                                                                                                                                                                                                                                                                                                                                                                                                                                                                                                                                                                                                                                                                                                                                                                                                                                                                                                                                                                                                                                                                                                                                                                                                                                                                                                                                                                                                                                                                                                                                                                                                                                                                                                                                                                                                                                                                                                                                                                                                                                                                                                                                                                                                                                                                                                                                                                                                                                                                                                                                                                                                                                                                                                                                                                                                                                                                                                                                                                                                                                                                                                                                                                                                               I have a Chase credit card which is incorrectly reporting data on my credit report. The company is not helping resolve the issue.   \n",
       "2                                                                                                                                                                                                                                                                                                                                                                                                                                                                                                                                                                                                                                                                                                                                                                                                                                                                                                                                                                                                                                                                                                                                                                                                                                                                                                                                                                                                                                                                                                                                                                                                                                                                                                                                                                                                                                                                                                                                                                                                                                                                                                                                                                                                                                                                                                                                                                                                                                                                                                                                                                                                                                                                                                                                                                                                                                                                                                                                                                                                                                                                                                                                                                                                                                                                                                                                                                                                                                                                Chase Card was reported on XX/XX/2019. However, fraudulent application have been submitted my identity without my consent to fraudulently obtain services. Do not extend credit without verifying the identity of the applicant.   \n",
       "11                                                                                                                                                                                                                                                                                                                                                                                                                                                                                                                                                                                                                                                                                                                                                                                                                                                                                                                                                                                                                                                                                                                                                                                                                                                                                                                                                                                                                                                                                                                                                                                                                                                                                                                                                                                                                                                                                                                                                                                                                                                                                                                                                                                                                                                                                                                                                                                                                                                                                                                                                                                                                                                                                                                                                                                                                                                                                                              I have reached out to XXXX several times in attempt to have this fraudulent inquiry removed I was told that I need to call and contact the original creditor that placed this inquiry on my report. I have made several attempts to get chase bank to contact the bureau and remove this inquiry that was not authorized by me. They seem to not be able to get me to the right person to take care of this issue no matter how many attempts I have made nobody seems to understand what I'm talkin about. I want chase bank to have this fraudulent inquiry removed from my credit report before I take legal action. I I have never requested any kind of credit with chase bank or hold any account with them. I have an iquiry from XX/XX/2019. I want this matter resolved.   \n",
       "5                                                                                                                                                                                                                                                                                                                                                                                                                                                                                                                                                                                                                                                                                                                                                                                                                                                                                                                                                                                                                                                                                                                                                                                                                                                                                                                                                                                                                                                                                                                                                                                                                                                                                                                                                                                                                                                                                                                                                                                                                                                                                                                                                                                                                                                                                                                                                                                                                                                                                                                                                                                                                                                                                                                                                                                                                                                                                                                                                                                                                                                                                                                                                                                                                                                                                                                                                                                                                                                                                                                                                                                                                                                                   Can you please remove inquiry   \n",
       "13                                                                                                                                                                                                                                                                                                                                                                                                                                                                                                                                                                                                                                                                                                                                                                                                                                                                                                                                                                                                                                                                                                                                                                                                                                                                                                                                                                                                                                                                                                                                                                                                                                                                                                                                                                                                                                                                                                                                                                                                                                                                                                                                                                                                                                                                                                                                                                                                                                                                                                                                                                                                                                                                                                                                                                                                                                                                                                                                                                                                                                                                                                     To whom it may concern, Chase bank charged wrongly overdraft fees, I have alert of low balance or unsuficent fee balance and always deposit immediatly to cover transactions if needed but Chase always changed the order and charged me overdraft fee anyway. when you call they said their per their guidelines they don't refund more then 2 overdrawft doesn't matter bank fault or not.\\n\\nTaken {$34.00} from people is money just because you can is not Ok.\\n\\nSee attached documents. When Chase refund, they always find the way to take back what they refunded in first place.   \n",
       "16                                                                                                                                                                                                                                                                                                                                                                                                                                                                                                                                                                                                                                                                                                                                                                                                                                                                                                                                                                                                                                                                                                                                                                                                                                                                                                                                                                                                                                                                                                                                                                                                                                                                                                                                                                                                                                                                                                                                                                                                                                                                                                                                                                                                                                                                                                                                                                                                                                                                                                                                                                                                                                                                                                                                                                                                                                                                                                                                                                                                                                                                                                                                                                                                                                                                                                                                                                                                                                                                                                                          XXXX XXXX a sofa, love seat, table and chairs and was never delivered. Debit card charged {$2400.00}. Bank says Visa denied claim, we have no furniture and no money.   \n",
       "18                                                                                                                                                                                                                                                                                                                                                                                                                                                                                                                                                                                                                                                                                                                                                                                                                                                                                                                                                                                                                                                                                                                                                                                                                                                                                                                                                                                                                                                                                                                                                                                                                                                                                                                                                                                                                                                                                                                                                                                                                                                                                                                                                                                                                                                                                                                                                                                                                                                                                                                                                                                                                                                                                                                 Chase sent me an email today with the innocuous title \" Important information regarding changes to your Chase account '' ( they often use similar titles for ads and other communications ). \\n\\nIn it, they force me into binding arbitration ( despite that never being something I had agreed to and never being a part of any contract between me and them ). \\n\\nThey do include a method to opt out, but have no additional information about the consequences ( many other people I've seen who have had a similar problem are afraid that Chase will close their account if they opt out ) and, even more egregiously, despite Chase simply sending an email doing this, they require me to mail them a letter with my personal information enclosed in order to opt out. \\n\\nThis is clearly less secure and a massive loss of both my time and money that is clearly being used solely to dissuade people from opting out. \\n\\nThis is blatant malpractice by Chase.   \n",
       "19                                                                                                                                                                                                                                                                                                                                                                                                                                                                                                                                                                                                                                                                                                                                                                                                                                                                                                                                                                                                                                                                                                                                                                                                                                                                                                                                                                                                                                                                                                                                                                                                                                                                                         I made a purchase with XXXX XXXX XXXX on XX/XX/2019 in the amount of {$38.00}. I was charged twice for this transaction. I placed a disputes case with Chase bank on XX/XX/2019 when I noticed the charge on my account. I called back on Sunday, XX/XX/2019 about the provisional credit for the charge and again on Monday, XX/XX/2019. I was told the charge had to post before a provisional credit could be provided. I used my debt card on Monday, XX/XX/2019 then tried to use it again but it would not work. I went to Chase bank on XXXX XXXX XXXX in XXXX XXXX, Nevada and was told that my account was closed due to fraudulent activity. I was shocked because I had not reported fraud on my account. I later found out that I was being accused by the disputes department of placing a fraudulent disputes case for the duplicate charge from XXXX XXXX  XXXX. I later contacted XXXX XXXX  XXXX again and was told that they DID see a duplicate charge and would credit my account within 3 - 5  days. I contacted the chase disputes department again on Monday, XX/XX/XXXX. 2019 and explained thaXXXX XXXX XXXX XXXX would credit my account and that I did not like being accused of making a fraudulent disputes claim. The escalation manager did NOT care and told me that Chase decision on closing my account was final. I had been a customer of Chase for XXXX   years. My character has been challenged by the disputes agents and I consider this to be detrimental to my character and slander. \\n\\nI am NOT seeking to keep my account open with Chase BUT I also do NOT want Chase reporting that they closed my checking account involuntarily. \\n\\nOnce again, I do NOT want Chase to have the checking account that I had with them being reflecting on any public records as being closed as involuntary closure by Chase. \\n\\nI did nothing wrong by filing a disputes claim for the duplicate charge or any other disputes cases that were filed in the past.   \n",
       "8   On XXXX XX/XX/2019, I made a {$300.00} payment to an online retailer using Chase quick pay with XXXX on the Chase website. I realized that this was a scam website after no confirmation, product, or response to any inquiries regarding the order and contacted Chase to get more information about the transaction to attempt getting a refund through the retailers bank. \\n\\nI contacted Chase via a secured message on XX/XX/2019 explaining what happened and asked \" Is there a way to reverse this transaction, or do you have a contact at XXXX that can give me more information about the recipient? '' That XXXX, my message was reviewed and I received a response restating my original email and informing me that \" The transfer has been completed. However, as you mentioned that the website is a scam while we can handle most inquiries by email, some require the expertise of another team. In order to assist you better in regards to the refund we request you to call our Consumer Online Technical Support Team. '' I called the number listed in the email and explained my situation to then be transferred to the claims department. I was directed to call XXXX and ask them about the transaction because Chase did not have any information outside of what I provided when initiating the transfer. I felt like this agent was trying to get me to end the call as quickly as possible and I had to interrupt her closing script to ask for a contact number at XXXX and didn't have an opportunity to get any information about what the right questions would be to ask XXXX or what words and phrases I should use to get the information I was looking for. \\n\\nI called XXXX who's automated system initially directed me to call my bank because I used the banks app to initiate the transaction. I called XXXX again to navigate their menus and talk to a customer service agent. They told me that all of the information about the transaction would in Chase 's system because I used the banks app to perform the transaction. She stayed on the line with me until I understood everything that I should ask and had a better understanding of the situation. I ended the call and called chase again. \\n\\nWhen I called chase the second time, the agent tried to look up the information about the receiving bank but could not find any additional information. She then asked me why I needed this information and I explained my situation again. I was once again transferred to the claims department, who told me that I needed to contact XXXX to get the information I was looking for. After I told her that I had already contacted them, she finally admitted that there was nothing that she could do due to the nature of the transaction and that these types of transactions are not secured. She said that Chase had no information about the recipient other than the email address that I inputted and that the recipients banking information was not kept in the system. In both phone calls, they asked if I initiated that transaction, and used that to absolve themselves of all responsibility in regards to this matter. \\n\\nDuring this whole process, it felt like Chase was not transparent about their policies regarding these types of transactions nor were they helpful in helping me get any information about the situation. These transactions are advertised as a \" fast, safe and easy way to send money, '' but seem to be a dangerous way to do business. I feel deceived by Chase 's advertising and further victimized by the way I was treated by the members on their customer service team.   \n",
       "\n",
       "    Topic  \n",
       "0       0  \n",
       "15      0  \n",
       "6       0  \n",
       "4       0  \n",
       "12      0  \n",
       "14      1  \n",
       "25      1  \n",
       "21      1  \n",
       "1       1  \n",
       "27      1  \n",
       "24      2  \n",
       "23      2  \n",
       "30      2  \n",
       "10      2  \n",
       "7       2  \n",
       "3       3  \n",
       "9       3  \n",
       "2       3  \n",
       "11      3  \n",
       "5       3  \n",
       "13      4  \n",
       "16      4  \n",
       "18      4  \n",
       "19      4  \n",
       "8       4  "
      ]
     },
     "execution_count": 61,
     "metadata": {},
     "output_type": "execute_result"
    }
   ],
   "source": [
    "# Printing the first 5 Complaint for each of the Topics:\n",
    "pd.set_option('display.max_colwidth', None)\n",
    "\n",
    "df_topic=df_clean.groupby('Topic').head(5)\n",
    "df_topic[['raw_complaints','Topic']].sort_values('Topic')"
   ]
  },
  {
   "cell_type": "markdown",
   "metadata": {
    "id": "piyLxzj6v07j"
   },
   "source": [
    "After evaluating the mapping, we will now assign following names/labels to the relevant topic:\n",
    "* Bank Account services\n",
    "* Credit card or prepaid card\n",
    "* Theft/Dispute Reporting\n",
    "* Mortgage/Loan\n",
    "* Others"
   ]
  },
  {
   "cell_type": "code",
   "execution_count": 62,
   "metadata": {
    "id": "TWpwDG4RJrGG"
   },
   "outputs": [],
   "source": [
    "#Creating the dictionary of Topic names and Topics:\n",
    "\n",
    "Topic_names = {\n",
    "    0 : 'Bank Account services',\n",
    "    1 : 'Credit card or prepaid card',\n",
    "    2 : \"Mortgage/Loan\",\n",
    "    3 : 'Others',\n",
    "    4: \"Theft/Dispute Reporting\"}\n",
    "\n",
    "#Replacing Topics with Topic Names:\n",
    "df_clean['Topic'] = df_clean['Topic'].map(Topic_names)"
   ]
  },
  {
   "cell_type": "code",
   "execution_count": 63,
   "metadata": {
    "id": "-2ULY5K6JrGG"
   },
   "outputs": [
    {
     "data": {
      "text/html": [
       "<div>\n",
       "<style scoped>\n",
       "    .dataframe tbody tr th:only-of-type {\n",
       "        vertical-align: middle;\n",
       "    }\n",
       "\n",
       "    .dataframe tbody tr th {\n",
       "        vertical-align: top;\n",
       "    }\n",
       "\n",
       "    .dataframe thead th {\n",
       "        text-align: right;\n",
       "    }\n",
       "</style>\n",
       "<table border=\"1\" class=\"dataframe\">\n",
       "  <thead>\n",
       "    <tr style=\"text-align: right;\">\n",
       "      <th></th>\n",
       "      <th>raw_complaints</th>\n",
       "      <th>Topic</th>\n",
       "    </tr>\n",
       "  </thead>\n",
       "  <tbody>\n",
       "    <tr>\n",
       "      <th>0</th>\n",
       "      <td>Good morning my name is XXXX XXXX and I appreciate it if you could help me put a stop to Chase Bank cardmember services. \\nIn 2018 I wrote to Chase asking for debt verification and what they sent me a statement which is not acceptable. I am asking the bank to validate the debt. Instead I been receiving mail every month from them attempting to collect a debt. \\nI have a right to know this information as a consumer. \\n\\nChase account # XXXX XXXX XXXX XXXX Thanks in advance for your help.</td>\n",
       "      <td>Bank Account services</td>\n",
       "    </tr>\n",
       "    <tr>\n",
       "      <th>1</th>\n",
       "      <td>I upgraded my XXXX XXXX card in XX/XX/2018 and was told by the agent who did the upgrade my anniversary date would not change. It turned the agent was giving me the wrong information in order to upgrade the account. XXXX   changed my anniversary date from XX/XX/XXXX to XX/XX/XXXX without my consent! XXXX has the recording of the agent who was misled me.</td>\n",
       "      <td>Credit card or prepaid card</td>\n",
       "    </tr>\n",
       "    <tr>\n",
       "      <th>2</th>\n",
       "      <td>Chase Card was reported on XX/XX/2019. However, fraudulent application have been submitted my identity without my consent to fraudulently obtain services. Do not extend credit without verifying the identity of the applicant.</td>\n",
       "      <td>Others</td>\n",
       "    </tr>\n",
       "    <tr>\n",
       "      <th>3</th>\n",
       "      <td>On XX/XX/2018, while trying to book a XXXX  XXXX  ticket, I came across an offer for {$300.00} to be applied towards the ticket if I applied for a rewards card. I put in my information for the offer and within less than a minute, was notified via the screen that a decision could not be made. I immediately contacted XXXX and was referred to Chase Bank. I then immediately contacted Chase bank within no more than 10minutes of getting the notification on the screen and I was told by the Chase representative I spoke with that my application was denied but she could not state why. I asked for more information about the XXXX  offer and she explained that even if I had been approved, the credit offer only gets applied after the first account statement and could not be used to purchase the ticket. I then explicitly told her I was glad I got denied and I was ABSOLUTELY no longer interested in the account. I asked that the application be withdrawn and the representative obliged. This all happened no later than 10mins after putting in the application on XX/XX/2018. Notwithstanding my explicit request not to proceed with the application and contrary to what I was told by the Chase representative, Chase did in fact go ahead to open a credit account in my name on XX/XX/2018. This is now being reported in my Credit Report and Chase has refused to correct this information on my credit report even though they went ahead to process an application which I did not consent to and out of their error.</td>\n",
       "      <td>Others</td>\n",
       "    </tr>\n",
       "    <tr>\n",
       "      <th>4</th>\n",
       "      <td>my grand son give me check for {$1600.00} i deposit it into my chase account after fund clear my chase bank closed my account never paid me my money they said they need to speek with my grand son check was clear money was taking by my chase bank refuse to pay me my money my grand son called chase 2 times they told him i should call not him to verify the check owner he is out the country most the time  date happen XX/XX/2018 check number XXXX claim number is XXXX with chase</td>\n",
       "      <td>Bank Account services</td>\n",
       "    </tr>\n",
       "  </tbody>\n",
       "</table>\n",
       "</div>"
      ],
      "text/plain": [
       "                                                                                                                                                                                                                                                                                                                                                                                                                                                                                                                                                                                                                                                                                                                                                                                                                                                                                                                                                                                                                                                                                                                                                                                                                                                                                                                                                                                                                                                                                                                                                   raw_complaints  \\\n",
       "0                                                                                                                                                                                                                                                                                                                                                                                                                                                                                                                                                                                                                                                                                                                                                                                                                                                                                                                                                                                                                                                      Good morning my name is XXXX XXXX and I appreciate it if you could help me put a stop to Chase Bank cardmember services. \\nIn 2018 I wrote to Chase asking for debt verification and what they sent me a statement which is not acceptable. I am asking the bank to validate the debt. Instead I been receiving mail every month from them attempting to collect a debt. \\nI have a right to know this information as a consumer. \\n\\nChase account # XXXX XXXX XXXX XXXX Thanks in advance for your help.   \n",
       "1                                                                                                                                                                                                                                                                                                                                                                                                                                                                                                                                                                                                                                                                                                                                                                                                                                                                                                                                                                                                                                                                                                                                                                                             I upgraded my XXXX XXXX card in XX/XX/2018 and was told by the agent who did the upgrade my anniversary date would not change. It turned the agent was giving me the wrong information in order to upgrade the account. XXXX   changed my anniversary date from XX/XX/XXXX to XX/XX/XXXX without my consent! XXXX has the recording of the agent who was misled me.   \n",
       "2                                                                                                                                                                                                                                                                                                                                                                                                                                                                                                                                                                                                                                                                                                                                                                                                                                                                                                                                                                                                                                                                                                                                                                                                                                                                                                                                Chase Card was reported on XX/XX/2019. However, fraudulent application have been submitted my identity without my consent to fraudulently obtain services. Do not extend credit without verifying the identity of the applicant.   \n",
       "3  On XX/XX/2018, while trying to book a XXXX  XXXX  ticket, I came across an offer for {$300.00} to be applied towards the ticket if I applied for a rewards card. I put in my information for the offer and within less than a minute, was notified via the screen that a decision could not be made. I immediately contacted XXXX and was referred to Chase Bank. I then immediately contacted Chase bank within no more than 10minutes of getting the notification on the screen and I was told by the Chase representative I spoke with that my application was denied but she could not state why. I asked for more information about the XXXX  offer and she explained that even if I had been approved, the credit offer only gets applied after the first account statement and could not be used to purchase the ticket. I then explicitly told her I was glad I got denied and I was ABSOLUTELY no longer interested in the account. I asked that the application be withdrawn and the representative obliged. This all happened no later than 10mins after putting in the application on XX/XX/2018. Notwithstanding my explicit request not to proceed with the application and contrary to what I was told by the Chase representative, Chase did in fact go ahead to open a credit account in my name on XX/XX/2018. This is now being reported in my Credit Report and Chase has refused to correct this information on my credit report even though they went ahead to process an application which I did not consent to and out of their error.   \n",
       "4                                                                                                                                                                                                                                                                                                                                                                                                                                                                                                                                                                                                                                                                                                                                                                                                                                                                                                                                                                                                                                                                   my grand son give me check for {$1600.00} i deposit it into my chase account after fund clear my chase bank closed my account never paid me my money they said they need to speek with my grand son check was clear money was taking by my chase bank refuse to pay me my money my grand son called chase 2 times they told him i should call not him to verify the check owner he is out the country most the time  date happen XX/XX/2018 check number XXXX claim number is XXXX with chase   \n",
       "\n",
       "                         Topic  \n",
       "0        Bank Account services  \n",
       "1  Credit card or prepaid card  \n",
       "2                       Others  \n",
       "3                       Others  \n",
       "4        Bank Account services  "
      ]
     },
     "execution_count": 63,
     "metadata": {},
     "output_type": "execute_result"
    }
   ],
   "source": [
    "df_clean[['raw_complaints','Topic']].head()"
   ]
  },
  {
   "cell_type": "markdown",
   "metadata": {
    "id": "7Mu0QBOcJrGH"
   },
   "source": [
    "## Model building using supervised learning\n",
    "Our ultimate objective is to have automated email classification system.\n",
    "* we will now start building classification models using supervised learning since we now have craeted labelled data.\n",
    "* Since we will be using supervised learning technique we will have to convert the topic names to numbers(numpy arrays only understand numbers)."
   ]
  },
  {
   "cell_type": "code",
   "execution_count": 64,
   "metadata": {
    "id": "_U8J3J8wJrGH"
   },
   "outputs": [],
   "source": [
    "# Creating the dictionary again of Topic names and Topics:\n",
    "Topic_names = {  \n",
    "    'Bank Account services' : 0,\n",
    "    'Credit card or prepaid card' : 1,\n",
    "    'Theft/Dispute Reporting' : 2,\n",
    "    'Mortgage/Loan' : 3,\n",
    "    'Others' : 4\n",
    "}\n",
    "\n",
    "# Replacing Topics with Topic Names\n",
    "df_clean['Topic'] = df_clean['Topic'].map(Topic_names)"
   ]
  },
  {
   "cell_type": "code",
   "execution_count": 65,
   "metadata": {
    "id": "BWIgJUkQJrGH"
   },
   "outputs": [
    {
     "data": {
      "text/html": [
       "<div>\n",
       "<style scoped>\n",
       "    .dataframe tbody tr th:only-of-type {\n",
       "        vertical-align: middle;\n",
       "    }\n",
       "\n",
       "    .dataframe tbody tr th {\n",
       "        vertical-align: top;\n",
       "    }\n",
       "\n",
       "    .dataframe thead th {\n",
       "        text-align: right;\n",
       "    }\n",
       "</style>\n",
       "<table border=\"1\" class=\"dataframe\">\n",
       "  <thead>\n",
       "    <tr style=\"text-align: right;\">\n",
       "      <th></th>\n",
       "      <th>raw_complaints</th>\n",
       "      <th>Topic</th>\n",
       "    </tr>\n",
       "  </thead>\n",
       "  <tbody>\n",
       "    <tr>\n",
       "      <th>0</th>\n",
       "      <td>Good morning my name is XXXX XXXX and I appreciate it if you could help me put a stop to Chase Bank cardmember services. \\nIn 2018 I wrote to Chase asking for debt verification and what they sent me a statement which is not acceptable. I am asking the bank to validate the debt. Instead I been receiving mail every month from them attempting to collect a debt. \\nI have a right to know this information as a consumer. \\n\\nChase account # XXXX XXXX XXXX XXXX Thanks in advance for your help.</td>\n",
       "      <td>0</td>\n",
       "    </tr>\n",
       "    <tr>\n",
       "      <th>1</th>\n",
       "      <td>I upgraded my XXXX XXXX card in XX/XX/2018 and was told by the agent who did the upgrade my anniversary date would not change. It turned the agent was giving me the wrong information in order to upgrade the account. XXXX   changed my anniversary date from XX/XX/XXXX to XX/XX/XXXX without my consent! XXXX has the recording of the agent who was misled me.</td>\n",
       "      <td>1</td>\n",
       "    </tr>\n",
       "    <tr>\n",
       "      <th>2</th>\n",
       "      <td>Chase Card was reported on XX/XX/2019. However, fraudulent application have been submitted my identity without my consent to fraudulently obtain services. Do not extend credit without verifying the identity of the applicant.</td>\n",
       "      <td>4</td>\n",
       "    </tr>\n",
       "    <tr>\n",
       "      <th>3</th>\n",
       "      <td>On XX/XX/2018, while trying to book a XXXX  XXXX  ticket, I came across an offer for {$300.00} to be applied towards the ticket if I applied for a rewards card. I put in my information for the offer and within less than a minute, was notified via the screen that a decision could not be made. I immediately contacted XXXX and was referred to Chase Bank. I then immediately contacted Chase bank within no more than 10minutes of getting the notification on the screen and I was told by the Chase representative I spoke with that my application was denied but she could not state why. I asked for more information about the XXXX  offer and she explained that even if I had been approved, the credit offer only gets applied after the first account statement and could not be used to purchase the ticket. I then explicitly told her I was glad I got denied and I was ABSOLUTELY no longer interested in the account. I asked that the application be withdrawn and the representative obliged. This all happened no later than 10mins after putting in the application on XX/XX/2018. Notwithstanding my explicit request not to proceed with the application and contrary to what I was told by the Chase representative, Chase did in fact go ahead to open a credit account in my name on XX/XX/2018. This is now being reported in my Credit Report and Chase has refused to correct this information on my credit report even though they went ahead to process an application which I did not consent to and out of their error.</td>\n",
       "      <td>4</td>\n",
       "    </tr>\n",
       "    <tr>\n",
       "      <th>4</th>\n",
       "      <td>my grand son give me check for {$1600.00} i deposit it into my chase account after fund clear my chase bank closed my account never paid me my money they said they need to speek with my grand son check was clear money was taking by my chase bank refuse to pay me my money my grand son called chase 2 times they told him i should call not him to verify the check owner he is out the country most the time  date happen XX/XX/2018 check number XXXX claim number is XXXX with chase</td>\n",
       "      <td>0</td>\n",
       "    </tr>\n",
       "  </tbody>\n",
       "</table>\n",
       "</div>"
      ],
      "text/plain": [
       "                                                                                                                                                                                                                                                                                                                                                                                                                                                                                                                                                                                                                                                                                                                                                                                                                                                                                                                                                                                                                                                                                                                                                                                                                                                                                                                                                                                                                                                                                                                                                   raw_complaints  \\\n",
       "0                                                                                                                                                                                                                                                                                                                                                                                                                                                                                                                                                                                                                                                                                                                                                                                                                                                                                                                                                                                                                                                      Good morning my name is XXXX XXXX and I appreciate it if you could help me put a stop to Chase Bank cardmember services. \\nIn 2018 I wrote to Chase asking for debt verification and what they sent me a statement which is not acceptable. I am asking the bank to validate the debt. Instead I been receiving mail every month from them attempting to collect a debt. \\nI have a right to know this information as a consumer. \\n\\nChase account # XXXX XXXX XXXX XXXX Thanks in advance for your help.   \n",
       "1                                                                                                                                                                                                                                                                                                                                                                                                                                                                                                                                                                                                                                                                                                                                                                                                                                                                                                                                                                                                                                                                                                                                                                                             I upgraded my XXXX XXXX card in XX/XX/2018 and was told by the agent who did the upgrade my anniversary date would not change. It turned the agent was giving me the wrong information in order to upgrade the account. XXXX   changed my anniversary date from XX/XX/XXXX to XX/XX/XXXX without my consent! XXXX has the recording of the agent who was misled me.   \n",
       "2                                                                                                                                                                                                                                                                                                                                                                                                                                                                                                                                                                                                                                                                                                                                                                                                                                                                                                                                                                                                                                                                                                                                                                                                                                                                                                                                Chase Card was reported on XX/XX/2019. However, fraudulent application have been submitted my identity without my consent to fraudulently obtain services. Do not extend credit without verifying the identity of the applicant.   \n",
       "3  On XX/XX/2018, while trying to book a XXXX  XXXX  ticket, I came across an offer for {$300.00} to be applied towards the ticket if I applied for a rewards card. I put in my information for the offer and within less than a minute, was notified via the screen that a decision could not be made. I immediately contacted XXXX and was referred to Chase Bank. I then immediately contacted Chase bank within no more than 10minutes of getting the notification on the screen and I was told by the Chase representative I spoke with that my application was denied but she could not state why. I asked for more information about the XXXX  offer and she explained that even if I had been approved, the credit offer only gets applied after the first account statement and could not be used to purchase the ticket. I then explicitly told her I was glad I got denied and I was ABSOLUTELY no longer interested in the account. I asked that the application be withdrawn and the representative obliged. This all happened no later than 10mins after putting in the application on XX/XX/2018. Notwithstanding my explicit request not to proceed with the application and contrary to what I was told by the Chase representative, Chase did in fact go ahead to open a credit account in my name on XX/XX/2018. This is now being reported in my Credit Report and Chase has refused to correct this information on my credit report even though they went ahead to process an application which I did not consent to and out of their error.   \n",
       "4                                                                                                                                                                                                                                                                                                                                                                                                                                                                                                                                                                                                                                                                                                                                                                                                                                                                                                                                                                                                                                                                   my grand son give me check for {$1600.00} i deposit it into my chase account after fund clear my chase bank closed my account never paid me my money they said they need to speek with my grand son check was clear money was taking by my chase bank refuse to pay me my money my grand son called chase 2 times they told him i should call not him to verify the check owner he is out the country most the time  date happen XX/XX/2018 check number XXXX claim number is XXXX with chase   \n",
       "\n",
       "   Topic  \n",
       "0      0  \n",
       "1      1  \n",
       "2      4  \n",
       "3      4  \n",
       "4      0  "
      ]
     },
     "execution_count": 65,
     "metadata": {},
     "output_type": "execute_result"
    }
   ],
   "source": [
    "df_clean[['raw_complaints','Topic']].head()"
   ]
  },
  {
   "cell_type": "code",
   "execution_count": 66,
   "metadata": {
    "id": "Xx-FrbkWJrGH"
   },
   "outputs": [],
   "source": [
    "# Keeping only the relevent columns i.e. \"raw_complaints\" & \"Topic\" in the new dataframe :\n",
    "training_data=df_clean[['raw_complaints','Topic']].copy(deep=True)"
   ]
  },
  {
   "cell_type": "code",
   "execution_count": 67,
   "metadata": {
    "id": "lVg2pa12JrGI"
   },
   "outputs": [
    {
     "data": {
      "text/html": [
       "<div>\n",
       "<style scoped>\n",
       "    .dataframe tbody tr th:only-of-type {\n",
       "        vertical-align: middle;\n",
       "    }\n",
       "\n",
       "    .dataframe tbody tr th {\n",
       "        vertical-align: top;\n",
       "    }\n",
       "\n",
       "    .dataframe thead th {\n",
       "        text-align: right;\n",
       "    }\n",
       "</style>\n",
       "<table border=\"1\" class=\"dataframe\">\n",
       "  <thead>\n",
       "    <tr style=\"text-align: right;\">\n",
       "      <th></th>\n",
       "      <th>raw_complaints</th>\n",
       "      <th>Topic</th>\n",
       "    </tr>\n",
       "  </thead>\n",
       "  <tbody>\n",
       "    <tr>\n",
       "      <th>0</th>\n",
       "      <td>Good morning my name is XXXX XXXX and I appreciate it if you could help me put a stop to Chase Bank cardmember services. \\nIn 2018 I wrote to Chase asking for debt verification and what they sent me a statement which is not acceptable. I am asking the bank to validate the debt. Instead I been receiving mail every month from them attempting to collect a debt. \\nI have a right to know this information as a consumer. \\n\\nChase account # XXXX XXXX XXXX XXXX Thanks in advance for your help.</td>\n",
       "      <td>0</td>\n",
       "    </tr>\n",
       "    <tr>\n",
       "      <th>1</th>\n",
       "      <td>I upgraded my XXXX XXXX card in XX/XX/2018 and was told by the agent who did the upgrade my anniversary date would not change. It turned the agent was giving me the wrong information in order to upgrade the account. XXXX   changed my anniversary date from XX/XX/XXXX to XX/XX/XXXX without my consent! XXXX has the recording of the agent who was misled me.</td>\n",
       "      <td>1</td>\n",
       "    </tr>\n",
       "    <tr>\n",
       "      <th>2</th>\n",
       "      <td>Chase Card was reported on XX/XX/2019. However, fraudulent application have been submitted my identity without my consent to fraudulently obtain services. Do not extend credit without verifying the identity of the applicant.</td>\n",
       "      <td>4</td>\n",
       "    </tr>\n",
       "    <tr>\n",
       "      <th>3</th>\n",
       "      <td>On XX/XX/2018, while trying to book a XXXX  XXXX  ticket, I came across an offer for {$300.00} to be applied towards the ticket if I applied for a rewards card. I put in my information for the offer and within less than a minute, was notified via the screen that a decision could not be made. I immediately contacted XXXX and was referred to Chase Bank. I then immediately contacted Chase bank within no more than 10minutes of getting the notification on the screen and I was told by the Chase representative I spoke with that my application was denied but she could not state why. I asked for more information about the XXXX  offer and she explained that even if I had been approved, the credit offer only gets applied after the first account statement and could not be used to purchase the ticket. I then explicitly told her I was glad I got denied and I was ABSOLUTELY no longer interested in the account. I asked that the application be withdrawn and the representative obliged. This all happened no later than 10mins after putting in the application on XX/XX/2018. Notwithstanding my explicit request not to proceed with the application and contrary to what I was told by the Chase representative, Chase did in fact go ahead to open a credit account in my name on XX/XX/2018. This is now being reported in my Credit Report and Chase has refused to correct this information on my credit report even though they went ahead to process an application which I did not consent to and out of their error.</td>\n",
       "      <td>4</td>\n",
       "    </tr>\n",
       "    <tr>\n",
       "      <th>4</th>\n",
       "      <td>my grand son give me check for {$1600.00} i deposit it into my chase account after fund clear my chase bank closed my account never paid me my money they said they need to speek with my grand son check was clear money was taking by my chase bank refuse to pay me my money my grand son called chase 2 times they told him i should call not him to verify the check owner he is out the country most the time  date happen XX/XX/2018 check number XXXX claim number is XXXX with chase</td>\n",
       "      <td>0</td>\n",
       "    </tr>\n",
       "  </tbody>\n",
       "</table>\n",
       "</div>"
      ],
      "text/plain": [
       "                                                                                                                                                                                                                                                                                                                                                                                                                                                                                                                                                                                                                                                                                                                                                                                                                                                                                                                                                                                                                                                                                                                                                                                                                                                                                                                                                                                                                                                                                                                                                   raw_complaints  \\\n",
       "0                                                                                                                                                                                                                                                                                                                                                                                                                                                                                                                                                                                                                                                                                                                                                                                                                                                                                                                                                                                                                                                      Good morning my name is XXXX XXXX and I appreciate it if you could help me put a stop to Chase Bank cardmember services. \\nIn 2018 I wrote to Chase asking for debt verification and what they sent me a statement which is not acceptable. I am asking the bank to validate the debt. Instead I been receiving mail every month from them attempting to collect a debt. \\nI have a right to know this information as a consumer. \\n\\nChase account # XXXX XXXX XXXX XXXX Thanks in advance for your help.   \n",
       "1                                                                                                                                                                                                                                                                                                                                                                                                                                                                                                                                                                                                                                                                                                                                                                                                                                                                                                                                                                                                                                                                                                                                                                                             I upgraded my XXXX XXXX card in XX/XX/2018 and was told by the agent who did the upgrade my anniversary date would not change. It turned the agent was giving me the wrong information in order to upgrade the account. XXXX   changed my anniversary date from XX/XX/XXXX to XX/XX/XXXX without my consent! XXXX has the recording of the agent who was misled me.   \n",
       "2                                                                                                                                                                                                                                                                                                                                                                                                                                                                                                                                                                                                                                                                                                                                                                                                                                                                                                                                                                                                                                                                                                                                                                                                                                                                                                                                Chase Card was reported on XX/XX/2019. However, fraudulent application have been submitted my identity without my consent to fraudulently obtain services. Do not extend credit without verifying the identity of the applicant.   \n",
       "3  On XX/XX/2018, while trying to book a XXXX  XXXX  ticket, I came across an offer for {$300.00} to be applied towards the ticket if I applied for a rewards card. I put in my information for the offer and within less than a minute, was notified via the screen that a decision could not be made. I immediately contacted XXXX and was referred to Chase Bank. I then immediately contacted Chase bank within no more than 10minutes of getting the notification on the screen and I was told by the Chase representative I spoke with that my application was denied but she could not state why. I asked for more information about the XXXX  offer and she explained that even if I had been approved, the credit offer only gets applied after the first account statement and could not be used to purchase the ticket. I then explicitly told her I was glad I got denied and I was ABSOLUTELY no longer interested in the account. I asked that the application be withdrawn and the representative obliged. This all happened no later than 10mins after putting in the application on XX/XX/2018. Notwithstanding my explicit request not to proceed with the application and contrary to what I was told by the Chase representative, Chase did in fact go ahead to open a credit account in my name on XX/XX/2018. This is now being reported in my Credit Report and Chase has refused to correct this information on my credit report even though they went ahead to process an application which I did not consent to and out of their error.   \n",
       "4                                                                                                                                                                                                                                                                                                                                                                                                                                                                                                                                                                                                                                                                                                                                                                                                                                                                                                                                                                                                                                                                   my grand son give me check for {$1600.00} i deposit it into my chase account after fund clear my chase bank closed my account never paid me my money they said they need to speek with my grand son check was clear money was taking by my chase bank refuse to pay me my money my grand son called chase 2 times they told him i should call not him to verify the check owner he is out the country most the time  date happen XX/XX/2018 check number XXXX claim number is XXXX with chase   \n",
       "\n",
       "   Topic  \n",
       "0      0  \n",
       "1      1  \n",
       "2      4  \n",
       "3      4  \n",
       "4      0  "
      ]
     },
     "execution_count": 67,
     "metadata": {},
     "output_type": "execute_result"
    }
   ],
   "source": [
    "training_data.head()"
   ]
  },
  {
   "cell_type": "code",
   "execution_count": 68,
   "metadata": {},
   "outputs": [
    {
     "data": {
      "image/png": "[encoded data removed]",
      "text/plain": [
       "<Figure size 432x288 with 1 Axes>"
      ]
     },
     "metadata": {
      "needs_background": "light"
     },
     "output_type": "display_data"
    }
   ],
   "source": [
    "sns.countplot(data=training_data,x='Topic')\n",
    "plt.title(\"Distribution of Topics\", fontsize=20)\n",
    "plt.show()"
   ]
  },
  {
   "cell_type": "markdown",
   "metadata": {
    "id": "280Vbqk-7a8M"
   },
   "source": [
    "For model training, we need to prepere the data. For this we will perform following steps:\n",
    "* Create the vector counts using Count Vectoriser.\n",
    "    * ngram_range = (1,3) : We are using unigrams,bigrams and trigrams\n",
    "    * stop_words='english' : We will filter common stop words specific to english language.\n",
    "    * max_df is used for removing terms that appear too frequently, also known as \"corpus-specific stop words\". \n",
    "        * max_df = 0.95 means \"ignore terms that appear in more than 95% of the complaints\".\n",
    "    * min_df is used for removing terms that appear rarely. \n",
    "        * min_df = 2 means \"ignore terms that appear in less than 2 documents\".\n",
    "    * Since we have large number of features, we will make use of 'max_features'. \n",
    "        * max_features = 20000 means 'build a vocabulary that only considers the top 20000 features ordered by term frequency across the corpus'.\n",
    "* Transform the word vecotr to tf-idf.\n",
    "* Create the train & test data using the train_test_split on the tf-idf & topics."
   ]
  },
  {
   "cell_type": "code",
   "execution_count": 69,
   "metadata": {
    "id": "oUlQpgkzJrGI"
   },
   "outputs": [],
   "source": [
    "X = training_data.raw_complaints.values\n",
    "y = training_data.Topic.values\n",
    "\n",
    "# Creating the vector counts using Count Vectoriser:\n",
    "vectorizer = CountVectorizer(ngram_range = (1,3),stop_words='english',max_df=.95,min_df=2,max_features=20000)\n",
    "X_count_vectorizer = vectorizer.fit_transform(X)\n",
    "\n",
    "# Transforming the word vecotrs to tf-idf:\n",
    "tf_idf_transform = TfidfTransformer()\n",
    "X_tf_idf = tf_idf_transform.fit_transform(X_count_vectorizer)\n",
    "\n",
    "# Create the train & test data using the train_test_split on the tf-idf & topics:\n",
    "X_train,X_test,y_train,y_test = train_test_split(X_tf_idf,y,test_size=0.2,random_state=40)"
   ]
  },
  {
   "cell_type": "code",
   "execution_count": 70,
   "metadata": {},
   "outputs": [],
   "source": [
    "# Saving vocab for inferencing on new content later:\n",
    "with open('CountVec_pkl', 'wb') as files:\n",
    "    pickle.dump(vectorizer, files)\n",
    "    \n",
    "with open('TfidfTransformer_pkl', 'wb') as files:\n",
    "    pickle.dump(tf_idf_transform, files)"
   ]
  },
  {
   "cell_type": "code",
   "execution_count": 71,
   "metadata": {},
   "outputs": [
    {
     "name": "stdout",
     "output_type": "stream",
     "text": [
      "Shape of X_train and X_test is (16857, 20000) , (4215, 20000) respectively\n",
      "Shape of y_train and y_test is (16857,) , (4215,) respectively\n"
     ]
    }
   ],
   "source": [
    "# Inspecting shape of train and test set:\n",
    "print(f'Shape of X_train and X_test is {X_train.shape} , {X_test.shape} respectively')\n",
    "print(f'Shape of y_train and y_test is {y_train.shape} , {y_test.shape} respectively')"
   ]
  },
  {
   "cell_type": "markdown",
   "metadata": {
    "id": "uMU3vj6w-wqL"
   },
   "source": [
    "## Model training and evaluation"
   ]
  },
  {
   "cell_type": "code",
   "execution_count": 72,
   "metadata": {},
   "outputs": [],
   "source": [
    "X_train_copy = copy.deepcopy(X_train)\n",
    "X_test_copy = copy.deepcopy(X_test)\n",
    "y_train_copy = copy.deepcopy(y_train)\n",
    "y_test_copy = copy.deepcopy(y_test)"
   ]
  },
  {
   "cell_type": "markdown",
   "metadata": {},
   "source": [
    "#### Logistic regression :"
   ]
  },
  {
   "cell_type": "code",
   "execution_count": 73,
   "metadata": {},
   "outputs": [],
   "source": [
    "X_train = copy.deepcopy(X_train_copy)\n",
    "X_test = copy.deepcopy(X_test_copy)\n",
    "y_train = copy.deepcopy(y_train_copy)\n",
    "y_test = copy.deepcopy(y_test_copy)"
   ]
  },
  {
   "cell_type": "code",
   "execution_count": 74,
   "metadata": {},
   "outputs": [
    {
     "name": "stdout",
     "output_type": "stream",
     "text": [
      "ACC : 0.9074733096085409\n",
      "              precision    recall  f1-score   support\n",
      "\n",
      "           0       0.92      0.93      0.92      1049\n",
      "           1       0.90      0.89      0.89       777\n",
      "           2       0.89      0.87      0.88      1009\n",
      "           3       0.93      0.95      0.94      1013\n",
      "           4       0.88      0.89      0.88       367\n",
      "\n",
      "    accuracy                           0.91      4215\n",
      "   macro avg       0.90      0.90      0.90      4215\n",
      "weighted avg       0.91      0.91      0.91      4215\n",
      "\n"
     ]
    }
   ],
   "source": [
    "logreg = LogisticRegression(random_state=40,max_iter=500)\n",
    "logreg.fit(X_train,y_train)\n",
    "y_pred_logreg = logreg.predict(X_test)\n",
    "\n",
    "# Metric evalution:\n",
    "clf_report = classification_report(y_test,y_pred_logreg)\n",
    "print(F'ACC : {accuracy_score(y_test,y_pred_logreg)}')\n",
    "print(clf_report)"
   ]
  },
  {
   "cell_type": "code",
   "execution_count": 75,
   "metadata": {},
   "outputs": [
    {
     "name": "stdout",
     "output_type": "stream",
     "text": [
      "Fitting 4 folds for each of 24 candidates, totalling 96 fits\n",
      "{'C': 1, 'penalty': 'l1', 'solver': 'saga'}\n"
     ]
    }
   ],
   "source": [
    "# Hyperparameter tuning to improve performance of the model:\n",
    "param_grid_lr = {\n",
    "     'penalty': ['l1', 'l2'],\n",
    "     'C': [0.001,0.01,0.1,1,10,100],\n",
    "     'solver':['liblinear', 'saga']\n",
    "    }\n",
    "\n",
    "grid_lr = GridSearchCV(estimator=logreg, \n",
    "                       param_grid=param_grid_lr,\n",
    "                       verbose=1,\n",
    "                       scoring='f1_weighted',\n",
    "                       n_jobs=-1,\n",
    "                       cv=4)\n",
    "grid_lr.fit(X_train, y_train)\n",
    "print(grid_lr.best_params_)"
   ]
  },
  {
   "cell_type": "code",
   "execution_count": 76,
   "metadata": {},
   "outputs": [
    {
     "name": "stdout",
     "output_type": "stream",
     "text": [
      "ACC : 0.9221826809015421\n",
      "              precision    recall  f1-score   support\n",
      "\n",
      "           0       0.94      0.94      0.94      1049\n",
      "           1       0.92      0.92      0.92       777\n",
      "           2       0.90      0.89      0.89      1009\n",
      "           3       0.94      0.95      0.94      1013\n",
      "           4       0.89      0.91      0.90       367\n",
      "\n",
      "    accuracy                           0.92      4215\n",
      "   macro avg       0.92      0.92      0.92      4215\n",
      "weighted avg       0.92      0.92      0.92      4215\n",
      "\n"
     ]
    }
   ],
   "source": [
    "logreg_tune=LogisticRegression(C=1, \n",
    "                               penalty='l1', \n",
    "                               solver='saga',max_iter=500,random_state=40)\n",
    "logreg_tune.fit(X_train, y_train)\n",
    "y_pred_lr = logreg_tune.predict(X_test)\n",
    "\n",
    "# Metric evalution:\n",
    "clf_report = classification_report(y_test,y_pred_lr)\n",
    "print(F'ACC : {accuracy_score(y_test,y_pred_lr)}')\n",
    "print(clf_report)"
   ]
  },
  {
   "cell_type": "code",
   "execution_count": 77,
   "metadata": {},
   "outputs": [
    {
     "name": "stdout",
     "output_type": "stream",
     "text": [
      "[[989  10  35  12   3]\n",
      " [ 10 714  33   6  14]\n",
      " [ 39  32 893  36   9]\n",
      " [ 14   7  20 958  14]\n",
      " [  4  13   8   9 333]]\n"
     ]
    }
   ],
   "source": [
    "logreg_cm = confusion_matrix(y_test,y_pred_lr)\n",
    "print(logreg_cm)"
   ]
  },
  {
   "cell_type": "code",
   "execution_count": 78,
   "metadata": {},
   "outputs": [],
   "source": [
    "with open('Logit_pkl', 'wb') as files:\n",
    "    pickle.dump(logreg_tune, files)"
   ]
  },
  {
   "cell_type": "code",
   "execution_count": null,
   "metadata": {},
   "outputs": [],
   "source": []
  },
  {
   "cell_type": "markdown",
   "metadata": {
    "id": "udLHpPsZJrGI"
   },
   "source": [
    "#### Decision tree:"
   ]
  },
  {
   "cell_type": "code",
   "execution_count": 79,
   "metadata": {},
   "outputs": [],
   "source": [
    "X_train = copy.deepcopy(X_train_copy)\n",
    "X_test = copy.deepcopy(X_test_copy)\n",
    "y_train = copy.deepcopy(y_train_copy)\n",
    "y_test = copy.deepcopy(y_test_copy)"
   ]
  },
  {
   "cell_type": "code",
   "execution_count": 80,
   "metadata": {
    "id": "N2OznsObJrGP"
   },
   "outputs": [
    {
     "name": "stdout",
     "output_type": "stream",
     "text": [
      "ACC : 0.7620403321470937\n",
      "              precision    recall  f1-score   support\n",
      "\n",
      "           0       0.80      0.76      0.78      1049\n",
      "           1       0.77      0.77      0.77       777\n",
      "           2       0.70      0.69      0.70      1009\n",
      "           3       0.79      0.82      0.81      1013\n",
      "           4       0.74      0.76      0.75       367\n",
      "\n",
      "    accuracy                           0.76      4215\n",
      "   macro avg       0.76      0.76      0.76      4215\n",
      "weighted avg       0.76      0.76      0.76      4215\n",
      "\n"
     ]
    }
   ],
   "source": [
    "dt_clf=DecisionTreeClassifier()\n",
    "dt_clf.fit(X_train, y_train)\n",
    "y_pred_dt = dt_clf.predict(X_test)\n",
    "\n",
    "# Metric evalution:\n",
    "clf_report = classification_report(y_test,y_pred_dt)\n",
    "print(F'ACC : {accuracy_score(y_test,y_pred_dt)}')\n",
    "print(clf_report)"
   ]
  },
  {
   "cell_type": "code",
   "execution_count": 81,
   "metadata": {},
   "outputs": [
    {
     "name": "stdout",
     "output_type": "stream",
     "text": [
      "Fitting 4 folds for each of 128 candidates, totalling 512 fits\n",
      "{'criterion': 'gini', 'max_depth': 25, 'max_features': None, 'min_samples_leaf': 10}\n"
     ]
    }
   ],
   "source": [
    "#  Hyperparameter tuning to improve decision tree performance\n",
    "param_grid_dt = {'criterion': ['gini', 'entropy'],\n",
    "                 'max_depth' : [15, 20, 25, 30],\n",
    "                 'min_samples_leaf':[5,10,15,20],\n",
    "                 'max_features':['auto','log2','sqrt',None] \n",
    "                }\n",
    "\n",
    "grid_dt = GridSearchCV(estimator=dt_clf, \n",
    "                       param_grid=param_grid_dt,\n",
    "                       verbose=1,\n",
    "                       scoring='f1_weighted',\n",
    "                       n_jobs=-1,\n",
    "                       cv=4)\n",
    "grid_dt.fit(X_train, y_train)\n",
    "print(grid_dt.best_params_)"
   ]
  },
  {
   "cell_type": "code",
   "execution_count": 82,
   "metadata": {},
   "outputs": [
    {
     "name": "stdout",
     "output_type": "stream",
     "text": [
      "ACC : 0.7772241992882563\n",
      "              precision    recall  f1-score   support\n",
      "\n",
      "           0       0.79      0.82      0.80      1049\n",
      "           1       0.76      0.79      0.78       777\n",
      "           2       0.71      0.71      0.71      1009\n",
      "           3       0.85      0.82      0.83      1013\n",
      "           4       0.76      0.69      0.73       367\n",
      "\n",
      "    accuracy                           0.78      4215\n",
      "   macro avg       0.77      0.77      0.77      4215\n",
      "weighted avg       0.78      0.78      0.78      4215\n",
      "\n"
     ]
    }
   ],
   "source": [
    "dt_clf_tune=DecisionTreeClassifier(criterion='gini', max_depth= 25, max_features= None, min_samples_leaf= 10)\n",
    "dt_clf_tune.fit(X_train, y_train)\n",
    "y_pred_dt = dt_clf_tune.predict(X_test)\n",
    "\n",
    "# Metric evalution:\n",
    "clf_report = classification_report(y_test,y_pred_dt)\n",
    "print(F'ACC : {accuracy_score(y_test,y_pred_dt)}')\n",
    "print(clf_report)"
   ]
  },
  {
   "cell_type": "code",
   "execution_count": 83,
   "metadata": {},
   "outputs": [
    {
     "name": "stdout",
     "output_type": "stream",
     "text": [
      "[[861  34  99  44  11]\n",
      " [ 30 617  83  14  33]\n",
      " [131  81 713  66  18]\n",
      " [ 54  33  79 830  17]\n",
      " [ 15  45  28  24 255]]\n"
     ]
    }
   ],
   "source": [
    "DT_cm = confusion_matrix(y_test,y_pred_dt)\n",
    "print(DT_cm)"
   ]
  },
  {
   "cell_type": "code",
   "execution_count": null,
   "metadata": {},
   "outputs": [],
   "source": []
  },
  {
   "cell_type": "markdown",
   "metadata": {},
   "source": [
    "#### Random Forest"
   ]
  },
  {
   "cell_type": "code",
   "execution_count": 84,
   "metadata": {},
   "outputs": [],
   "source": [
    "X_train = copy.deepcopy(X_train_copy)\n",
    "X_test = copy.deepcopy(X_test_copy)\n",
    "y_train = copy.deepcopy(y_train_copy)\n",
    "y_test = copy.deepcopy(y_test_copy)"
   ]
  },
  {
   "cell_type": "code",
   "execution_count": 85,
   "metadata": {},
   "outputs": [
    {
     "name": "stdout",
     "output_type": "stream",
     "text": [
      "ACC : 0.8453143534994069\n",
      "              precision    recall  f1-score   support\n",
      "\n",
      "           0       0.84      0.91      0.87      1049\n",
      "           1       0.78      0.85      0.81       777\n",
      "           2       0.85      0.75      0.80      1009\n",
      "           3       0.89      0.89      0.89      1013\n",
      "           4       0.88      0.81      0.85       367\n",
      "\n",
      "    accuracy                           0.85      4215\n",
      "   macro avg       0.85      0.84      0.84      4215\n",
      "weighted avg       0.85      0.85      0.84      4215\n",
      "\n"
     ]
    }
   ],
   "source": [
    "rf = RandomForestClassifier(n_estimators= 50)\n",
    "rf.fit(X_train,y_train)\n",
    "\n",
    "y_pred_rf = rf.predict(X_test)\n",
    "\n",
    "\n",
    "# Metric evalution:\n",
    "clf_report = classification_report(y_test,y_pred_rf)\n",
    "print(F'ACC : {accuracy_score(y_test,y_pred_rf)}')\n",
    "print(clf_report)"
   ]
  },
  {
   "cell_type": "code",
   "execution_count": 86,
   "metadata": {},
   "outputs": [
    {
     "name": "stdout",
     "output_type": "stream",
     "text": [
      "Fitting 4 folds for each of 48 candidates, totalling 192 fits\n",
      "{'bootstrap': False, 'max_depth': None, 'min_samples_leaf': 1, 'min_samples_split': 20, 'n_estimators': 125}\n"
     ]
    }
   ],
   "source": [
    "# Hyperparameter tuning to improve performance of the model:\n",
    "param_grid_rf = {\n",
    "'n_estimators' : [50,100,125],# Number of trees in random forest\n",
    "'max_depth' : [10,None], # Maximum number of levels in tree\n",
    "'min_samples_split' : [2, 20],  # Minimum number of samples required to split a node\n",
    "'min_samples_leaf' : [1, 20],    # Minimum number of samples required at each leaf node\n",
    "'bootstrap' : [True, False]   # Method of selecting samples for training each tree\n",
    "                }\n",
    "\n",
    "grid_rf = GridSearchCV(estimator=rf, \n",
    "                       param_grid=param_grid_rf,\n",
    "                       verbose=1,\n",
    "                       scoring='f1_weighted',\n",
    "                       n_jobs=-1,\n",
    "                       cv=4)\n",
    "grid_rf.fit(X_train, y_train)\n",
    "print(grid_rf.best_params_)"
   ]
  },
  {
   "cell_type": "code",
   "execution_count": 87,
   "metadata": {},
   "outputs": [
    {
     "name": "stdout",
     "output_type": "stream",
     "text": [
      "ACC : 0.8609727164887307\n",
      "              precision    recall  f1-score   support\n",
      "\n",
      "           0       0.86      0.92      0.88      1049\n",
      "           1       0.80      0.87      0.83       777\n",
      "           2       0.87      0.77      0.82      1009\n",
      "           3       0.91      0.90      0.90      1013\n",
      "           4       0.89      0.84      0.86       367\n",
      "\n",
      "    accuracy                           0.86      4215\n",
      "   macro avg       0.86      0.86      0.86      4215\n",
      "weighted avg       0.86      0.86      0.86      4215\n",
      "\n"
     ]
    }
   ],
   "source": [
    "rf_clf_tune=RandomForestClassifier(bootstrap= True, max_depth= None, max_features= 'auto', min_samples_leaf= 1, min_samples_split= 2, n_estimators= 125)\n",
    "rf_clf_tune.fit(X_train, y_train)\n",
    "y_pred_rf = rf_clf_tune.predict(X_test)\n",
    "\n",
    "# Metric evalution:\n",
    "clf_report = classification_report(y_test,y_pred_rf)\n",
    "print(F'ACC : {accuracy_score(y_test,y_pred_rf)}')\n",
    "print(clf_report)"
   ]
  },
  {
   "cell_type": "code",
   "execution_count": 88,
   "metadata": {},
   "outputs": [
    {
     "name": "stdout",
     "output_type": "stream",
     "text": [
      "[[960  35  33  14   7]\n",
      " [ 19 676  62  11   9]\n",
      " [102  63 778  51  15]\n",
      " [ 35  44  18 907   9]\n",
      " [  5  31   5  18 308]]\n"
     ]
    }
   ],
   "source": [
    "RF_cm = confusion_matrix(y_test,y_pred_rf)\n",
    "print(RF_cm)"
   ]
  },
  {
   "cell_type": "code",
   "execution_count": null,
   "metadata": {},
   "outputs": [],
   "source": []
  },
  {
   "cell_type": "markdown",
   "metadata": {},
   "source": [
    "#### Naive Bayes"
   ]
  },
  {
   "cell_type": "code",
   "execution_count": 89,
   "metadata": {},
   "outputs": [],
   "source": [
    "X_train = copy.deepcopy(X_train_copy)\n",
    "X_test = copy.deepcopy(X_test_copy)\n",
    "y_train = copy.deepcopy(y_train_copy)\n",
    "y_test = copy.deepcopy(y_test_copy)"
   ]
  },
  {
   "cell_type": "code",
   "execution_count": 90,
   "metadata": {},
   "outputs": [
    {
     "name": "stdout",
     "output_type": "stream",
     "text": [
      "ACC : 0.7947805456702254\n",
      "              precision    recall  f1-score   support\n",
      "\n",
      "           0       0.83      0.89      0.86      1049\n",
      "           1       0.74      0.68      0.71       777\n",
      "           2       0.77      0.75      0.76      1009\n",
      "           3       0.80      0.89      0.84      1013\n",
      "           4       0.87      0.63      0.73       367\n",
      "\n",
      "    accuracy                           0.79      4215\n",
      "   macro avg       0.80      0.77      0.78      4215\n",
      "weighted avg       0.80      0.79      0.79      4215\n",
      "\n"
     ]
    }
   ],
   "source": [
    "NB = MultinomialNB()\n",
    "NB.fit(X_train,y_train)\n",
    "\n",
    "y_pred = NB.predict(X_test)\n",
    "\n",
    "# Metric evalution:\n",
    "clf_report = classification_report(y_test,y_pred)\n",
    "print(F'ACC : {accuracy_score(y_test,y_pred)}')\n",
    "print(clf_report)"
   ]
  },
  {
   "cell_type": "code",
   "execution_count": 91,
   "metadata": {},
   "outputs": [
    {
     "name": "stdout",
     "output_type": "stream",
     "text": [
      "[[930  36  41  35   7]\n",
      " [ 52 531 136  49   9]\n",
      " [ 92  56 759  89  13]\n",
      " [ 40  44  25 900   4]\n",
      " [  9  55  19  54 230]]\n"
     ]
    }
   ],
   "source": [
    "NB_cm = confusion_matrix(y_test,y_pred)\n",
    "print(NB_cm)"
   ]
  },
  {
   "cell_type": "code",
   "execution_count": null,
   "metadata": {},
   "outputs": [],
   "source": []
  },
  {
   "cell_type": "markdown",
   "metadata": {},
   "source": [
    "## We will go with the Logistic regression model since it is giving us the highest avg accuracy and F1 score."
   ]
  },
  {
   "cell_type": "code",
   "execution_count": null,
   "metadata": {},
   "outputs": [],
   "source": []
  },
  {
   "cell_type": "markdown",
   "metadata": {},
   "source": [
    "#### Model inference"
   ]
  },
  {
   "cell_type": "code",
   "execution_count": 92,
   "metadata": {},
   "outputs": [],
   "source": [
    "with open('Logit_pkl' , 'rb') as file:\n",
    "    LogitModel = pickle.load(file)\n",
    "    \n",
    "with open('CountVec_pkl', 'rb') as file:\n",
    "    CountVec = pickle.load(file)\n",
    "    \n",
    "with open('TfidfTransformer_pkl', 'rb') as file:\n",
    "    TfidfTransformer = pickle.load(file)"
   ]
  },
  {
   "cell_type": "code",
   "execution_count": 93,
   "metadata": {},
   "outputs": [],
   "source": [
    "def get_key(val):\n",
    "    for key, value in Topic_names.items():\n",
    "         if val == value:\n",
    "             return key"
   ]
  },
  {
   "cell_type": "code",
   "execution_count": 94,
   "metadata": {},
   "outputs": [],
   "source": [
    "sent1 = 'Fraudulent activity on my statement.I want to raise file case.'\n",
    "sent2 = 'I want to add nominee to my savings account.'\n",
    "sent3 = 'I want to apply for the loan amount of 10 million.'\n",
    "sent4 = 'I want to get another credit card. My credit score is good.'\n",
    "sent5 = \"Please remove inquiries which are made by my significant other.\""
   ]
  },
  {
   "cell_type": "code",
   "execution_count": 95,
   "metadata": {},
   "outputs": [],
   "source": [
    "custom_complaints = { 'sent' : [sent1,sent2,sent3,sent4,sent5] }\n",
    "custom_complaints_df = pd.DataFrame(custom_complaints)"
   ]
  },
  {
   "cell_type": "code",
   "execution_count": 96,
   "metadata": {},
   "outputs": [
    {
     "data": {
      "text/html": [
       "<div>\n",
       "<style scoped>\n",
       "    .dataframe tbody tr th:only-of-type {\n",
       "        vertical-align: middle;\n",
       "    }\n",
       "\n",
       "    .dataframe tbody tr th {\n",
       "        vertical-align: top;\n",
       "    }\n",
       "\n",
       "    .dataframe thead th {\n",
       "        text-align: right;\n",
       "    }\n",
       "</style>\n",
       "<table border=\"1\" class=\"dataframe\">\n",
       "  <thead>\n",
       "    <tr style=\"text-align: right;\">\n",
       "      <th></th>\n",
       "      <th>sent</th>\n",
       "    </tr>\n",
       "  </thead>\n",
       "  <tbody>\n",
       "    <tr>\n",
       "      <th>0</th>\n",
       "      <td>Fraudulent activity on my statement.I want to raise file case.</td>\n",
       "    </tr>\n",
       "    <tr>\n",
       "      <th>1</th>\n",
       "      <td>I want to add nominee to my savings account.</td>\n",
       "    </tr>\n",
       "    <tr>\n",
       "      <th>2</th>\n",
       "      <td>I want to apply for the loan amount of 10 million.</td>\n",
       "    </tr>\n",
       "    <tr>\n",
       "      <th>3</th>\n",
       "      <td>I want to get another credit card. My credit score is good.</td>\n",
       "    </tr>\n",
       "    <tr>\n",
       "      <th>4</th>\n",
       "      <td>Please remove inquiries which are made by my significant other.</td>\n",
       "    </tr>\n",
       "  </tbody>\n",
       "</table>\n",
       "</div>"
      ],
      "text/plain": [
       "                                                              sent\n",
       "0   Fraudulent activity on my statement.I want to raise file case.\n",
       "1                     I want to add nominee to my savings account.\n",
       "2               I want to apply for the loan amount of 10 million.\n",
       "3      I want to get another credit card. My credit score is good.\n",
       "4  Please remove inquiries which are made by my significant other."
      ]
     },
     "execution_count": 96,
     "metadata": {},
     "output_type": "execute_result"
    }
   ],
   "source": [
    "custom_complaints_df"
   ]
  },
  {
   "cell_type": "code",
   "execution_count": 97,
   "metadata": {},
   "outputs": [],
   "source": [
    "def inference(text):\n",
    "    sent_vect = CountVec.transform([text])\n",
    "    sent_tfidf = TfidfTransformer.transform(sent_vect)\n",
    "    sent_pred = LogitModel.predict(sent_tfidf)\n",
    "    return get_key(sent_pred)"
   ]
  },
  {
   "cell_type": "code",
   "execution_count": 98,
   "metadata": {},
   "outputs": [],
   "source": [
    "custom_complaints_df['prediction'] = custom_complaints_df.sent.apply(inference)"
   ]
  },
  {
   "cell_type": "code",
   "execution_count": 99,
   "metadata": {},
   "outputs": [
    {
     "data": {
      "text/html": [
       "<div>\n",
       "<style scoped>\n",
       "    .dataframe tbody tr th:only-of-type {\n",
       "        vertical-align: middle;\n",
       "    }\n",
       "\n",
       "    .dataframe tbody tr th {\n",
       "        vertical-align: top;\n",
       "    }\n",
       "\n",
       "    .dataframe thead th {\n",
       "        text-align: right;\n",
       "    }\n",
       "</style>\n",
       "<table border=\"1\" class=\"dataframe\">\n",
       "  <thead>\n",
       "    <tr style=\"text-align: right;\">\n",
       "      <th></th>\n",
       "      <th>sent</th>\n",
       "      <th>prediction</th>\n",
       "    </tr>\n",
       "  </thead>\n",
       "  <tbody>\n",
       "    <tr>\n",
       "      <th>0</th>\n",
       "      <td>Fraudulent activity on my statement.I want to raise file case.</td>\n",
       "      <td>Theft/Dispute Reporting</td>\n",
       "    </tr>\n",
       "    <tr>\n",
       "      <th>1</th>\n",
       "      <td>I want to add nominee to my savings account.</td>\n",
       "      <td>Bank Account services</td>\n",
       "    </tr>\n",
       "    <tr>\n",
       "      <th>2</th>\n",
       "      <td>I want to apply for the loan amount of 10 million.</td>\n",
       "      <td>Mortgage/Loan</td>\n",
       "    </tr>\n",
       "    <tr>\n",
       "      <th>3</th>\n",
       "      <td>I want to get another credit card. My credit score is good.</td>\n",
       "      <td>Credit card or prepaid card</td>\n",
       "    </tr>\n",
       "    <tr>\n",
       "      <th>4</th>\n",
       "      <td>Please remove inquiries which are made by my significant other.</td>\n",
       "      <td>Others</td>\n",
       "    </tr>\n",
       "  </tbody>\n",
       "</table>\n",
       "</div>"
      ],
      "text/plain": [
       "                                                              sent  \\\n",
       "0   Fraudulent activity on my statement.I want to raise file case.   \n",
       "1                     I want to add nominee to my savings account.   \n",
       "2               I want to apply for the loan amount of 10 million.   \n",
       "3      I want to get another credit card. My credit score is good.   \n",
       "4  Please remove inquiries which are made by my significant other.   \n",
       "\n",
       "                    prediction  \n",
       "0      Theft/Dispute Reporting  \n",
       "1        Bank Account services  \n",
       "2                Mortgage/Loan  \n",
       "3  Credit card or prepaid card  \n",
       "4                       Others  "
      ]
     },
     "execution_count": 99,
     "metadata": {},
     "output_type": "execute_result"
    }
   ],
   "source": [
    "custom_complaints_df"
   ]
  },
  {
   "cell_type": "code",
   "execution_count": null,
   "metadata": {},
   "outputs": [],
   "source": []
  },
  {
   "cell_type": "markdown",
   "metadata": {},
   "source": [
    "## Conclusion\n",
    "* We have performed topic modelling to get latent themes from the data.\n",
    "* After getting latent topics we grouped and labelled the data to desired classes which can be then used for classification.\n",
    "* We acknowldge that there is a lot more scope for further improvement with more detailed preprocessing and feature extraction and hyperparameter tuning. \n",
    "* We can also use models such as LDA or PLSA for topic modelling which are more popular."
   ]
  },
  {
   "cell_type": "code",
   "execution_count": 100,
   "metadata": {},
   "outputs": [
    {
     "name": "stdout",
     "output_type": "stream",
     "text": [
      "Done\n"
     ]
    }
   ],
   "source": [
    "print('Done')"
   ]
  }
 ],
 "metadata": {
  "colab": {
   "collapsed_sections": [
    "T9jD_6SeJrF3",
    "5DfCSbbmJrF4",
    "yYzD85nTJrGA",
    "piyLxzj6v07j",
    "280Vbqk-7a8M"
   ],
   "name": "Automatic_Ticket_Classification_Assignment.ipynb",
   "provenance": []
  },
  "kernelspec": {
   "display_name": "Python 3 (ipykernel)",
   "language": "python",
   "name": "python3"
  },
  "language_info": {
   "codemirror_mode": {
    "name": "ipython",
    "version": 3
   },
   "file_extension": ".py",
   "mimetype": "text/x-python",
   "name": "python",
   "nbconvert_exporter": "python",
   "pygments_lexer": "ipython3",
   "version": "3.9.7"
  }
 },
 "nbformat": 4,
 "nbformat_minor": 1
}
